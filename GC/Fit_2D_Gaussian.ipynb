{
 "cells": [
  {
   "cell_type": "code",
   "execution_count": null,
   "metadata": {
    "collapsed": false
   },
   "outputs": [],
   "source": [
    "import os\n",
    "from astropy.io import fits\n",
    "from astropy.wcs import WCS\n",
    "from astropy.modeling import models, fitting\n",
    "import numpy \n",
    "from scipy import optimize\n",
    "from matplotlib import pyplot\n",
    "%matplotlib inline\n",
    "#%matplotlib notebook\n",
    "import aplpy\n",
    "\n"
   ]
  },
  {
   "cell_type": "markdown",
   "metadata": {},
   "source": [
    "<h2> Open data file "
   ]
  },
  {
   "cell_type": "code",
   "execution_count": null,
   "metadata": {
    "collapsed": false
   },
   "outputs": [],
   "source": [
    "#ROOTfile = \"./release_galactic_skymap_fixed_head.fits\"\n",
    "ROOTfile = \"./SgrA_galactic_uncorrelated_excess_map_fixedhead.fits\"\n",
    "HDUlist = fits.open(ROOTfile)\n",
    "HDUlist.info()\n",
    "gal_wcs = WCS(HDUlist[0].header)\n",
    "print(gal_wcs)\n",
    "HDUlist.close()\n"
   ]
  },
  {
   "cell_type": "code",
   "execution_count": null,
   "metadata": {
    "collapsed": false
   },
   "outputs": [],
   "source": [
    "fig_apl = aplpy.FITSFigure(ROOTfile)\n",
    "#fig_apl.show_colorscale( smooth=3, vmin=-5., vmax=5.) #cmap='hot',\n",
    "\n",
    "col_bar = fig_apl.show_colorbar()\n",
    "#fig_apl.recenter(0., 0., width=3., height=2.)\n",
    "\n",
    "#col_bar\n"
   ]
  },
  {
   "cell_type": "code",
   "execution_count": null,
   "metadata": {
    "collapsed": false
   },
   "outputs": [],
   "source": [
    "excess_data, skymap_header = fits.getdata(ROOTfile, header = True)\n",
    "\n",
    "excess_data_N = numpy.nan_to_num(excess_data) # rm nan's for fitting \n"
   ]
  },
  {
   "cell_type": "code",
   "execution_count": null,
   "metadata": {
    "collapsed": true
   },
   "outputs": [],
   "source": [
    "\n",
    "#print(skymap_header)\n",
    "# G0.9+0.1\n",
    "#print(excess_data_N[121:123,83:85])\n",
    "#numpy.where(excess_data_N > 100)\n",
    "# looks like the x/y axes are flipped, and there is a shift of 1 vs ds9\n"
   ]
  },
  {
   "cell_type": "markdown",
   "metadata": {},
   "source": [
    "<h2> Create coordinate arrays"
   ]
  },
  {
   "cell_type": "code",
   "execution_count": null,
   "metadata": {
    "collapsed": false
   },
   "outputs": [],
   "source": [
    "x_bins = excess_data.shape[0]\n",
    "y_bins = excess_data.shape[1]\n",
    "\n",
    "# Create x and y indices\n",
    "x = numpy.linspace(0, x_bins-1, x_bins)\n",
    "y = numpy.linspace(0, y_bins-1, y_bins)\n",
    "x, y = numpy.meshgrid(x, y)\n",
    "coords = x, y\n",
    "\n",
    "x_world, y_world = fig_apl.pixel2world(x,y)\n",
    "coords_world = x_world, y_world\n",
    "\n",
    "print(fig_apl.world2pixel(359.944,-0.046)) #SgrA\n",
    "print(fig_apl.world2pixel(0.050,-0.150)) #J1746\n",
    "print(fig_apl.world2pixel(.87,.08)) #G09\n"
   ]
  },
  {
   "cell_type": "markdown",
   "metadata": {},
   "source": [
    "<h2> Fitting Central Gaussian\n"
   ]
  },
  {
   "cell_type": "code",
   "execution_count": null,
   "metadata": {
    "collapsed": false
   },
   "outputs": [],
   "source": [
    "SgrA_bounds = {'amplitude':(10,75), 'x_mean':(119,121), 'y_mean':(119,121), 'x_stddev':(0.25,3.), 'y_stddev':(0.25,3.), 'theta':(-1.,1.)}\n",
    "SgrA_gauss = models.Gaussian2D(amplitude=30, x_mean=120, y_mean=120, x_stddev=1, y_stddev=1, theta=0, bounds=SgrA_bounds)\n",
    "SgrA_bounds_2 = {'amplitude':(0.,25.), 'x_mean':(119,121), 'y_mean':(119,121), 'x_stddev':(3,10), 'y_stddev':(3,10), 'theta':(-1.,1.)}\n",
    "SgrA_gauss_2 = models.Gaussian2D(amplitude=10, x_mean=120, y_mean=120, x_stddev=3, y_stddev=3, theta=0, bounds=SgrA_bounds_2)\n",
    "J1746_bounds = {'amplitude':(5,15), 'x_mean':(115,117), 'y_mean':(115,117), 'x_stddev':(3,10), 'y_stddev':(3,10), 'theta':(-1.,1.)}\n",
    "J1746_gauss = models.Gaussian2D(amplitude=10, x_mean=116, y_mean=116, x_stddev=3, y_stddev=3, theta=0, bounds=J1746_bounds)\n",
    "sum_gauss = SgrA_gauss + SgrA_gauss_2 + J1746_gauss\n"
   ]
  },
  {
   "cell_type": "code",
   "execution_count": null,
   "metadata": {
    "collapsed": false
   },
   "outputs": [],
   "source": [
    "fit_p = fitting.LevMarLSQFitter()\n",
    "fit_gauss = fit_p(sum_gauss, x, y, excess_data_N, maxiter=5000)\n",
    "# try to add in sigma, or do this with curve_fit \n",
    "\n",
    "for i in range(0,len(fit_gauss.parameters)):\n",
    "    paramline = fit_gauss.param_names[i] + \": \" + str(fit_gauss.parameters[i])\n",
    "    print(paramline)\n"
   ]
  },
  {
   "cell_type": "code",
   "execution_count": null,
   "metadata": {
    "collapsed": false
   },
   "outputs": [],
   "source": [
    "SgrA_double = SgrA_gauss + SgrA_gauss_2\n",
    "fit_SgrA = fitting.LevMarLSQFitter()\n",
    "SgrA_fit = fit_SgrA(SgrA_gauss, x, y, excess_data_N, maxiter=2500)\n",
    "\n",
    "print(SgrA_fit.parameters)\n"
   ]
  },
  {
   "cell_type": "code",
   "execution_count": null,
   "metadata": {
    "collapsed": true
   },
   "outputs": [],
   "source": [
    "background_model = models.Box2D\n"
   ]
  },
  {
   "cell_type": "code",
   "execution_count": null,
   "metadata": {
    "collapsed": false
   },
   "outputs": [],
   "source": [
    "print(fit_p.fit_info['message'])\n",
    "#print(type(fit_gauss.x_mean_0))\n",
    "print(fit_gauss.x_stddev_0.value)\n",
    "\n",
    "print(fig_apl.pixel2world(fit_gauss.x_mean_0.value,fit_gauss.y_mean_0.value))\n",
    "print(fig_apl.pixel2world(fit_gauss.x_mean_1.value,fit_gauss.y_mean_1.value))\n",
    "\n",
    "zero_pixel = fig_apl.world2pixel(0,0)\n",
    "print(zero_pixel)\n",
    "\n",
    "print(fig_apl.pixel2world(zero_pixel[0]-fit_gauss.x_stddev_1.value,zero_pixel[1]+fit_gauss.y_stddev_1.value))\n",
    "\n",
    "#fig_ps = pyplot.figure()\n",
    "#pyplot.imshow(pointsource_excess)\n"
   ]
  },
  {
   "cell_type": "code",
   "execution_count": null,
   "metadata": {
    "collapsed": false
   },
   "outputs": [],
   "source": [
    "pointsource_filename = \"./central_point_excesses.fits\"\n",
    "pointsource_excess = fit_gauss(x,y)\n",
    "\n",
    "if not os.path.exists(pointsource_filename):\n",
    "    fits.writeto(pointsource_filename, pointsource_excess, skymap_header, clobber=True)\n"
   ]
  },
  {
   "cell_type": "code",
   "execution_count": null,
   "metadata": {
    "collapsed": false
   },
   "outputs": [],
   "source": [
    "fig_apl = aplpy.FITSFigure(pointsource_filename)\n",
    "fig_apl.show_colorscale(vmin=-1,vmax=50)\n",
    "#fig_apl\n"
   ]
  },
  {
   "cell_type": "markdown",
   "metadata": {},
   "source": [
    "<h2> Excess after subtraction of central sources"
   ]
  },
  {
   "cell_type": "code",
   "execution_count": null,
   "metadata": {
    "collapsed": false
   },
   "outputs": [],
   "source": [
    "central_subtraction_filename = \"./central_subtraction_excess.fits\"\n",
    "residual_skymap = excess_data - pointsource_excess \n",
    "\n",
    "fits.writeto(central_subtraction_filename, residual_skymap, skymap_header, clobber=True)"
   ]
  },
  {
   "cell_type": "code",
   "execution_count": null,
   "metadata": {
    "collapsed": false
   },
   "outputs": [],
   "source": [
    "fig_apl = aplpy.FITSFigure(central_subtraction_filename)\n",
    "fig_apl.show_colorscale( smooth=3, cmap='hot' ) #cmap='hot',\n",
    "col_bar = fig_apl.show_colorbar()\n",
    "fig_apl.recenter(0., 0., width=3., height=2.)\n"
   ]
  },
  {
   "cell_type": "markdown",
   "metadata": {
    "collapsed": false
   },
   "source": [
    "<h2> Fitting G0.9+0.1\n"
   ]
  },
  {
   "cell_type": "code",
   "execution_count": null,
   "metadata": {
    "collapsed": false
   },
   "outputs": [],
   "source": [
    "G09_bounds = {'x_mean':(81,85), 'y_mean':(123,127)}\n",
    "G09_gauss = models.Gaussian2D(amplitude=20,x_mean=83,y_mean=125,x_stddev=2.,y_stddev=2.,bounds=G09_bounds)\n",
    "\n",
    "fitter_G09 = fitting.LevMarLSQFitter()\n",
    "fit_G09 = fit_p(G09_gauss, x, y, excess_data_N, maxiter=1000)\n",
    "\n",
    "print(fit_G09.parameters)\n"
   ]
  },
  {
   "cell_type": "code",
   "execution_count": null,
   "metadata": {
    "collapsed": false
   },
   "outputs": [],
   "source": [
    "G09_filename = \"./G09_excesses.fits\"\n",
    "G09_excess = fit_gauss(x,y)\n",
    "\n",
    "fig_G09 = pyplot.figure()\n",
    "pyplot.imshow(G09_excess)\n",
    "\n",
    "#fits.writeto(pointsource_filename, pointsource_excess, skymap_header, clobber=False)\n"
   ]
  },
  {
   "cell_type": "code",
   "execution_count": null,
   "metadata": {
    "collapsed": true
   },
   "outputs": [],
   "source": [
    "residual_G09 = residual_skymap - G09_excess\n"
   ]
  },
  {
   "cell_type": "code",
   "execution_count": null,
   "metadata": {
    "collapsed": false
   },
   "outputs": [],
   "source": [
    "fig_residual_G09 = pyplot.figure(figsize=(10,10))\n",
    "fig_residual_G09.suptitle(\"Sgr A* Subtracted Excess Map\")\n",
    "ax = fig_residual_G09.add_subplot(2,1,1)\n",
    "ax.set_xlabel(\"Galactic Longitude\")\n",
    "ax.set_ylabel(\"Galactic Latitude\")\n",
    "pyplot.axis([50,190,80,150])\n",
    "pyplot.imshow(residual_G09)\n",
    "cbar = pyplot.colorbar()\n",
    "#cbar.solids.set_edgecolors('face')\n",
    "\n",
    "ax = fig_residual_G09.add_subplot(2,1,2)\n",
    "ax.set_xlabel(\"Galactic Longitude\")\n",
    "ax.set_ylabel(\"Galactic Latitude\")\n",
    "pyplot.axis([50,190,80,150])\n",
    "pyplot.imshow(residual_G09)\n",
    "cbar = pyplot.colorbar()\n",
    "#cbar.solids.set_edgecolors('face')\n"
   ]
  },
  {
   "cell_type": "markdown",
   "metadata": {},
   "source": [
    "<h2>FITS figure of partially subtracted map"
   ]
  },
  {
   "cell_type": "code",
   "execution_count": null,
   "metadata": {
    "collapsed": false
   },
   "outputs": [],
   "source": [
    "outFilename = \"./subtracted_skymap_G09.fits\"\n",
    "\n",
    "fits.writeto(outFilename, residual_G09, skymap_header, clobber=True)\n"
   ]
  },
  {
   "cell_type": "code",
   "execution_count": null,
   "metadata": {
    "collapsed": true
   },
   "outputs": [],
   "source": []
  },
  {
   "cell_type": "markdown",
   "metadata": {},
   "source": [
    "<h2> Other stuff.."
   ]
  },
  {
   "cell_type": "code",
   "execution_count": null,
   "metadata": {
    "collapsed": false
   },
   "outputs": [],
   "source": [
    "fig_apl = aplpy.FITSFigure(outFilename)\n",
    "fig_apl.show_colorscale(cmap='hot', smooth=5) # vmin=0, vmax=8\n",
    "col_bar = fig_apl.show_colorbar()\n",
    "#col_bar\n"
   ]
  },
  {
   "cell_type": "code",
   "execution_count": null,
   "metadata": {
    "collapsed": false
   },
   "outputs": [],
   "source": [
    "\n",
    "p_opt_G0901, p_cov_G0901 = optimize.curve_fit(TwoD_Gaussian, coords_world, residual_skymap.ravel(), p0=init_guess_G0901)\n",
    "print(p_opt_G0901)"
   ]
  },
  {
   "cell_type": "code",
   "execution_count": null,
   "metadata": {
    "collapsed": false
   },
   "outputs": [],
   "source": [
    "#fig_residual = pyplot.figure(figsize=(8,8))\n",
    "fig_residual = pyplot.figure()\n",
    "pyplot.axis([50,190,80,150])\n",
    "pyplot.imshow(residual_skymap)\n",
    "pyplot.Circle((120,120), 50)\n",
    "\n",
    "cbar = pyplot.colorbar()\n",
    "cbar.solids.set_edgecolors('face')\n",
    "\n",
    "#fig_residual.set_axes\n"
   ]
  },
  {
   "cell_type": "code",
   "execution_count": null,
   "metadata": {
    "collapsed": false
   },
   "outputs": [],
   "source": [
    "# print(x)\n",
    "# print(x_world)\n",
    "# print(x_world[2,6])\n",
    "# print(y_world[239,6])\n",
    "\n",
    "print(fig_apl.pixel2world(100,180))\n",
    "print(fig_apl.pixel2world(101,180))\n",
    "\n",
    "#excess_data_N[81:85,123:127]\n",
    "#xworld = fig_apl.pixel2world()\n",
    "\n",
    "models.Gaussian2D?\n"
   ]
  },
  {
   "cell_type": "markdown",
   "metadata": {},
   "source": [
    "fermi tools\n",
    "maximum likelihood\n",
    "Wilke's theorem "
   ]
  }
 ],
 "metadata": {
  "kernelspec": {
   "display_name": "Python 3",
   "language": "python",
   "name": "python3"
  },
  "language_info": {
   "codemirror_mode": {
    "name": "ipython",
    "version": 3
   },
   "file_extension": ".py",
   "mimetype": "text/x-python",
   "name": "python",
   "nbconvert_exporter": "python",
   "pygments_lexer": "ipython3",
   "version": "3.5.1"
  }
 },
 "nbformat": 4,
 "nbformat_minor": 0
}
