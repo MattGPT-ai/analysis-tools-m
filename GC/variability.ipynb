{
 "cells": [
  {
   "cell_type": "code",
   "execution_count": null,
   "metadata": {
    "collapsed": false
   },
   "outputs": [],
   "source": [
    "import numpy as np \n",
    "from matplotlib import pyplot as plt\n",
    "%matplotlib inline\n",
    "from astropy.stats import bayesian_blocks\n",
    "from os.path import expanduser\n"
   ]
  },
  {
   "cell_type": "code",
   "execution_count": null,
   "metadata": {
    "collapsed": true
   },
   "outputs": [],
   "source": [
    "home = expanduser('~')\n",
    "gc_dir = home + \"/Dropbox/GalacticCenter/\""
   ]
  },
  {
   "cell_type": "markdown",
   "metadata": {},
   "source": [
    "<h2> Extract and plot points from lightcurve "
   ]
  },
  {
   "cell_type": "code",
   "execution_count": null,
   "metadata": {
    "collapsed": true
   },
   "outputs": [],
   "source": [
    "# set the energy limits \n",
    "E = 0 "
   ]
  },
  {
   "cell_type": "code",
   "execution_count": null,
   "metadata": {
    "collapsed": false
   },
   "outputs": [],
   "source": [
    "# extract the lightcurve data points\n",
    "\n",
    "lc_data = np.genfromtxt(gc_dir+\"/results/lightcurve_SgrA_daily_points_v254.txt\") \n",
    "#lc_data = np.genfromtxt(gc_dir+\"/log/lightCurves/SgrA_lightCurve_both_4tels_all_E\"+str(E)+\"_annual_points.txt\")\n",
    "#lc_data = np.genfromtxt(gc_dir+\"/log/lightCurves/SgrA_lightCurve_both_E\"+str(E)+\"_annual_points.txt\")\n",
    "\n",
    "lc_data_points = []\n",
    "for i in range(len(lc_data[:,0])):\n",
    "    if lc_data[i,3] != 0 and lc_data[i,1] > 0.: # \n",
    "        lc_data_points.append(lc_data[i,:])\n",
    "\n",
    "lc_data_points = np.array(lc_data_points) \n",
    "\n",
    "\n",
    "MJD_array = np.array(lc_data_points[:,0], dtype=np.float64)\n",
    "flux_obs_array = np.array(lc_data_points[:,1], dtype=np.float64) #  / (m^2 * s)\n",
    "flux_err_array = np.array(lc_data_points[:,2], dtype=np.float64)\n",
    "livetime_array = np.array(lc_data_points[:,3], dtype=np.float64)\n",
    "\n",
    "#print(flux_obs_array)\n",
    "#log = list(map(lambda l: np.log10(l), _array))\n"
   ]
  },
  {
   "cell_type": "code",
   "execution_count": null,
   "metadata": {
    "collapsed": false
   },
   "outputs": [],
   "source": [
    "fluxtime_array = flux_obs_array * livetime_array\n",
    "\n",
    "# find the total livetime and mean flux \n",
    "total_livetime = np.sum(livetime_array)\n",
    "mean_flux = np.sum(fluxtime_array) / total_livetime\n",
    "print(mean_flux)\n"
   ]
  },
  {
   "cell_type": "code",
   "execution_count": null,
   "metadata": {
    "collapsed": false
   },
   "outputs": [],
   "source": [
    "#lc_data = list(filter((0).__ne__, )\n",
    "\n",
    "#flux_obs_array[ flux_obs_array==0 ] = np.nan\n",
    "#flux_err_array[ flux_err_array==0 ] = np.nan\n",
    "#fluxtime_array[ fluxtime_array==0 ] = np.nan\n",
    "\n",
    "# remove empty points, marked as 0's \n",
    "#flux_obs_array = np.array(list(filter((0.0).__ne__, lc_data[:,1])), dtype=np.float64)\n",
    "#flux_err_array = np.array(list(filter((0.0).__ne__, lc_data[:,2])), dtype=np.float64)\n",
    "#livetime_array = np.array(list(filter((0.0).__ne__, lc_data[:,3])), dtype=np.float64)\n"
   ]
  },
  {
   "cell_type": "code",
   "execution_count": null,
   "metadata": {
    "collapsed": false
   },
   "outputs": [],
   "source": [
    "plt.errorbar(MJD_array, flux_obs_array, yerr=flux_err_array, fmt='b.') # \n",
    "\n",
    "plt.title(\"Sgr A* Integral Flux (\"+str(E)+\"TeV < E < 100TeV)\")\n",
    "plt.xlabel(r\"$time\\left(MJD\\right)$\")\n",
    "plt.ylabel(r\"flux $\\frac{gamma}{m^{2}s}$\") # gamma / m^2*s*TeV\n",
    "#plt.xlim(1.5e0, 5.e1)\n",
    "plt.ylim(ymin=0.)\n",
    "plt.axhline(mean_flux)\n",
    "\n",
    "#! MAY NEED TO REPLOT E0?  \n",
    "#plt.savefig(gc_dir+\"/plots/lightCurve/SgrA_lightcurve_all_4tels_seasonal.png\")\n",
    "#plt.savefig(gc_dir+\"/plots/lightCurve/SgrA_lightcurve_all_4tels_E\"+str(E)+\"_seasonal.png\")\n"
   ]
  },
  {
   "cell_type": "markdown",
   "metadata": {},
   "source": [
    "<h2> Sliding window"
   ]
  },
  {
   "cell_type": "code",
   "execution_count": null,
   "metadata": {
    "collapsed": true
   },
   "outputs": [],
   "source": [
    "from math import sqrt, erfc\n",
    "\n",
    "def S_win(Nw, No, alpha):\n",
    "    \"\"\"calculates significance of deviation of flux \n",
    "    Nw: excess counts inside window\n",
    "    No: excess counts outside window\n",
    "    alpha: ratio of window duration to duration outside of window\"\"\"\n",
    "    \n",
    "    return (Nw - alpha*No)/sqrt(Nw + alpha**2*No)\n",
    "\n",
    "def P_pre(S):\n",
    "    \"\"\"the chance probability calculated from significance for a window\"\"\"\n",
    "    \n",
    "    return erfc(S/sqrt(2))\n",
    "\n",
    "def P_post(P_pre, N):\n",
    "    \"\"\"post-trials probability after applying trials factors\"\"\"\n",
    "\n",
    "    return 1 - (1-P_pre)**N\n"
   ]
  },
  {
   "cell_type": "code",
   "execution_count": null,
   "metadata": {
    "collapsed": false
   },
   "outputs": [],
   "source": [
    "N = len(lc_data_points)\n",
    "n = 5 # window size \n",
    "\n",
    "Ntot = np.sum(fluxtime_array)\n",
    "Sig_windows = []\n",
    "\n",
    "for i in range(N):\n",
    "    Nw = np.sum(fluxtime_array[i:(i+n)])\n",
    "    No = Ntot - Nw\n",
    "    Tw = np.sum(livetime_array[i:(i+n)])\n",
    "    alpha = Tw / (total_livetime-Tw) \n",
    "    Sig_windows.append(S_win(Nw, No, alpha)) \n",
    "    \n",
    "#print(Sig_windows)\n",
    "#sig_hist = plt.hist(Sig_windows)\n",
    "\n",
    "p_hist, bin_edges = np.histogram(Sig_windows, density=True)\n",
    "print(bin_edges)\n",
    "print(p_hist)\n",
    "        \n",
    "plt.hist(Sig_windows)\n"
   ]
  },
  {
   "cell_type": "code",
   "execution_count": null,
   "metadata": {
    "collapsed": false
   },
   "outputs": [],
   "source": [
    "# fit hist to Gaussian \n",
    "from scipy.optimize import curve_fit\n",
    "\n",
    "def gauss_norm(x, x0, sigma, A=1):\n",
    "    \"\"\"normalized 1D gaussian function\"\"\"\n",
    "    return A/(np.sqrt(2*np.pi))*np.exp(-((x-x0)/sigma)**2/2)\n",
    "\n"
   ]
  },
  {
   "cell_type": "code",
   "execution_count": null,
   "metadata": {
    "collapsed": false
   },
   "outputs": [],
   "source": [
    "x = (bin_edges[:-1] + bin_edges[1:]) / 2 \n",
    "print(x)\n",
    "print(p_hist)\n",
    "plt.plot(x, p_hist)"
   ]
  },
  {
   "cell_type": "code",
   "execution_count": null,
   "metadata": {
    "collapsed": false
   },
   "outputs": [],
   "source": [
    "p0 = (-.001, 300, .005)\n",
    "\n",
    "p_opt, p_cov = curve_fit(gauss_norm, x, p_hist, p0)\n",
    "\n",
    "print(p_opt)\n",
    "print(p_cov)"
   ]
  },
  {
   "cell_type": "code",
   "execution_count": null,
   "metadata": {
    "collapsed": false
   },
   "outputs": [],
   "source": [
    "plt.plot(x, gauss_norm(x, -.001, 300, .005))"
   ]
  },
  {
   "cell_type": "code",
   "execution_count": null,
   "metadata": {
    "collapsed": false
   },
   "outputs": [],
   "source": [
    "# find negative numbers \n",
    "for i in range(len(fluxtime_array)):\n",
    "    if fluxtime_array[i] < 0:\n",
    "        print(fluxtime_array[i])\n",
    "\n",
    "plt.bar(bin_edges[:-1], p_hist, width = 1)\n",
    "plt.xlim(min(bin_edges), max(bin_edges))\n",
    "plt.show() \n"
   ]
  },
  {
   "cell_type": "markdown",
   "metadata": {},
   "source": [
    "<h2> Bayesian blocks"
   ]
  },
  {
   "cell_type": "code",
   "execution_count": null,
   "metadata": {
    "collapsed": false
   },
   "outputs": [],
   "source": [
    "time_array = (MJD_array*100).astype(np.float64)\n",
    "count_array = (fluxtime_array*10**7).astype(np.float64)"
   ]
  },
  {
   "cell_type": "code",
   "execution_count": null,
   "metadata": {
    "collapsed": false
   },
   "outputs": [],
   "source": [
    "bayesian_blocks?"
   ]
  },
  {
   "cell_type": "code",
   "execution_count": null,
   "metadata": {
    "collapsed": false
   },
   "outputs": [],
   "source": [
    "bin_edges = bayesian_blocks(time_array, count_array)"
   ]
  }
 ],
 "metadata": {
  "kernelspec": {
   "display_name": "Python 3",
   "language": "python",
   "name": "python3"
  },
  "language_info": {
   "codemirror_mode": {
    "name": "ipython",
    "version": 3
   },
   "file_extension": ".py",
   "mimetype": "text/x-python",
   "name": "python",
   "nbconvert_exporter": "python",
   "pygments_lexer": "ipython3",
   "version": "3.5.1"
  }
 },
 "nbformat": 4,
 "nbformat_minor": 0
}
