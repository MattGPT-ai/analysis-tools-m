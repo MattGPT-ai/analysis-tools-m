{
 "cells": [
  {
   "cell_type": "code",
   "execution_count": 1,
   "metadata": {
    "collapsed": false
   },
   "outputs": [],
   "source": [
    "import numpy\n",
    "from matplotlib import pyplot\n",
    "%matplotlib inline\n"
   ]
  },
  {
   "cell_type": "code",
   "execution_count": 2,
   "metadata": {
    "collapsed": true
   },
   "outputs": [],
   "source": [
    "from os.path import expanduser\n",
    "home = expanduser('~')\n",
    "gc_dir = home + \"/Dropbox/GalacticCenter/\""
   ]
  },
  {
   "cell_type": "code",
   "execution_count": 23,
   "metadata": {
    "collapsed": true
   },
   "outputs": [],
   "source": [
    "E = 5 "
   ]
  },
  {
   "cell_type": "code",
   "execution_count": 24,
   "metadata": {
    "collapsed": false
   },
   "outputs": [
    {
     "name": "stdout",
     "output_type": "stream",
     "text": [
      "[  2.78149000e-09   2.81523000e-09   3.14180000e-09   2.13560000e-09\n",
      "   2.16522000e-09   2.08852000e-09]\n"
     ]
    }
   ],
   "source": [
    "# extract the lightcurve data points\n",
    "\n",
    "#lc_data = numpy.genfromtxt(gc_dir+\"/log/lightCurves/SgrA_lightCurve_both_4tels_all_E\"+str(E)+\"_annual_points.txt\")\n",
    "lc_data = numpy.genfromtxt(gc_dir+\"/log/lightCurves/SgrA_lightCurve_both_E\"+str(E)+\"_annual_points.txt\")\n",
    "\n",
    "MJD_array = numpy.array(lc_data[:,0], dtype=numpy.float64)\n",
    "flux_obs_array = numpy.array(lc_data[:,1], dtype=numpy.float64)\n",
    "flux_err_array = numpy.array(lc_data[:,2], dtype=numpy.float64)\n",
    "livetime_array = numpy.array(lc_data[:,3], dtype=numpy.float64)\n",
    "\n",
    "print(flux_obs_array)\n",
    "#log = list(map(lambda l: numpy.log10(l), _array))\n"
   ]
  },
  {
   "cell_type": "code",
   "execution_count": 25,
   "metadata": {
    "collapsed": false
   },
   "outputs": [
    {
     "name": "stdout",
     "output_type": "stream",
     "text": [
      "2.50514371418e-09\n"
     ]
    }
   ],
   "source": [
    "\n",
    "total_livetime = numpy.sum(livetime_array)\n",
    "fluxtime_array = flux_obs_array * livetime_array\n",
    "mean_flux = numpy.sum(fluxtime_array) / total_livetime\n",
    "print(mean_flux)\n",
    "flux_obs_array[ flux_obs_array==0 ] = numpy.nan\n",
    "flux_err_array[ flux_err_array==0 ] = numpy.nan\n",
    "fluxtime_array[ fluxtime_array==0 ] = numpy.nan\n"
   ]
  },
  {
   "cell_type": "code",
   "execution_count": 26,
   "metadata": {
    "collapsed": false
   },
   "outputs": [
    {
     "name": "stderr",
     "output_type": "stream",
     "text": [
      "/Users/mbuchove/Programs/Anaconda3/anaconda/lib/python3.5/site-packages/matplotlib/collections.py:590: FutureWarning: elementwise comparison failed; returning scalar instead, but in the future will perform elementwise comparison\n",
      "  if self._edgecolors == str('face'):\n"
     ]
    },
    {
     "data": {
      "image/png": "[encoded data removed]",
      "text/plain": [
       "<matplotlib.figure.Figure at 0x105fc8a20>"
      ]
     },
     "metadata": {},
     "output_type": "display_data"
    }
   ],
   "source": [
    "pyplot.errorbar(MJD_array, flux_obs_array, yerr=flux_err_array, fmt='b.') # \n",
    "\n",
    "pyplot.title(\"Sgr A* Integral Flux (\"+str(E)+\"TeV < E < 100TeV)\")\n",
    "pyplot.xlabel(r\"$time\\left(MJD\\right)$\")\n",
    "pyplot.ylabel(r\"flux $\\frac{gamma}{m^{2}s}$\") # gamma / m^2*s*TeV\n",
    "#pyplot.xlim(1.5e0, 5.e1)\n",
    "#pyplot.ylim(0., 2e-9)\n",
    "pyplot.axhline(mean_flux)\n",
    "\n",
    "#pyplot.savefig(gc_dir+\"/plots/lightCurve/SgrA_lightcurve_all_4tels_seasonal.png\")\n",
    "pyplot.savefig(gc_dir+\"/plots/lightCurve/SgrA_lightcurve_all_4tels_E\"+str(E)+\"_seasonal.png\")\n"
   ]
  }
 ],
 "metadata": {
  "kernelspec": {
   "display_name": "Python 3",
   "language": "python",
   "name": "python3"
  },
  "language_info": {
   "codemirror_mode": {
    "name": "ipython",
    "version": 3
   },
   "file_extension": ".py",
   "mimetype": "text/x-python",
   "name": "python",
   "nbconvert_exporter": "python",
   "pygments_lexer": "ipython3",
   "version": "3.5.1"
  }
 },
 "nbformat": 4,
 "nbformat_minor": 0
}
