{
 "cells": [
  {
   "cell_type": "code",
   "execution_count": null,
   "metadata": {
    "collapsed": false
   },
   "outputs": [],
   "source": [
    "import numpy as np \n",
    "from matplotlib import pyplot\n",
    "%matplotlib inline\n"
   ]
  },
  {
   "cell_type": "code",
   "execution_count": null,
   "metadata": {
    "collapsed": true
   },
   "outputs": [],
   "source": [
    "from os.path import expanduser\n",
    "home = expanduser('~')\n",
    "gc_dir = home + \"/Dropbox/GalacticCenter/\""
   ]
  },
  {
   "cell_type": "markdown",
   "metadata": {},
   "source": [
    "<h2> Extract and plot points from lightcurve "
   ]
  },
  {
   "cell_type": "code",
   "execution_count": null,
   "metadata": {
    "collapsed": true
   },
   "outputs": [],
   "source": [
    "# set the energy limits \n",
    "E = 0 "
   ]
  },
  {
   "cell_type": "code",
   "execution_count": null,
   "metadata": {
    "collapsed": false
   },
   "outputs": [],
   "source": [
    "# extract the lightcurve data points\n",
    "\n",
    "lc_data = np.genfromtxt(gc_dir+\"/results/lightcurve_SgrA_daily_points_v254.txt\") \n",
    "#lc_data = np.genfromtxt(gc_dir+\"/log/lightCurves/SgrA_lightCurve_both_4tels_all_E\"+str(E)+\"_annual_points.txt\")\n",
    "#lc_data = np.genfromtxt(gc_dir+\"/log/lightCurves/SgrA_lightCurve_both_E\"+str(E)+\"_annual_points.txt\")\n",
    "\n",
    "\n",
    "MJD_array = np.array(lc_data[:,0], dtype=np.float64)\n",
    "flux_obs_array = np.array(list(filter((0.0).__ne__, lc_data[:,1])), dtype=np.float64)\n",
    "flux_err_array = np.array(list(filter((0.0).__ne__, lc_data[:,2])), dtype=np.float64)\n",
    "livetime_array = np.array(list(filter((0.0).__ne__, lc_data[:,3])), dtype=np.float64)\n",
    "\n",
    "print(flux_obs_array)\n",
    "#log = list(map(lambda l: np.log10(l), _array))\n"
   ]
  },
  {
   "cell_type": "code",
   "execution_count": null,
   "metadata": {
    "collapsed": false
   },
   "outputs": [],
   "source": [
    "# find the total livetime and mean flux \n",
    "total_livetime = np.sum(livetime_array)\n",
    "fluxtime_array = flux_obs_array * livetime_array\n",
    "mean_flux = np.sum(fluxtime_array) / total_livetime\n",
    "print(mean_flux)\n"
   ]
  },
  {
   "cell_type": "code",
   "execution_count": null,
   "metadata": {
    "collapsed": false
   },
   "outputs": [],
   "source": [
    "#flux_obs_array[ flux_obs_array==0 ] = np.nan\n",
    "#flux_err_array[ flux_err_array==0 ] = np.nan\n",
    "#fluxtime_array[ fluxtime_array==0 ] = np.nan\n",
    "\n",
    "# remove empty points, marked as 0's \n",
    "#flux_obs_array = list(filter((0.0).__ne__, flux_obs_array))\n",
    "#flux_err_array = list(filter((0.0).__ne__, flux_err_array))\n",
    "#livetime_array = list(filter((0.0).__ne__, livetime_array))\n"
   ]
  },
  {
   "cell_type": "code",
   "execution_count": null,
   "metadata": {
    "collapsed": false
   },
   "outputs": [],
   "source": [
    "print(flux_obs_array)"
   ]
  },
  {
   "cell_type": "code",
   "execution_count": null,
   "metadata": {
    "collapsed": false
   },
   "outputs": [],
   "source": [
    "pyplot.errorbar(MJD_array, flux_obs_array, yerr=flux_err_array, fmt='b.') # \n",
    "\n",
    "pyplot.title(\"Sgr A* Integral Flux (\"+str(E)+\"TeV < E < 100TeV)\")\n",
    "pyplot.xlabel(r\"$time\\left(MJD\\right)$\")\n",
    "pyplot.ylabel(r\"flux $\\frac{gamma}{m^{2}s}$\") # gamma / m^2*s*TeV\n",
    "#pyplot.xlim(1.5e0, 5.e1)\n",
    "pyplot.ylim(ymin=0.)\n",
    "pyplot.axhline(mean_flux)\n",
    "\n",
    "#! MAY NEED TO REPLOT E0?  \n",
    "#pyplot.savefig(gc_dir+\"/plots/lightCurve/SgrA_lightcurve_all_4tels_seasonal.png\")\n",
    "#pyplot.savefig(gc_dir+\"/plots/lightCurve/SgrA_lightcurve_all_4tels_E\"+str(E)+\"_seasonal.png\")\n"
   ]
  },
  {
   "cell_type": "markdown",
   "metadata": {},
   "source": [
    "<h2> Sliding window"
   ]
  },
  {
   "cell_type": "code",
   "execution_count": null,
   "metadata": {
    "collapsed": true
   },
   "outputs": [],
   "source": [
    "from math import sqrt, erfc\n",
    "\n",
    "def S_win(Nw, No, alpha):\n",
    "    \"\"\"calculates significance of deviation of flux \n",
    "    Nw: excess counts inside window\n",
    "    No: excess counts outside window\n",
    "    alpha: ratio of window duration to duration outside of window\"\"\"\n",
    "    \n",
    "    return (Nw - alpha*No)/sqrt(Nw + alpha**2*No)\n",
    "\n",
    "def P_pre(S):\n",
    "    \"\"\"the chance probability calculated from significance for a window\"\"\"\n",
    "    \n",
    "    return erfc(S/sqrt(2))\n",
    "\n",
    "def P_post(P_pre, N):\n",
    "    \"\"\"post-trials probability after applying trials factors\"\"\"\n",
    "\n",
    "    return 1 - (1-P_pre)**N\n"
   ]
  },
  {
   "cell_type": "code",
   "execution_count": null,
   "metadata": {
    "collapsed": false
   },
   "outputs": [],
   "source": [
    "N = len(lc_data)\n",
    "n = 2 # window size \n",
    "\n",
    "No = np.sum(fluxtime_array)\n",
    "Sig_windows = []\n",
    "\n",
    "for i in range(N):\n",
    "    Nw = np.sum(fluxtime_array[i:i+2])\n",
    "    alpha = np.sum(livetime_array[i:i+2]) / total_livetime\n",
    "    Sig_windows.append(S_win(Nw, No, alpha)) \n",
    "    \n",
    "print(Sig_windows)\n",
    "pyplot.hist(Sig_windows)\n"
   ]
  },
  {
   "cell_type": "code",
   "execution_count": null,
   "metadata": {
    "collapsed": false
   },
   "outputs": [],
   "source": [
    "# fit hist to Gaussian \n",
    "from scipy.optimize import curve_fit\n",
    "\n",
    "def gauss_norm(x, x0, sigma, A=1):\n",
    "    \"\"\"normalized 1D gaussian function\"\"\"\n",
    "    return A/(np.sqrt(2*np.pi))*np.exp(-((x-x0)/sigma)**2/2)\n",
    "\n"
   ]
  },
  {
   "cell_type": "code",
   "execution_count": null,
   "metadata": {
    "collapsed": true
   },
   "outputs": [],
   "source": [
    "p0 = (1, 0, 1)\n",
    "\n",
    "p_opt, p_cov = curve_fit(gauss_norm(x, y, p0))\n"
   ]
  },
  {
   "cell_type": "code",
   "execution_count": null,
   "metadata": {
    "collapsed": true
   },
   "outputs": [],
   "source": [
    "print(gauss_norm(2, 0, 1))"
   ]
  }
 ],
 "metadata": {
  "kernelspec": {
   "display_name": "Python 3",
   "language": "python",
   "name": "python3"
  },
  "language_info": {
   "codemirror_mode": {
    "name": "ipython",
    "version": 3
   },
   "file_extension": ".py",
   "mimetype": "text/x-python",
   "name": "python",
   "nbconvert_exporter": "python",
   "pygments_lexer": "ipython3",
   "version": "3.5.1"
  }
 },
 "nbformat": 4,
 "nbformat_minor": 0
}
