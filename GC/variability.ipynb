{
 "cells": [
  {
   "cell_type": "code",
   "execution_count": 1,
   "metadata": {},
   "outputs": [],
   "source": [
    "import numpy as np \n",
    "from math import sqrt, erfc, log\n",
    "from matplotlib import pyplot as plt\n",
    "%matplotlib inline\n",
    "from astropy.stats import bayesian_blocks\n",
    "from os.path import expanduser\n"
   ]
  },
  {
   "cell_type": "code",
   "execution_count": 2,
   "metadata": {
    "collapsed": true
   },
   "outputs": [],
   "source": [
    "home = expanduser('~')\n",
    "gc_dir = home + \"/Dropbox/GalacticCenter/\""
   ]
  },
  {
   "cell_type": "markdown",
   "metadata": {},
   "source": [
    "<h2> Extract and plot points from lightcurve "
   ]
  },
  {
   "cell_type": "code",
   "execution_count": 3,
   "metadata": {
    "collapsed": true
   },
   "outputs": [],
   "source": [
    "# set the energy limits \n",
    "E = 0 "
   ]
  },
  {
   "cell_type": "code",
   "execution_count": 4,
   "metadata": {},
   "outputs": [],
   "source": [
    "# extract the lightcurve data points\n",
    "\n",
    "lc_data = np.genfromtxt(gc_dir+\"/results/lightcurve_SgrA_daily_points_v254.txt\") \n",
    "#lc_data = np.genfromtxt(gc_dir+\"/log/lightCurves/SgrA_lightCurve_both_4tels_all_E\"+str(E)+\"_annual_points.txt\")\n",
    "#lc_data = np.genfromtxt(gc_dir+\"/log/lightCurves/SgrA_lightCurve_both_E\"+str(E)+\"_annual_points.txt\")\n",
    "\n",
    "lc_data_points = []\n",
    "for i in range(len(lc_data[:,0])):\n",
    "    if lc_data[i,3] != 0 and lc_data[i,1] > 0.: # \n",
    "        lc_data_points.append(lc_data[i,:])\n",
    "\n",
    "lc_data_points = np.array(lc_data_points) \n",
    "\n",
    "\n",
    "MJD_array = np.array(lc_data_points[:,0], dtype=np.float64)\n",
    "flux_obs_array = np.array(lc_data_points[:,1], dtype=np.float64) #  / (m^2 * s)\n",
    "flux_err_array = np.array(lc_data_points[:,2], dtype=np.float64)\n",
    "livetime_array = np.array(lc_data_points[:,3], dtype=np.float64)\n",
    "\n",
    "#print(flux_obs_array)\n",
    "#log = list(map(lambda l: np.log10(l), _array))\n"
   ]
  },
  {
   "cell_type": "code",
   "execution_count": 5,
   "metadata": {},
   "outputs": [
    {
     "name": "stdout",
     "output_type": "stream",
     "text": [
      "1.52098902472e-08\n"
     ]
    }
   ],
   "source": [
    "fluxtime_array = flux_obs_array * livetime_array\n",
    "\n",
    "# find the total livetime and mean flux \n",
    "total_livetime = np.sum(livetime_array)\n",
    "mean_flux = np.sum(fluxtime_array) / total_livetime\n",
    "print(mean_flux)\n"
   ]
  },
  {
   "cell_type": "code",
   "execution_count": 6,
   "metadata": {},
   "outputs": [],
   "source": [
    "#lc_data = list(filter((0).__ne__, )\n",
    "\n",
    "#flux_obs_array[ flux_obs_array==0 ] = np.nan\n",
    "#flux_err_array[ flux_err_array==0 ] = np.nan\n",
    "#fluxtime_array[ fluxtime_array==0 ] = np.nan\n",
    "\n",
    "# remove empty points, marked as 0's \n",
    "#flux_obs_array = np.array(list(filter((0.0).__ne__, lc_data[:,1])), dtype=np.float64)\n",
    "#flux_err_array = np.array(list(filter((0.0).__ne__, lc_data[:,2])), dtype=np.float64)\n",
    "#livetime_array = np.array(list(filter((0.0).__ne__, lc_data[:,3])), dtype=np.float64)\n"
   ]
  },
  {
   "cell_type": "code",
   "execution_count": 7,
   "metadata": {},
   "outputs": [
    {
     "data": {
      "text/plain": [
       "<matplotlib.lines.Line2D at 0x105a558d0>"
      ]
     },
     "execution_count": 7,
     "metadata": {},
     "output_type": "execute_result"
    },
    {
     "name": "stderr",
     "output_type": "stream",
     "text": [
      "/Users/mbuchove/Programs/Anaconda3/anaconda/lib/python3.5/site-packages/matplotlib/collections.py:590: FutureWarning: elementwise comparison failed; returning scalar instead, but in the future will perform elementwise comparison\n",
      "  if self._edgecolors == str('face'):\n"
     ]
    },
    {
     "data": {
      "image/png": "[encoded data removed]",
      "text/plain": [
       "<matplotlib.figure.Figure at 0x105997630>"
      ]
     },
     "metadata": {},
     "output_type": "display_data"
    }
   ],
   "source": [
    "plt.errorbar(MJD_array, flux_obs_array, yerr=flux_err_array, fmt='b.') # \n",
    "\n",
    "plt.title(\"Sgr A* Integral Flux (\"+str(E)+\"TeV < E < 100TeV)\")\n",
    "plt.xlabel(r\"$time\\left(MJD\\right)$\")\n",
    "plt.ylabel(r\"flux $\\frac{gamma}{m^{2}s}$\") # gamma / m^2*s*TeV\n",
    "#plt.xlim(1.5e0, 5.e1)\n",
    "plt.ylim(ymin=0.)\n",
    "plt.axhline(mean_flux)\n",
    "\n",
    "#! MAY NEED TO REPLOT E0?  \n",
    "#plt.savefig(gc_dir+\"/plots/lightCurve/SgrA_lightcurve_all_4tels_seasonal.png\")\n",
    "#plt.savefig(gc_dir+\"/plots/lightCurve/SgrA_lightcurve_all_4tels_E\"+str(E)+\"_seasonal.png\")\n"
   ]
  },
  {
   "cell_type": "markdown",
   "metadata": {},
   "source": [
    "<h2> Sliding window"
   ]
  },
  {
   "cell_type": "code",
   "execution_count": 50,
   "metadata": {
    "collapsed": true
   },
   "outputs": [],
   "source": [
    "\n",
    "def S_win(Nw, No, alpha):\n",
    "    \"\"\"calculates significance of deviation of flux \n",
    "    Nw: excess counts inside window\n",
    "    No: excess counts outside window\n",
    "    alpha: ratio of window duration to duration outside of window\"\"\"\n",
    "    \n",
    "    return (Nw - alpha*No)/sqrt(Nw + alpha**2*No)\n",
    "\n",
    "def S_anna(N_on_w, N_off_w, N_on_b, N_off_b, alpha_w, alpha_b):\n",
    "    \"\"\"(N_w - a*N_b) / sqrt( N_on_w + a_w^2*N_off_w + a^2( N_on_b * a_b^2*N_off_b ) )\"\"\"\n",
    "    \n",
    "    return \n",
    "\n",
    "def P_pre(S):\n",
    "    \"\"\"the chance probability calculated from significance for a window\"\"\"\n",
    "    \n",
    "    return erfc(S/sqrt(2))\n",
    "\n",
    "def P_post(P_pre, N):\n",
    "    \"\"\"post-trials probability after applying trials factors\"\"\"\n",
    "\n",
    "    return 1 - (1-P_pre)**N\n",
    "\n",
    "def S_LiMa(Non, Noff, alpha):\n",
    "    \"\"\"returns the Li and Ma significance (1983, equation 17)\"\"\"\n",
    "    \n",
    "    ln = log \n",
    "    \n",
    "    on_term = Non * ln( (1+alpha)/alpha * Non/(Non+Noff) )\n",
    "    off_term = Noff * ln( (1+alpha) * Noff / (Non+Noff) )\n",
    "    \n",
    "    #print(on_term)\n",
    "    #print(off_term)\n",
    "    #print(on_term+off_term)\n",
    "    \n",
    "    return sqrt(2*(on_term + off_term))\n",
    "\n",
    "def S_err(flux, avg, err):\n",
    "    \"\"\"\"\"\"\n",
    "    \n",
    "    return (flux - avg) / err \n"
   ]
  },
  {
   "cell_type": "code",
   "execution_count": 10,
   "metadata": {
    "collapsed": true
   },
   "outputs": [],
   "source": [
    "#def weighted_mean \n",
    "\n",
    "# window slider using generators \n",
    "def window_slide(iter, size=2):\n",
    "    mem = [None] * size\n",
    "    for i, each in enumerate(iter):\n",
    "        mem[i % size] = each\n",
    "        if i >= size - 1:\n",
    "            yield mem[(i + 1) % size:] + mem[:(i + 1) % size]"
   ]
  },
  {
   "cell_type": "code",
   "execution_count": 65,
   "metadata": {
    "scrolled": true
   },
   "outputs": [
    {
     "name": "stdout",
     "output_type": "stream",
     "text": [
      "-0.000552946230993\n"
     ]
    },
    {
     "data": {
      "image/png": "[encoded data removed]",
      "text/plain": [
       "<matplotlib.figure.Figure at 0x10a643b70>"
      ]
     },
     "metadata": {},
     "output_type": "display_data"
    }
   ],
   "source": [
    "N = len(lc_data_points)\n",
    "n = 1 # window size \n",
    "\n",
    "Ntot = np.sum(fluxtime_array)\n",
    "Sig_windows = []\n",
    "sigtime = 0\n",
    "\n",
    "for i in range(N):\n",
    "    Nw = np.sum(fluxtime_array[i:(i+n)])\n",
    "    No = Ntot - Nw\n",
    "    Tw = np.sum(livetime_array[i:(i+n)])\n",
    "    To = total_livetime - Tw\n",
    "    flux_w = Nw / Tw\n",
    "    flux_o = No / To \n",
    "    alpha = Tw / To \n",
    "    \n",
    "    #sig = S_anna()\n",
    "    #sig = S_win(Nw, No, alpha) \n",
    "    #sig = S_LiMa(Nw, No, alpha)    \n",
    "    #if flux_w < flux_o:\n",
    "    #    sig *= -1 \n",
    "    sig = S_err(flux_obs_array[i], flux_err_array[i])\n",
    "    \n",
    "    Sig_windows.append(sig)\n",
    "    sigtime += sig * Tw\n",
    "    \n",
    "#print(Sig_windows)\n",
    "#sig_hist = plt.hist(Sig_windows)\n",
    "\n",
    "p_hist, bin_edges = np.histogram(Sig_windows, density=True)\n",
    "#print(bin_edges)\n",
    "#print(p_hist)\n",
    "\n",
    "\n",
    "        \n",
    "plt.hist(Sig_windows)\n",
    "plt.title(\"Sliding window: \" + str(n) + \" day\")\n",
    "plt.xlabel(\"significance\")\n",
    "plt.ylabel(\"counts\")\n",
    "\n",
    "plt.savefig(gc_dir + \"/plots/sliding_window/SW_sig_LiMa_\" + str(n) +\"day.png\")\n",
    "\n",
    "print(sigtime/total_livetime)\n"
   ]
  },
  {
   "cell_type": "code",
   "execution_count": 12,
   "metadata": {},
   "outputs": [],
   "source": [
    "# fit hist to Gaussian \n",
    "from scipy.optimize import curve_fit\n",
    "\n",
    "def gauss_norm(x, x0, sigma, A=1):\n",
    "    \"\"\"normalized 1D gaussian function\"\"\"\n",
    "    return A/(np.sqrt(2*np.pi))*np.exp(-((x-x0)/sigma)**2/2)\n",
    "\n"
   ]
  },
  {
   "cell_type": "code",
   "execution_count": 14,
   "metadata": {},
   "outputs": [
    {
     "name": "stdout",
     "output_type": "stream",
     "text": [
      "[ -1.00000000e-03   3.00000000e+02   1.92852626e+02]\n",
      "[[ inf  inf  inf]\n",
      " [ inf  inf  inf]\n",
      " [ inf  inf  inf]]\n"
     ]
    },
    {
     "name": "stderr",
     "output_type": "stream",
     "text": [
      "/Users/mbuchove/Programs/Anaconda3/anaconda/lib/python3.5/site-packages/scipy/optimize/minpack.py:604: OptimizeWarning: Covariance of the parameters could not be estimated\n",
      "  category=OptimizeWarning)\n"
     ]
    }
   ],
   "source": [
    "x = (bin_edges[:-1] + bin_edges[1:]) / 2 \n",
    "print(x)\n",
    "print(p_hist)\n",
    "plt.plot(x, p_hist)\n",
    "\n",
    "\n",
    "p0 = (-.001, 300, .005)\n",
    "\n",
    "p_opt, p_cov = curve_fit(gauss_norm, x, p_hist, p0)\n",
    "\n",
    "print(p_opt)\n",
    "print(p_cov)"
   ]
  },
  {
   "cell_type": "code",
   "execution_count": 15,
   "metadata": {},
   "outputs": [
    {
     "data": {
      "text/plain": [
       "[<matplotlib.lines.Line2D at 0x1072b6080>]"
      ]
     },
     "execution_count": 15,
     "metadata": {},
     "output_type": "execute_result"
    },
    {
     "data": {
      "image/png": "[encoded data removed]",
      "text/plain": [
       "<matplotlib.figure.Figure at 0x1071b5748>"
      ]
     },
     "metadata": {},
     "output_type": "display_data"
    }
   ],
   "source": [
    "plt.plot(x, gauss_norm(x, -.001, 300, .005))"
   ]
  },
  {
   "cell_type": "code",
   "execution_count": 16,
   "metadata": {},
   "outputs": [
    {
     "data": {
      "image/png": "[encoded data removed]",
      "text/plain": [
       "<matplotlib.figure.Figure at 0x1071f8eb8>"
      ]
     },
     "metadata": {},
     "output_type": "display_data"
    }
   ],
   "source": [
    "# find negative numbers \n",
    "for i in range(len(fluxtime_array)):\n",
    "    if fluxtime_array[i] < 0:\n",
    "        print(fluxtime_array[i])\n",
    "\n",
    "plt.bar(bin_edges[:-1], p_hist, width = 1)\n",
    "plt.xlim(min(bin_edges), max(bin_edges))\n",
    "plt.show() \n"
   ]
  },
  {
   "cell_type": "markdown",
   "metadata": {},
   "source": [
    "<h2> Bayesian blocks"
   ]
  },
  {
   "cell_type": "code",
   "execution_count": 17,
   "metadata": {},
   "outputs": [],
   "source": [
    "time_array = (MJD_array*100).astype(np.float64)\n",
    "count_array = (fluxtime_array*10**7).astype(np.float64)"
   ]
  },
  {
   "cell_type": "code",
   "execution_count": 18,
   "metadata": {},
   "outputs": [],
   "source": [
    "bayesian_blocks?"
   ]
  },
  {
   "cell_type": "code",
   "execution_count": 19,
   "metadata": {},
   "outputs": [
    {
     "name": "stderr",
     "output_type": "stream",
     "text": [
      "/Users/mbuchove/Programs/Anaconda3/anaconda/lib/python3.5/site-packages/astropy/stats/bayesian_blocks.py:421: UserWarning: p0 does not seem to accurately represent the false positive rate for event data. It is highly recommended that you run random trials on signal-free noise to calibrate ncp_prior to achieve a desired false positive rate.\n",
      "  warnings.warn('p0 does not seem to accurately represent the false '\n"
     ]
    },
    {
     "ename": "ValueError",
     "evalue": "x must be integer counts for fitness='events'",
     "output_type": "error",
     "traceback": [
      "\u001b[0;31m---------------------------------------------------------------------------\u001b[0m",
      "\u001b[0;31mValueError\u001b[0m                                Traceback (most recent call last)",
      "\u001b[0;32m<ipython-input-19-b403cdb56f93>\u001b[0m in \u001b[0;36m<module>\u001b[0;34m()\u001b[0m\n\u001b[0;32m----> 1\u001b[0;31m \u001b[0mbin_edges\u001b[0m \u001b[0;34m=\u001b[0m \u001b[0mbayesian_blocks\u001b[0m\u001b[0;34m(\u001b[0m\u001b[0mtime_array\u001b[0m\u001b[0;34m,\u001b[0m \u001b[0mcount_array\u001b[0m\u001b[0;34m)\u001b[0m\u001b[0;34m\u001b[0m\u001b[0m\n\u001b[0m",
      "\u001b[0;32m/Users/mbuchove/Programs/Anaconda3/anaconda/lib/python3.5/site-packages/astropy/stats/bayesian_blocks.py\u001b[0m in \u001b[0;36mbayesian_blocks\u001b[0;34m(t, x, sigma, fitness, **kwargs)\u001b[0m\n\u001b[1;32m    151\u001b[0m         \u001b[0;32mraise\u001b[0m \u001b[0mValueError\u001b[0m\u001b[0;34m(\u001b[0m\u001b[0;34m\"fitness parameter not understood\"\u001b[0m\u001b[0;34m)\u001b[0m\u001b[0;34m\u001b[0m\u001b[0m\n\u001b[1;32m    152\u001b[0m \u001b[0;34m\u001b[0m\u001b[0m\n\u001b[0;32m--> 153\u001b[0;31m     \u001b[0;32mreturn\u001b[0m \u001b[0mfitfunc\u001b[0m\u001b[0;34m.\u001b[0m\u001b[0mfit\u001b[0m\u001b[0;34m(\u001b[0m\u001b[0mt\u001b[0m\u001b[0;34m,\u001b[0m \u001b[0mx\u001b[0m\u001b[0;34m,\u001b[0m \u001b[0msigma\u001b[0m\u001b[0;34m)\u001b[0m\u001b[0;34m\u001b[0m\u001b[0m\n\u001b[0m\u001b[1;32m    154\u001b[0m \u001b[0;34m\u001b[0m\u001b[0m\n\u001b[1;32m    155\u001b[0m \u001b[0;34m\u001b[0m\u001b[0m\n",
      "\u001b[0;32m/Users/mbuchove/Programs/Anaconda3/anaconda/lib/python3.5/site-packages/astropy/stats/bayesian_blocks.py\u001b[0m in \u001b[0;36mfit\u001b[0;34m(self, t, x, sigma)\u001b[0m\n\u001b[1;32m    314\u001b[0m             \u001b[0marray\u001b[0m \u001b[0mcontaining\u001b[0m \u001b[0mthe\u001b[0m \u001b[0;34m(\u001b[0m\u001b[0mM\u001b[0m\u001b[0;34m+\u001b[0m\u001b[0;36m1\u001b[0m\u001b[0;34m)\u001b[0m \u001b[0medges\u001b[0m \u001b[0mdefining\u001b[0m \u001b[0mthe\u001b[0m \u001b[0mM\u001b[0m \u001b[0moptimal\u001b[0m \u001b[0mbins\u001b[0m\u001b[0;34m\u001b[0m\u001b[0m\n\u001b[1;32m    315\u001b[0m         \"\"\"\n\u001b[0;32m--> 316\u001b[0;31m         \u001b[0mt\u001b[0m\u001b[0;34m,\u001b[0m \u001b[0mx\u001b[0m\u001b[0;34m,\u001b[0m \u001b[0msigma\u001b[0m \u001b[0;34m=\u001b[0m \u001b[0mself\u001b[0m\u001b[0;34m.\u001b[0m\u001b[0mvalidate_input\u001b[0m\u001b[0;34m(\u001b[0m\u001b[0mt\u001b[0m\u001b[0;34m,\u001b[0m \u001b[0mx\u001b[0m\u001b[0;34m,\u001b[0m \u001b[0msigma\u001b[0m\u001b[0;34m)\u001b[0m\u001b[0;34m\u001b[0m\u001b[0m\n\u001b[0m\u001b[1;32m    317\u001b[0m \u001b[0;34m\u001b[0m\u001b[0m\n\u001b[1;32m    318\u001b[0m         \u001b[0;31m# compute values needed for computation, below\u001b[0m\u001b[0;34m\u001b[0m\u001b[0;34m\u001b[0m\u001b[0m\n",
      "\u001b[0;32m/Users/mbuchove/Programs/Anaconda3/anaconda/lib/python3.5/site-packages/astropy/stats/bayesian_blocks.py\u001b[0m in \u001b[0;36mvalidate_input\u001b[0;34m(self, t, x, sigma)\u001b[0m\n\u001b[1;32m    433\u001b[0m         \u001b[0mt\u001b[0m\u001b[0;34m,\u001b[0m \u001b[0mx\u001b[0m\u001b[0;34m,\u001b[0m \u001b[0msigma\u001b[0m \u001b[0;34m=\u001b[0m \u001b[0msuper\u001b[0m\u001b[0;34m(\u001b[0m\u001b[0mEvents\u001b[0m\u001b[0;34m,\u001b[0m \u001b[0mself\u001b[0m\u001b[0;34m)\u001b[0m\u001b[0;34m.\u001b[0m\u001b[0mvalidate_input\u001b[0m\u001b[0;34m(\u001b[0m\u001b[0mt\u001b[0m\u001b[0;34m,\u001b[0m \u001b[0mx\u001b[0m\u001b[0;34m,\u001b[0m \u001b[0msigma\u001b[0m\u001b[0;34m)\u001b[0m\u001b[0;34m\u001b[0m\u001b[0m\n\u001b[1;32m    434\u001b[0m         \u001b[0;32mif\u001b[0m \u001b[0mx\u001b[0m \u001b[0;32mis\u001b[0m \u001b[0;32mnot\u001b[0m \u001b[0;32mNone\u001b[0m \u001b[0;32mand\u001b[0m \u001b[0mnp\u001b[0m\u001b[0;34m.\u001b[0m\u001b[0many\u001b[0m\u001b[0;34m(\u001b[0m\u001b[0mx\u001b[0m \u001b[0;34m%\u001b[0m \u001b[0;36m1\u001b[0m \u001b[0;34m>\u001b[0m \u001b[0;36m0\u001b[0m\u001b[0;34m)\u001b[0m\u001b[0;34m:\u001b[0m\u001b[0;34m\u001b[0m\u001b[0m\n\u001b[0;32m--> 435\u001b[0;31m             \u001b[0;32mraise\u001b[0m \u001b[0mValueError\u001b[0m\u001b[0;34m(\u001b[0m\u001b[0;34m\"x must be integer counts for fitness='events'\"\u001b[0m\u001b[0;34m)\u001b[0m\u001b[0;34m\u001b[0m\u001b[0m\n\u001b[0m\u001b[1;32m    436\u001b[0m         \u001b[0;32mreturn\u001b[0m \u001b[0mt\u001b[0m\u001b[0;34m,\u001b[0m \u001b[0mx\u001b[0m\u001b[0;34m,\u001b[0m \u001b[0msigma\u001b[0m\u001b[0;34m\u001b[0m\u001b[0m\n\u001b[1;32m    437\u001b[0m \u001b[0;34m\u001b[0m\u001b[0m\n",
      "\u001b[0;31mValueError\u001b[0m: x must be integer counts for fitness='events'"
     ]
    }
   ],
   "source": [
    "bin_edges = bayesian_blocks(time_array, count_array)"
   ]
  },
  {
   "cell_type": "markdown",
   "metadata": {},
   "source": [
    "<h2> timings "
   ]
  },
  {
   "cell_type": "code",
   "execution_count": null,
   "metadata": {},
   "outputs": [],
   "source": [
    "from timeit import timeit \n",
    "%timeit sqrt(50000000000)\n",
    "%timeit np.sqrt(50000000000)"
   ]
  },
  {
   "cell_type": "code",
   "execution_count": null,
   "metadata": {},
   "outputs": [],
   "source": [
    "%timeit log(500)\n",
    "%timeit np.log(500)"
   ]
  }
 ],
 "metadata": {
  "kernelspec": {
   "display_name": "Python 3",
   "language": "python",
   "name": "python3"
  },
  "language_info": {
   "codemirror_mode": {
    "name": "ipython",
    "version": 2
   },
   "file_extension": ".py",
   "mimetype": "text/x-python",
   "name": "python",
   "nbconvert_exporter": "python",
   "pygments_lexer": "ipython2",
   "version": "2.7.15"
  }
 },
 "nbformat": 4,
 "nbformat_minor": 1
}
