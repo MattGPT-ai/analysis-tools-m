{
 "cells": [
  {
   "cell_type": "code",
   "execution_count": 1,
   "metadata": {
    "collapsed": false
   },
   "outputs": [],
   "source": [
    "import sys\n",
    "import math\n",
    "from scipy import integrate, optimize\n",
    "import numpy\n",
    "from matplotlib import pyplot\n",
    "%matplotlib inline\n",
    "\n",
    "from os.path import expanduser\n"
   ]
  },
  {
   "cell_type": "code",
   "execution_count": 2,
   "metadata": {
    "collapsed": false
   },
   "outputs": [],
   "source": [
    "E0 = 2. # E0 set as constant if not being fit \n",
    "\n",
    "def dNdE_powerlaw(E, Ethresh, N0, A): # energy (TeV), E0, norm, index\n",
    "    if Ethresh <= 0 or N0 <= 0 or A <= 0: # these quantities must be positive \n",
    "        return sys.float_info.max\n",
    "    dNdE = N0*numpy.power(E/Ethresh,-A)\n",
    "    return dNdE\n",
    "\n",
    "def dNdE_cutoff(E, Ecut, N0, A): # cutoff energy (TeV)\n",
    "    if Ecut <= 3 or Ecut >= 50 or N0 <= 0 or A <= 0: # E <= 0 does not work because it is an array\n",
    "        return sys.float_info.max\n",
    "    dNdE = N0*(E/E0)**(-A)*numpy.exp(-E/Ecut)\n",
    "    return dNdE\n",
    "\n",
    "def dNdE_broken(E, Ebreak, N0, A, A2): # break energy (TeV), break index \n",
    "    if Ebreak <= 0 or N0 <= 0 or A <= 0 or A2 <= 0:\n",
    "        return sys.float_info.max\n",
    "    dNdE = N0*(E/E0)**(-A)*1/(1+(E/Ebreak)**(A2-A))\n",
    "    return dNdE"
   ]
  },
  {
   "cell_type": "markdown",
   "metadata": {},
   "source": [
    "\n",
    "$$\\frac{dN}{dE}=N_0\\times\\left(\\frac{E}{E_0}\\right)^{-\\alpha}$$\n",
    "\n",
    "$$\\frac{dN}{dE}=N_0\\times\\left(\\frac{E}{E_0}\\right)^{-\\alpha}\\times e^{-\\frac{E}{E_{cut}}}$$\n",
    "\n",
    "$$\\frac{dN}{dE}=N_0\\times\\left(\\frac{E}{E_0}\\right)^{-\\alpha}\\times \\frac{1}{1+\\left(\\frac{E}{E_{break}}\\right)^{\\gamma-\\alpha}}$$\n"
   ]
  },
  {
   "cell_type": "markdown",
   "metadata": {
    "collapsed": true
   },
   "source": [
    "To Do: compare Crab run with the same elevation range "
   ]
  },
  {
   "cell_type": "markdown",
   "metadata": {},
   "source": [
    "<h1>Spectra fitting "
   ]
  },
  {
   "cell_type": "code",
   "execution_count": 3,
   "metadata": {
    "collapsed": false
   },
   "outputs": [
    {
     "data": {
      "image/png": "[encoded data removed]",
      "text/plain": [
       "<matplotlib.figure.Figure at 0x105efc6a0>"
      ]
     },
     "metadata": {},
     "output_type": "display_data"
    }
   ],
   "source": [
    "home = expanduser(\"~\")\n",
    "gc_dir = home + \"/Dropbox/GalacticCenter/\"\n",
    "\n",
    "data = numpy.genfromtxt(gc_dir+\"/spectralPoints/SgrA_4tels_noPoor_dNdE_TeV.txt\")\n",
    "\n",
    "E_array = numpy.array(data[:,0], dtype=numpy.float64)\n",
    "flux_obs_array = numpy.array(data[:,1], dtype=numpy.float64)\n",
    "#flux_err_array = numpy.array(data[:2], dtype=numpy.float64)\n",
    "    \n",
    "logE = list(map(lambda l: math.log10(l), E_array))\n",
    "logF = list(map(lambda l: math.log10(l), flux_obs_array))\n",
    "\n",
    "flux_powlaw = dNdE_powerlaw(flux_obs_array, 1.0, 6.113e-8, 2.57)\n",
    "\n",
    "pyplot.plot(E_array, flux_obs_array, 'bo') \n",
    "pyplot.plot(E_array, flux_powlaw)\n",
    "pyplot.xlabel(r\"$E\\left(TeV\\right)$\")\n",
    "pyplot.ylabel(r\"flux $\\frac{gamma}{s}$\") # gamma / m^2*s*TeV\n",
    "pyplot.xscale('log')\n",
    "pyplot.yscale('log')\n",
    "#pyplot.xlim(1.5e0, 5.e1)\n",
    "#pyplot.ylim(1.e-13, 1.e-7)\n"
   ]
  },
  {
   "cell_type": "code",
   "execution_count": 4,
   "metadata": {
    "collapsed": false
   },
   "outputs": [
    {
     "name": "stdout",
     "output_type": "stream",
     "text": [
      "(3.0818343268135275, 3.664671502541385e-09, 2.9514671290835275)\n"
     ]
    }
   ],
   "source": [
    "powlaw_guess = (1., 1e-9, 2.5)\n",
    "powlaw_bounds = ((0.5,20.), (1.e-7,1.e-11), (1.5,4.5))\n",
    "p_opt_powlaw, p_cov_powlaw = optimize.curve_fit(dNdE_powerlaw, E_array, flux_obs_array, p0=powlaw_guess)\n",
    "\n",
    "print(tuple(p_opt_powlaw))\n",
    "\n",
    "#res = optimize.minimize(err, powlaw_guess )#bounds=powlaw_bounds)\n"
   ]
  },
  {
   "cell_type": "code",
   "execution_count": 5,
   "metadata": {
    "collapsed": false
   },
   "outputs": [
    {
     "name": "stdout",
     "output_type": "stream",
     "text": [
      "[  4.99999990e+01   1.72822970e-09   1.30087019e+00]\n"
     ]
    }
   ],
   "source": [
    "cutoff_guess = (15, 1e-9, 2.5)\n",
    "p_opt_cutoff, p_cov_cutoff = optimize.curve_fit(dNdE_cutoff, E_array, flux_obs_array, p0=cutoff_guess, maxfev=2500)\n",
    "print(p_opt_cutoff)\n"
   ]
  },
  {
   "cell_type": "code",
   "execution_count": 6,
   "metadata": {
    "collapsed": false
   },
   "outputs": [
    {
     "name": "stdout",
     "output_type": "stream",
     "text": [
      "[  1.09759161e-30   1.62653863e-09   2.35625796e+00   2.16301004e+00]\n"
     ]
    }
   ],
   "source": [
    "broken_guess = (15, 1e-9, 2.5, 2.)\n",
    "p_opt_broken, p_cov_broken = optimize.curve_fit(dNdE_broken, E_array, flux_obs_array, p0=broken_guess, maxfev=2500)\n",
    "print(p_opt_broken)"
   ]
  },
  {
   "cell_type": "code",
   "execution_count": 7,
   "metadata": {
    "collapsed": false
   },
   "outputs": [
    {
     "data": {
      "text/plain": [
       "(1e-13, 1e-07)"
      ]
     },
     "execution_count": 7,
     "metadata": {},
     "output_type": "execute_result"
    },
    {
     "data": {
      "image/png": "[encoded data removed]",
      "text/plain": [
       "<matplotlib.figure.Figure at 0x1074275c0>"
      ]
     },
     "metadata": {},
     "output_type": "display_data"
    }
   ],
   "source": [
    "flux_array_fit = dNdE_powerlaw(E_array, *p_opt_powlaw)\n",
    "\n",
    "pyplot.plot(E_array, flux_obs_array, 'bo') # star because it is a map \n",
    "pyplot.plot(E_array, flux_array_fit)\n",
    "#pyplot.plot(E_array, )\n",
    "pyplot.xlabel(r\"$E\\left(TeV\\right)$\")\n",
    "pyplot.ylabel(r\"flux $\\frac{gamma}{s}$\") # gamma / m^2*s*TeV\n",
    "pyplot.xscale('log')\n",
    "pyplot.yscale('log')\n",
    "pyplot.xlim(1.5e0, 5.e1)\n",
    "pyplot.ylim(1.e-13, 1.e-7)\n",
    "\n"
   ]
  },
  {
   "cell_type": "markdown",
   "metadata": {},
   "source": [
    "The above fit is not weighted by statistics of each point"
   ]
  },
  {
   "cell_type": "markdown",
   "metadata": {},
   "source": [
    "<h2>Integral Flux"
   ]
  },
  {
   "cell_type": "code",
   "execution_count": 8,
   "metadata": {
    "collapsed": true
   },
   "outputs": [],
   "source": [
    "# set the fit parameters for each source \n",
    "norm_SgrA = 6.113e-8\n",
    "index_SgrA = 2.57\n",
    "norm_Crab = 3.157e-7 \n",
    "index_Crab = 2.525 \n",
    "\n",
    "Edec = 7 # estimate of decorrelation energy in TeV\n",
    "\n",
    "Emin_Crab = 0.5 # TeV \n",
    "Emin_SgrA = 2.0 # TeV\n",
    "Emax_both = 40. # TeV\n",
    "\n",
    "gamma_rate_SgrA = 0.155 # gamma / min \n",
    "gamma_rate_Crab = 2.63  # gamma / min"
   ]
  },
  {
   "cell_type": "code",
   "execution_count": 9,
   "metadata": {
    "collapsed": false
   },
   "outputs": [
    {
     "name": "stdout",
     "output_type": "stream",
     "text": [
      "1.9482300550858715e-06\n",
      "9.79054480529802e-06\n",
      "8.108640952688468e-05\n"
     ]
    }
   ],
   "source": [
    "# integrate the differential energy distribution for Sgr A* \n",
    "int_tuple_SgrA = integrate.quad(dNdE_powerlaw, Emin_SgrA, math.inf, args=(Edec, norm_SgrA, index_SgrA))\n",
    "int_flux_SgrA = int_tuple_SgrA[0]\n",
    "int_upperBoundErr_SgrA = int_tuple_SgrA[1]\n",
    "\n",
    "# now for the Crab with the same bounds as for Sgr A*\n",
    "int_tuple_Crab_1 = integrate.quad(dNdE_powerlaw, Emin_SgrA, math.inf, args=(Edec, norm_Crab, index_Crab))\n",
    "int_flux_Crab_1 = int_tuple_Crab_1[0]\n",
    "int_upperBoundErr_Crab_1 = int_tuple_Crab_1[1]\n",
    "\n",
    "# do the Crab with its full, larger energy range\n",
    "int_tuple_Crab_2 = integrate.quad(dNdE_powerlaw, Emin_Crab, math.inf, args=(Edec, norm_Crab, index_Crab))\n",
    "int_flux_Crab_2 = int_tuple_Crab_2[0]\n",
    "int_upperBoundErr_Crab_2 = int_tuple_Crab_2[1]\n",
    "\n",
    "print(int_flux_SgrA)\n",
    "print(int_flux_Crab_1)\n",
    "print(int_flux_Crab_2)"
   ]
  },
  {
   "cell_type": "code",
   "execution_count": 10,
   "metadata": {
    "collapsed": false
   },
   "outputs": [
    {
     "name": "stdout",
     "output_type": "stream",
     "text": [
      "The ratio of Sgr A* flux to the Crab flux, integrated from 2TeV to 40TeV for both:\n",
      "0.19899097484663092\n",
      "The ratio of Sgr A* flux to the Crab flux, integrated from 0.5TeV to 40TeV for Crab\n",
      "0.02402659171189377\n",
      "The ratio of Sgr A* gamma rate to Crab gamma rate, as reported by VEGAS\n",
      "0.05893536121673004\n"
     ]
    }
   ],
   "source": [
    "print(\"The ratio of Sgr A* flux to the Crab flux, integrated from 2TeV to 40TeV for both:\")\n",
    "print(int_flux_SgrA/int_flux_Crab_1)\n",
    "\n",
    "print(\"The ratio of Sgr A* flux to the Crab flux, integrated from 0.5TeV to 40TeV for Crab\")\n",
    "print(int_flux_SgrA/int_flux_Crab_2)\n",
    "\n",
    "print(\"The ratio of Sgr A* gamma rate to Crab gamma rate, as reported by VEGAS\")\n",
    "print(gamma_rate_SgrA/gamma_rate_Crab)"
   ]
  },
  {
   "cell_type": "markdown",
   "metadata": {},
   "source": [
    "<table border=\"1\">\n",
    "<tr>\n",
    "<th>Source</th>\n",
    "<th>Flux from 2TeV to Infiniti</th>\n",
    "</tr>\n",
    "<tr>\n",
    "<td>Sgr A*</td>\n",
    "<td>$$1.393\\times10^{-10}$$</td>\n",
    "</tr>\n",
    "<tr>\n",
    "<td>Crab</td>\n",
    "<td>$$8.01\\times10^{-10}$$</td>\n",
    "</tr>\n",
    "<tr>\n",
    "<td>Ratio</td>\n",
    "<td>$$0.1739$$</td>\n",
    "</tr>\n",
    "</table>\n",
    "\n",
    "$$Flux_{SgrA}={{a}}\\frac{gamma}{{m^2s}}$$"
   ]
  },
  {
   "cell_type": "markdown",
   "metadata": {},
   "source": [
    "<h3> Misc Code"
   ]
  },
  {
   "cell_type": "code",
   "execution_count": 12,
   "metadata": {
    "collapsed": true
   },
   "outputs": [],
   "source": [
    "err = lambda p: numpy.mean((powerlaw(E_array, *p)-F_array)**2)"
   ]
  },
  {
   "cell_type": "code",
   "execution_count": 13,
   "metadata": {
    "collapsed": true
   },
   "outputs": [],
   "source": [
    "def powerlaw(E, *params): # energy (TeV), E0, norm, index\n",
    "    E0, N0, A = params\n",
    "    dNdE = N0*numpy.power(E/E0,-A)\n",
    "    return dNdE"
   ]
  },
  {
   "cell_type": "code",
   "execution_count": null,
   "metadata": {
    "collapsed": false
   },
   "outputs": [],
   "source": [
    "xarray = []\n",
    "for i in x:\n",
    "    xarray.append(i)\n",
    "\n",
    "logE = []\n",
    "for i, v in enumerate(E_array):\n",
    "    logE.append(math.log10(v))\n",
    "    \n",
    "logF = []\n",
    "for i, v in enumerate(F_array):\n",
    "    logF.append(math.log10(v))\n",
    "\n",
    "par = (5, 5)\n",
    "print(type(par))\n",
    "brack = [5, 5]\n",
    "print(type(brack))\n",
    "\n",
    "optimize.minimize?"
   ]
  }
 ],
 "metadata": {
  "kernelspec": {
   "display_name": "Python 3",
   "language": "python",
   "name": "python3"
  },
  "language_info": {
   "codemirror_mode": {
    "name": "ipython",
    "version": 3
   },
   "file_extension": ".py",
   "mimetype": "text/x-python",
   "name": "python",
   "nbconvert_exporter": "python",
   "pygments_lexer": "ipython3",
   "version": "3.5.1"
  }
 },
 "nbformat": 4,
 "nbformat_minor": 0
}
