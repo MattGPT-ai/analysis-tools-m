{
 "cells": [
  {
   "cell_type": "code",
   "execution_count": null,
   "metadata": {
    "collapsed": false
   },
   "outputs": [],
   "source": [
    "\n",
    "from astropy.io import fits\n",
    "import astropy.io.ascii \n",
    "from astropy.table import Column\n",
    "from astropy import units as u\n",
    "from scipy import optimize\n",
    "from os.path import expanduser\n",
    "# from ROOT import TRolke\n",
    "\n",
    "%pylab inline\n",
    "#%matplotlib inline\n"
   ]
  },
  {
   "cell_type": "code",
   "execution_count": null,
   "metadata": {
    "collapsed": true
   },
   "outputs": [],
   "source": [
    "home = expanduser(\"~\")\n",
    "gc_dir = home + \"/Dropbox/GalacticCenter/\"\n"
   ]
  },
  {
   "cell_type": "code",
   "execution_count": null,
   "metadata": {
    "collapsed": false
   },
   "outputs": [],
   "source": [
    "erg2TeV = (u.erg).to(u.TeV)\n",
    "print(erg2TeV)\n",
    "\n",
    "pylab.rcParams['figure.figsize'] = (12.0, 6.0)\n",
    "#matplotlib.rcParams['figure.figsize'] = (12.0, 6.0)\n"
   ]
  },
  {
   "cell_type": "code",
   "execution_count": null,
   "metadata": {
    "collapsed": false
   },
   "outputs": [],
   "source": [
    "# define our line fitting function\n",
    "fitfunc = lambda p, x: p[0] + p[1] * (x)\n",
    "errfunc = lambda p, x, y, err: (y - fitfunc(p, x)) / err\n",
    "\n",
    "# define our () fitting function\n",
    "fitfuncECPL = lambda p, x: p[0] + p[1] * np.log(x) - (x) / p[2] # np.log is natural log  \n",
    "errfuncECPL = lambda p, x, y, err: (np.log(y) - fitfuncECPL(p, x)) / (err)\n",
    "\n",
    "fitfuncECPL_CF = lambda N0, gamma, beta, E: N0 + gamma*E - 1.*np.exp(E) / beta \n",
    "\n",
    "\n",
    "#these are just copied from http://fermi.gsfc.nasa.gov/ssc/data/analysis/scitools/python_tutorial.html\n",
    "f = lambda E, N0, E0, gamma: N0*(E/E0)**(-1.*gamma)\n",
    "ferr = lambda E, F, N0, N0err, E0, cov_gg: \\\n",
    "                F*np.sqrt(N0err**2/N0**2 + ((np.log(E/E0))**2)*cov_gg)\n",
    "\n",
    "f_ecpl = lambda E,N0,E0,gamma,beta: N0*(E/E0)**(-1.*gamma)*np.exp(-1.*E/beta)\n",
    "ferr_ecpl = lambda E, F, N0, N0err, E0, cov_gg, b, cov_bb: \\\n",
    "F*np.sqrt(N0err**2/N0**2 + ((np.log(E/E0))**2) * cov_gg + (E/E0)**2 / b**4 * cov_bb)\n",
    "\n",
    "def plotPythonFit(energy, flux, flux_err_arg, name, color, ECPL=False, E0=1.):\n",
    "    \"\"\"fit flux points to a curve then plot\"\"\"\n",
    "    \n",
    "    if isinstance(flux_err_arg, tuple):\n",
    "        flux_err = (flux_err_arg[1] + flux_err_arg[0]) / 2 \n",
    "    else:\n",
    "        flux_err = flux_err_arg \n",
    "\n",
    "    if ECPL:\n",
    "        pinit = [-26, -2.25, 10]\n",
    "        out = optimize.leastsq(errfuncECPL, pinit,\n",
    "                               args=(energy/E0, flux, flux_err / flux), \n",
    "                               full_output=1)\n",
    "\n",
    "    else:\n",
    "        logx = np.log(energy/E0)\n",
    "        logy = np.log(flux)\n",
    "        logyerr = np.log(flux_err)\n",
    "\n",
    "        pinit = [-26, -2.25] # nb ln\n",
    "    \n",
    "        out = optimize.leastsq(errfunc, pinit,\n",
    "                               args=(logx, logy, logyerr), \n",
    "                               full_output=1)\n",
    "    # end if else ECPL \n",
    "\n",
    "    pfinal = out[0]\n",
    "    covar  = out[1]\n",
    "    print(\"parameters:\")\n",
    "    print(pfinal)\n",
    "    print(\"covariance matrix\")\n",
    "    print(covar)\n",
    "    \n",
    "    N0    = np.exp(pfinal[0])\n",
    "    gamma = pfinal[1]\n",
    "    E     = np.linspace(energy[0], energy[-1], num=100)\n",
    "    \n",
    "    if ECPL:\n",
    "        beta = pfinal[2]\n",
    "        \n",
    "        F    = f_ecpl(E, N0, E0, -1.*gamma, beta)\n",
    "        chi2 = np.sum((flux - f_ecpl(energy, N0, E0, -1.*gamma, beta))**2/flux_err**2) / (len(energy) - 3)\n",
    "        print(\"chi^2: \"+str(chi2)+'\\n')\n",
    "        beta_err  = np.sqrt( covar[2][2] ) * chi2 #* N0  \n",
    "        gamma_err = np.sqrt( covar[0][0] ) * chi2\n",
    "        N0_err    = np.sqrt( covar[1][1] ) * N0 * chi2\n",
    "        cov_gg = gamma_err**2\n",
    "        cov_bb = beta_err**2\n",
    "        Ferr = ferr_ecpl(E, F, N0, N0_err, E0, cov_gg, beta, cov_bb)\n",
    "\n",
    "        fitTitle = (name + ' - N0: {0:.2e} +- {2:.2e}, '\\\n",
    "                    'G: {1:.2f} +- {3:.2f}, '\\\n",
    "                    'Ec: {4:.2f} +- {5:.2f}, '\n",
    "                    'E0: {6:.0f}').format(float(N0), float(gamma),\n",
    "                                          float(N0_err), float(gamma_err),\n",
    "                                          float(beta), float(beta_err), float(E0))\n",
    "\n",
    "    else:\n",
    "        F    = f(E, N0, E0, -1.*gamma)\n",
    "        chi2 = np.sum((flux - f(energy, N0, E0, -1.*gamma))**2 / flux_err**2) / (len(energy) - 2)\n",
    "        print(chi2)\n",
    "        gamma_err = np.sqrt( covar[0][0] ) * chi2\n",
    "        N0_err    = np.sqrt( covar[1][1] ) * N0 * chi2\n",
    "        cov_gg = gamma_err**2\n",
    "        Ferr = ferr(E, F, N0, N0_err, E0, cov_gg)\n",
    "        \n",
    "        fitTitle = (name + ' - N0: {0:.2e} +- {2:.2e}, '\\\n",
    "                    'gamma: {1:.2f} +- {3:.2f}, '\\\n",
    "                    'E0: {4:.2f}').format(float(N0), float(gamma),\n",
    "                                          float(N0_err), float(gamma_err), float(E0))\n",
    "\n",
    "    plt.errorbar(energy, flux*energy**power, flux_err_arg, label=name, ls='')\n",
    "    #plt.plot(E, F * (E)**power, c=color, ls=\"--\", marker=\"\", label=fitTitle)\n",
    "    #plt.fill_between(E, (E)**power*(F+Ferr), (E)**power*(F-Ferr), color=color, alpha='0.25')\n",
    "    plt.plot(E, F * (E)**power, ls=\"--\", marker=\"\", label=fitTitle)\n",
    "    plt.fill_between(E, (E)**power*(F+Ferr), (E)**power*(F-Ferr), alpha='0.25')\n",
    "    plt.loglog(nonposy=\"clip\")\n",
    "\n",
    "# end plotPythonFit \n"
   ]
  },
  {
   "cell_type": "code",
   "execution_count": null,
   "metadata": {
    "collapsed": false
   },
   "outputs": [],
   "source": [
    "def extract_points(filename):\n",
    "    \"\"\"\"\"\"\n",
    "    with open(filename) as infile:\n",
    "        # make dict \n",
    "        for line in iter(infile):\n",
    "            line = line.split()\n",
    "            try:\n",
    "                float(line[0]) and float(line[3]) and float(line[4]) and float(line[5])\n",
    "                H_energy = np.append(H_energy, float(line[0]))\n",
    "                H_flux = np.append(H_flux, float(line[3]))\n",
    "                H_err_up = np.append(H_err_up, float(line[4]))\n",
    "                H_err_dwn = np.append(H_err_dwn, float(line[5]))\n",
    "            except ValueError:\n",
    "                continue \n",
    "# end extract SgrA spectral points from file     \n",
    "\n"
   ]
  },
  {
   "cell_type": "markdown",
   "metadata": {},
   "source": [
    "# HESS Points"
   ]
  },
  {
   "cell_type": "code",
   "execution_count": null,
   "metadata": {
    "collapsed": false
   },
   "outputs": [],
   "source": [
    "# SgrA spectral points and errors \n",
    "with open(gc_dir+\"spectralPoints/HESS_SgrAstar_SpectralPoints_Bins.txt\") as infile:\n",
    "    H_energy = np.array([])\n",
    "    H_flux = np.array([])\n",
    "    H_err_up = np.array([])\n",
    "    H_err_dwn = np.array([])\n",
    "    for line in iter(infile):\n",
    "        line = line.split()\n",
    "        try:\n",
    "            float(line[0]) and float(line[3]) and float(line[4]) and float(line[5])\n",
    "            H_energy = np.append(H_energy, float(line[0]))\n",
    "            H_flux = np.append(H_flux, float(line[3]))\n",
    "            H_err_up = np.append(H_err_up, float(line[4]))\n",
    "            H_err_dwn = np.append(H_err_dwn, float(line[5]))\n",
    "        except ValueError:\n",
    "            continue \n",
    "# end extract SgrA spectral points from file     \n",
    "\n",
    "#\"/spectralPoints/HESS_Diffuse_SpectralPoints_Bins.txt\""
   ]
  },
  {
   "cell_type": "code",
   "execution_count": null,
   "metadata": {
    "collapsed": false
   },
   "outputs": [],
   "source": [
    "# dN/dE\n",
    "power = 0.\n",
    "plotPythonFit(H_energy[:-3], H_flux[:-3], (H_err_dwn[:-3],H_err_up[:-3]), \n",
    "              \"blue\", \"HESS\", ECPL=True)\n",
    "# flux points\n",
    "plt.errorbar(H_energy[:-3], H_flux[:-3], yerr=(H_err_dwn[:-3],H_err_up[:-3]), \n",
    "             marker=\"+\", ls=\"\", color=\"blue\", label=\"HESS\")\n",
    "# upper limit points\n",
    "plt.errorbar(H_energy[-3:], H_flux[-3:], yerr=(H_err_up[-3:],H_err_dwn[-3:]), \n",
    "             marker=\"_\", ls=\"\", uplims=True, color = \"blue\")\n",
    "\n",
    "\n",
    "plt.legend(loc=\"best\")\n",
    "plt.xlabel(\"Energy [TeV]\")\n",
    "plt.ylabel(r\"dN/dE [TeV$^{-1}$ cm$^{-2}$ s$^{-1}$]\")"
   ]
  },
  {
   "cell_type": "code",
   "execution_count": null,
   "metadata": {
    "collapsed": false
   },
   "outputs": [],
   "source": [
    "# E^2 dN/dE\n",
    "power = 2.\n",
    "plotPythonFit(H_energy[:-3], H_flux[:-3], (H_err_dwn[:-3],H_err_up[:-3]), \n",
    "              \"blue\", \"HESS\", ECPL=True)\n",
    "# flux points\n",
    "plt.errorbar(H_energy[:-3], H_energy[:-3]**2*H_flux[:-3], \n",
    "             yerr=H_energy[:-3]**2*(H_err_dwn[:-3], H_err_up[:-3]), \n",
    "             marker=\"+\", ls=\"\", color=\"blue\", label=\"HESS\")\n",
    "# upper limit points\n",
    "plt.errorbar(H_energy[-3:], H_energy[-3:]**2*H_flux[-3:], \n",
    "             yerr=(H_energy[-3:]**2*H_err_up[-3:], H_energy[-3:]**2*H_err_dwn[-3:]), \n",
    "             marker=\"_\", ls=\"\", uplims=True, color = \"blue\")\n",
    "\n",
    "plt.loglog(nonposy=\"clip\")\n",
    "plt.legend(loc=\"best\")\n",
    "plt.xlabel(\"Energy [TeV]\")\n",
    "plt.ylabel(r\"E$^2$ dN/dE [TeV cm$^{-2}$ s$^{-1}$]\")\n"
   ]
  },
  {
   "cell_type": "code",
   "execution_count": null,
   "metadata": {
    "collapsed": false
   },
   "outputs": [],
   "source": [
    "VEGAS_Points = \"\"\"\n",
    "2.499 6.62e-09 5.64e-10\n",
    "3.96 1.61e-09 1.01e-10\n",
    "6.273 4.9e-10 3.7e-11\n",
    "9.935 1.49e-10 1.43e-11\n",
    "15.73 4.3e-11 5.43e-12\n",
    "24.87 6.44e-12 1.55e-12\n",
    "35.37 5.29e-13 5.86e-13\"\"\"\n",
    "\n",
    "V_Points_fine = astropy.io.ascii.read(VEGAS_Points)\n",
    "# convert from m^-2 to cm^-2\n",
    "V_Points_fine['col2'] *= 1e-4\n",
    "V_Points_fine['col3'] *= 1e-4\n",
    "\n",
    "V_Points_fine"
   ]
  },
  {
   "cell_type": "code",
   "execution_count": null,
   "metadata": {
    "collapsed": false
   },
   "outputs": [],
   "source": [
    "power = 0.\n",
    "plotPythonFit(V_Points_fine['col1'], V_Points_fine['col2'], V_Points_fine['col3'], \"blue\", \"HESS\", ECPL=True, E0=1.25)\n",
    "plt.errorbar(V_Points_fine['col1'], V_Points_fine['col2'] * V_Points_fine['col1']**power, \n",
    "             yerr = V_Points_fine['col3'] * V_Points_fine['col1']**power,\n",
    "            label = \"VERITAS 2016 Paper\", ls=\"\", marker=\"+\", color=\"red\")\n",
    "plt.loglog(nonposy=\"clip\")\n",
    "plt.ylim(ymin=1e-17)\n",
    "plt.xlabel(\"Energy [TeV]\")\n",
    "plt.ylabel(r\" dN/dE [TeV m$^{-2}$ s$^{-1}$]\")\n"
   ]
  },
  {
   "cell_type": "markdown",
   "metadata": {
    "collapsed": true
   },
   "source": [
    "Combine "
   ]
  },
  {
   "cell_type": "code",
   "execution_count": null,
   "metadata": {
    "collapsed": false
   },
   "outputs": [],
   "source": [
    "# highest energy bins \n",
    "VEGAS_Points = \"\"\"\n",
    "2.498   6.82e-09    5.97e-10\n",
    "3.959   1.69e-09    1.08e-10\n",
    "6.274   5.42e-10    4.14e-11\n",
    "9.943   1.67e-10    1.69e-11\n",
    "15.76   6.00e-11    7.63e-12\n",
    "24.98   1.02e-11    2.59e-12\n",
    "39.59   1.03e-12    7.56e-13 \"\"\"\n",
    "\n",
    "V_Points = astropy.io.ascii.read(VEGAS_Points)\n",
    "# convert from m^-2 to cm^-2\n",
    "V_Points['col2'] *= 1e-4\n",
    "V_Points['col3'] *= 1e-4\n",
    "\n",
    "V_Points\n"
   ]
  },
  {
   "cell_type": "code",
   "execution_count": null,
   "metadata": {
    "collapsed": false
   },
   "outputs": [],
   "source": [
    "power = 2.\n",
    "\n",
    "# my VEGAS points\n",
    "#plotPythonFit(V_Points['col1'], V_Points['col2'], V_Points['col3'], \"blue\", \"HESS\", ECPL=True, E0=1.0)\n",
    "plt.errorbar(V_Points['col1'], V_Points['col2'] * V_Points['col1']**power, \n",
    "             yerr = V_Points['col3'] * V_Points['col1']**power,\n",
    "            label = \"Matt Buchovecky 2016 Update\", ls=\"\", marker=\"+\", color=\"red\")\n",
    "\n",
    "# HESS points\n",
    "plotPythonFit(H_energy[:-3], H_flux[:-3], (H_err_dwn[:-3],H_err_up[:-3]), \n",
    "              \"blue\", \"HESS\", ECPL=True)\n",
    "plt.errorbar(H_energy[:-3], H_energy[:-3]**2*H_flux[:-3], \n",
    "             yerr=H_energy[:-3]**2*(H_err_dwn[:-3], H_err_up[:-3]), \n",
    "             marker=\"+\", ls=\"\", color=\"blue\", label=\"HESS\")\n",
    "plt.errorbar(H_energy[-3:], H_energy[-3:]**2*H_flux[-3:], \n",
    "             yerr=(H_energy[-3:]**2*H_err_up[-3:], H_energy[-3:]**2*H_err_dwn[-3:]), \n",
    "             marker=\"_\", ls=\"\", uplims=True, color = \"blue\")\n",
    "\n",
    "# plot format and save \n",
    "plt.loglog(nonposy=\"clip\")\n",
    "plt.ylim(ymin=3e-14)\n",
    "plt.legend(loc=\"best\")\n",
    "plt.xlabel(\"Energy [TeV]\")\n",
    "plt.ylabel(r\"E$^2$ dN/dE [TeV cm$^{-2}$ s$^{-1}$]\")\n",
    "\n",
    "plt.savefig(gc_dir+\"/plots/spectra/SgrA_spectra_HESSoverlay_ECPL.png\")\n"
   ]
  },
  {
   "cell_type": "code",
   "execution_count": null,
   "metadata": {
    "collapsed": false
   },
   "outputs": [],
   "source": [
    "power = 2.\n",
    "# fine binning \n",
    "\n",
    "# my VEGAS points\n",
    "#plotPythonFit(V_Points['col1'], V_Points['col2'], V_Points['col3'], \"blue\", \"HESS\", ECPL=True, E0=1.0)\n",
    "plt.errorbar(V_Points_fine['col1'], V_Points_fine['col2'] * V_Points_fine['col1']**power, \n",
    "             yerr = V_Points_fine['col3'] * V_Points_fine['col1']**power,\n",
    "            label = \"Matt Buchovecky 2016 Update\", ls=\"\", marker=\"+\", color=\"red\")\n",
    "\n",
    "# HESS points\n",
    "plotPythonFit(H_energy[:-3], H_flux[:-3], (H_err_dwn[:-3],H_err_up[:-3]), \n",
    "              \"blue\", \"HESS\", ECPL=True)\n",
    "plt.errorbar(H_energy[:-3], H_energy[:-3]**2*H_flux[:-3], \n",
    "             yerr=H_energy[:-3]**2*(H_err_dwn[:-3], H_err_up[:-3]), \n",
    "             marker=\"+\", ls=\"\", color=\"blue\", label=\"HESS\")\n",
    "plt.errorbar(H_energy[-3:], H_energy[-3:]**2*H_flux[-3:], \n",
    "             yerr=(H_energy[-3:]**2*H_err_up[-3:], H_energy[-3:]**2*H_err_dwn[-3:]), \n",
    "             marker=\"_\", ls=\"\", uplims=True, color = \"blue\")\n",
    "\n",
    "# plot format \n",
    "plt.loglog(nonposy=\"clip\")\n",
    "plt.ylim(ymin=3e-14)\n",
    "plt.legend(loc=\"best\")\n",
    "plt.xlabel(\"Energy [TeV]\")\n",
    "plt.ylabel(r\"E$^2$ dN/dE [TeV cm$^{-2}$ s$^{-1}$]\")\n",
    "\n",
    "# not saving "
   ]
  },
  {
   "cell_type": "code",
   "execution_count": null,
   "metadata": {
    "collapsed": false
   },
   "outputs": [],
   "source": [
    "Andy_Points = '''\n",
    "2.813 3.44e-13 4.52e-14 \n",
    "3.541 2.17e-13 2.43e-14\n",
    "4.458 1.23e-13 1.37e-14\n",
    "5.613 5.13e-14  7.4e-15\n",
    "7.066 2.72e-14  4.3e-15\n",
    "8.896 1.27e-14 2.48e-15\n",
    "12.49  5.8e-15 8.86e-16\n",
    " 19.8 1.44e-15 3.36e-16\n",
    "31.39 1.22e-16 8.14e-17'''\n",
    "\n",
    "A_Points = astropy.io.ascii.read(Andy_Points)\n",
    "A_Points"
   ]
  },
  {
   "cell_type": "code",
   "execution_count": null,
   "metadata": {
    "collapsed": false
   },
   "outputs": [],
   "source": [
    "power = 2.\n",
    "\n",
    "# my VEGAS points\n",
    "#plotPythonFit(V_Points['col1'], V_Points['col2'], V_Points['col3'], \"blue\", \"HESS\", ECPL=True, E0=1.0)\n",
    "plt.errorbar(V_Points['col1'], V_Points['col2'] * V_Points['col1']**power, \n",
    "             yerr = V_Points['col3'] * V_Points['col1']**power,\n",
    "            label = \"Matt Buchovecky 2016 Update\", ls=\"\", marker=\"+\", color=\"red\")\n",
    "\n",
    "# HESS points\n",
    "plotPythonFit(H_energy[:-3], H_flux[:-3], (H_err_dwn[:-3],H_err_up[:-3]), \n",
    "              \"blue\", \"HESS\", ECPL=True)\n",
    "plt.errorbar(H_energy[:-3], H_energy[:-3]**2*H_flux[:-3], \n",
    "             yerr=H_energy[:-3]**2*(H_err_dwn[:-3], H_err_up[:-3]), \n",
    "             marker=\"+\", ls=\"\", color=\"blue\", label=\"HESS\")\n",
    "plt.errorbar(H_energy[-3:], H_energy[-3:]**2*H_flux[-3:], \n",
    "             yerr=(H_energy[-3:]**2*H_err_up[-3:], H_energy[-3:]**2*H_err_dwn[-3:]), \n",
    "             marker=\"_\", ls=\"\", uplims=True, color = \"blue\")\n",
    "\n",
    "# Andy's points \n",
    "\n",
    "plt.errorbar(A_Points['col1'], A_Points['col2'] * A_Points['col1']**power, \n",
    "             yerr = A_Points['col3'] * A_Points['col1']**power,\n",
    "            label = \"VERITAS 2016 Paper\", ls=\"\", marker=\"+\", color=\"gray\")\n",
    "\n",
    "# plot format and save \n",
    "plt.loglog(nonposy=\"clip\")\n",
    "plt.ylim(ymin=3e-14)\n",
    "plt.legend(loc=\"best\")\n",
    "plt.xlabel(\"Energy [TeV]\")\n",
    "plt.ylabel(r\"E$^2$ dN/dE [TeV cm$^{-2}$ s$^{-1}$]\")\n",
    "\n",
    "plt.savefig(gc_dir+\"/plots/spectra/SgrA_spectra_HESSoverlay_wAndy_ECPL.png\")\n"
   ]
  },
  {
   "cell_type": "code",
   "execution_count": null,
   "metadata": {
    "collapsed": true
   },
   "outputs": [],
   "source": []
  },
  {
   "cell_type": "markdown",
   "metadata": {},
   "source": [
    "<h2>G0.9+0.1"
   ]
  },
  {
   "cell_type": "code",
   "execution_count": null,
   "metadata": {
    "collapsed": false
   },
   "outputs": [],
   "source": [
    "power = 2.\n",
    "# all energies in TeV \n",
    "G09_points_M2016 = astropy.io.ascii.read(gc_dir+\"/spectralPoints/G09+01_spectrum_fullExclusions.txt\")\n",
    "G09_points_Andy = astropy.io.ascii.read(gc_dir+\"spectralPoints/G09+01_Andy_spectral_points_E2-ergs.txt\")\n",
    "G09_points_HESS = astropy.io.ascii.read(gc_dir+\"/spectralPoints/G09+01_HESS_spectrum_2005_points.csv\")\n",
    "\n",
    "# convert m^-2 to cm^-2 \n",
    "G09_points_M2016['col2'] *= 1e-4\n",
    "G09_points_M2016['col3'] *= 1e-4\n",
    "\n",
    "print(G09_points_HESS)\n",
    "\n",
    "plt.errorbar(G09_points_M2016['col1'], G09_points_M2016['col2'], G09_points_M2016['col3'], \n",
    "            label='M2016', ls='')\n",
    "plt.errorbar(G09_points_Andy['col1'], G09_points_Andy['col2'], G09_points_Andy['col3'],\n",
    "            label=\"Andy\", ls='')\n",
    "plt.errorbar(G09_points_HESS['col1'], G09_points_HESS['col2'], (G09_points_HESS['col4'], G09_points_HESS['col3']),\n",
    "            label=\"HESS\", ls='')\n",
    "\n",
    "plt.title(\"G0.9+0.1 Spectrum \")\n",
    "plt.loglog(nonposy=\"clip\")\n",
    "plt.legend(loc=\"best\")\n",
    "plt.xlabel(\"Energy [TeV]\")\n",
    "plt.ylabel(r\"E$^2$ dN/dE [TeV cm$^{-2}$ s$^{-1}$]\")\n",
    "\n",
    "plt.savefig(gc_dir+\"/plots/spectra/G09_spectra_HESSoverlay_wAndy.png\")\n",
    "\n"
   ]
  },
  {
   "cell_type": "code",
   "execution_count": null,
   "metadata": {
    "collapsed": false
   },
   "outputs": [],
   "source": [
    "plotPythonFit(G09_points_M2016['col1'], G09_points_M2016['col2'], G09_points_M2016['col3'], \n",
    "                'M2016', color='blue')\n"
   ]
  }
 ],
 "metadata": {
  "kernelspec": {
   "display_name": "Python 3",
   "language": "python",
   "name": "python3"
  },
  "language_info": {
   "codemirror_mode": {
    "name": "ipython",
    "version": 3
   },
   "file_extension": ".py",
   "mimetype": "text/x-python",
   "name": "python",
   "nbconvert_exporter": "python",
   "pygments_lexer": "ipython3",
   "version": "3.5.1"
  }
 },
 "nbformat": 4,
 "nbformat_minor": 0
}
