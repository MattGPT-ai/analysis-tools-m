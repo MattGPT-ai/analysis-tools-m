{
 "cells": [
  {
   "cell_type": "code",
   "execution_count": 2,
   "metadata": {
    "collapsed": true
   },
   "outputs": [],
   "source": [
    "import numpy as np"
   ]
  },
  {
   "cell_type": "markdown",
   "metadata": {},
   "source": [
    "Finding rough minimum flux level required to detect "
   ]
  },
  {
   "cell_type": "code",
   "execution_count": 3,
   "metadata": {
    "collapsed": false
   },
   "outputs": [
    {
     "name": "stdout",
     "output_type": "stream",
     "text": [
      "3.29049378665\n",
      "2.30896770473\n"
     ]
    }
   ],
   "source": [
    "\n",
    "sig = 34. # roughly \n",
    "time = 6406. / 60. # hours \n",
    "sens = sig / np.sqrt(time) # sensitivity \n",
    "t = (5./sens)**2 # time required to find 5 sigma \n",
    "\n",
    "print(sens)\n",
    "print(t)\n"
   ]
  },
  {
   "cell_type": "markdown",
   "metadata": {},
   "source": [
    "$$S = s / \\sqrt{t}$$\n",
    "$$t = \\left( \\frac{s}{S} \\right) ^2$$\n",
    "Poisson distribution can be approximated as Gaussian for $n>10$ events "
   ]
  },
  {
   "cell_type": "code",
   "execution_count": 4,
   "metadata": {
    "collapsed": false
   },
   "outputs": [
    {
     "name": "stdout",
     "output_type": "stream",
     "text": [
      "9.493464\n",
      "0.37128131999999997\n",
      "16.613561999999998\n"
     ]
    }
   ],
   "source": [
    "gam_rate = 0.1582244 * 60 # gamma / hour \n",
    "gam_err = 0.006188022 * 60 \n",
    "#bg_rate = \n",
    "f = 1.75\n",
    "\n",
    "print(gam_rate)\n",
    "print(gam_err)\n",
    "print(gam_rate*f)\n"
   ]
  },
  {
   "cell_type": "code",
   "execution_count": 27,
   "metadata": {
    "collapsed": false
   },
   "outputs": [
    {
     "name": "stdout",
     "output_type": "stream",
     "text": [
      "28.480392\n",
      "5.33670235258\n",
      "49.840686\n",
      "7.05979362305\n",
      " a flux level of 1.75 measured for 3 hours times the average rate would be 3.02562583845 stdevs away from the average rate\n"
     ]
    }
   ],
   "source": [
    "max_exp = 3.0 # hours / night \n",
    "exposure = 3\n",
    "assert(exposure <= max_exp)\n",
    "num_evts = exposure * gam_rate\n",
    "\n",
    "print(num_evts)\n",
    "print(np.sqrt(num_evts))\n",
    "\n",
    "# if flux increased \n",
    "f = 1.75\n",
    "print(num_evts*f)\n",
    "stdev_f = np.sqrt(num_evts*f)\n",
    "print(stdev_f)\n",
    "n_sigma = (num_evts*f-num_evts)/stdev_f\n",
    "\n",
    "print(\" a flux level of \" + str(f) + \" measured for \" + str(exposure) + \" hours\"\\\n",
    "      \" times the average rate would be \" + str(n_sigma) \\\n",
    "      + \" stdevs away from the average rate\")\n"
   ]
  },
  {
   "cell_type": "markdown",
   "metadata": {},
   "source": [
    "$$ \\frac{fN-N}{\\sqrt{fN}} = t $$\n",
    "$$ \\left(f-1\\right)^2N^2 = t^2fN $$"
   ]
  },
  {
   "cell_type": "code",
   "execution_count": 18,
   "metadata": {
    "collapsed": false
   },
   "outputs": [
    {
     "name": "stdout",
     "output_type": "stream",
     "text": [
      "42.720588\n",
      "6.53609883646\n",
      " a flux level of 1.5 measured for 3.0 hours times the average rate would be 2.17869961215 standard deviations away from the average rate\n"
     ]
    }
   ],
   "source": [
    "\n"
   ]
  },
  {
   "cell_type": "code",
   "execution_count": 13,
   "metadata": {
    "collapsed": false
   },
   "outputs": [
    {
     "name": "stdout",
     "output_type": "stream",
     "text": [
      "28.4067675035\n",
      "31.558912199999998\n"
     ]
    }
   ],
   "source": [
    "print(np.sqrt(gam_rate*85))\n",
    "print(gam_err*85)\n"
   ]
  }
 ],
 "metadata": {
  "kernelspec": {
   "display_name": "Python 3",
   "language": "python",
   "name": "python3"
  },
  "language_info": {
   "codemirror_mode": {
    "name": "ipython",
    "version": 3
   },
   "file_extension": ".py",
   "mimetype": "text/x-python",
   "name": "python",
   "nbconvert_exporter": "python",
   "pygments_lexer": "ipython3",
   "version": "3.5.1"
  }
 },
 "nbformat": 4,
 "nbformat_minor": 0
}
