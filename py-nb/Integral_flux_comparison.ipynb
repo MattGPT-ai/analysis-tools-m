{
 "cells": [
  {
   "cell_type": "code",
   "execution_count": 39,
   "metadata": {
    "collapsed": false
   },
   "outputs": [],
   "source": [
    "import math\n",
    "from scipy import integrate\n",
    "\n",
    "def dNdE_powerLaw(E, N0, G): # norm, index, energy (TeV)\n",
    "    dNdE = N0*math.exp(-G*E)\n",
    "    return dNdE\n",
    "    "
   ]
  },
  {
   "cell_type": "markdown",
   "metadata": {},
   "source": [
    "$$\\frac{dN}{dE}=N_0 e^{-\\Gamma E}$$"
   ]
  },
  {
   "cell_type": "code",
   "execution_count": 40,
   "metadata": {
    "collapsed": true
   },
   "outputs": [],
   "source": [
    "# set the fit parameters for each source \n",
    "norm_SgrA = 6.113e-8\n",
    "index_SgrA = 2.57\n",
    "norm_Crab = 3.157e-7 \n",
    "index_Crab = 2.525 \n",
    "\n",
    "Emin_Crab = 0.5 # TeV \n",
    "Emin_SgrA = 2.0 # TeV\n",
    "Emax_both = 40. # TeV\n",
    "\n",
    "gamma_rate_SgrA = 0.155 # gamma / min \n",
    "gamma_rate_Crab = 2.63  # gamma / min"
   ]
  },
  {
   "cell_type": "code",
   "execution_count": 43,
   "metadata": {
    "collapsed": false
   },
   "outputs": [
    {
     "name": "stdout",
     "output_type": "stream",
     "text": [
      "1.3933097795336147e-10\n",
      "8.013571270764387e-10\n",
      "3.537662956185068e-08\n"
     ]
    }
   ],
   "source": [
    "# integrate the differential energy distribution for Sgr A* \n",
    "int_tuple_SgrA = integrate.quad(dNdE_powerLaw, Emin_SgrA, math.inf, args=(norm_SgrA,index_SgrA))\n",
    "int_flux_SgrA = int_tuple_SgrA[0]\n",
    "int_upperBoundErr_SgrA = int_tuple_SgrA[1]\n",
    "\n",
    "# now for the Crab with the same bounds as for Sgr A*\n",
    "int_tuple_Crab_1 = integrate.quad(dNdE_powerLaw, Emin_SgrA, math.inf, args=(norm_Crab,index_Crab))\n",
    "int_flux_Crab_1 = int_tuple_Crab_1[0]\n",
    "int_upperBoundErr_Crab_1 = int_tuple_Crab_1[1]\n",
    "\n",
    "# do the Crab with its full, larger energy range\n",
    "int_tuple_Crab_2 = integrate.quad(dNdE_powerLaw, Emin_Crab, math.inf, args=(norm_Crab,index_Crab))\n",
    "int_flux_Crab_2 = int_tuple_Crab_2[0]\n",
    "int_upperBoundErr_Crab_2 = int_tuple_Crab_2[1]\n",
    "\n",
    "print(int_flux_SgrA)\n",
    "print(int_flux_Crab_1)\n",
    "print(int_flux_Crab_2)"
   ]
  },
  {
   "cell_type": "code",
   "execution_count": 44,
   "metadata": {
    "collapsed": false
   },
   "outputs": [
    {
     "name": "stdout",
     "output_type": "stream",
     "text": [
      "The ratio of Sgr A* flux to the Crab flux, integrated from 2TeV to 40TeV for both:\n",
      "0.1738687699224408\n",
      "The ratio of Sgr A* flux to the Crab flux, integrated from 0.5TeV to 40TeV for Crab\n",
      "0.003938503460590059\n",
      "The ratio of Sgr A* gamma rate to Crab gamma rate, as reported by VEGAS\n",
      "0.05893536121673004\n"
     ]
    }
   ],
   "source": [
    "print(\"The ratio of Sgr A* flux to the Crab flux, integrated from 2TeV to 40TeV for both:\")\n",
    "print(int_flux_SgrA/int_flux_Crab_1)\n",
    "\n",
    "print(\"The ratio of Sgr A* flux to the Crab flux, integrated from 0.5TeV to 40TeV for Crab\")\n",
    "print(int_flux_SgrA/int_flux_Crab_2)\n",
    "\n",
    "print(\"The ratio of Sgr A* gamma rate to Crab gamma rate, as reported by VEGAS\")\n",
    "print(gamma_rate_SgrA/gamma_rate_Crab)"
   ]
  },
  {
   "cell_type": "markdown",
   "metadata": {},
   "source": [
    "<table border=\"1\">\n",
    "<tr>\n",
    "<th>Source</th>\n",
    "<th>Flux from 2TeV to Infiniti</th>\n",
    "</tr>\n",
    "<tr>\n",
    "<td>Sgr A*</td>\n",
    "<td>$$1.393\\times10^{-10}$$</td>\n",
    "</tr>\n",
    "<tr>\n",
    "<td>Crab</td>\n",
    "<td>$$8.01\\times10^{-10}$$</td>\n",
    "</tr>\n",
    "<tr>\n",
    "<td>Ratio</td>\n",
    "<td>$$0.1739$$</td>\n",
    "</tr>\n",
    "</table>\n",
    "\n",
    "$$Flux_{SgrA}={{a}}\\frac{gamma}{{m^2s}}$$"
   ]
  },
  {
   "cell_type": "code",
   "execution_count": null,
   "metadata": {
    "collapsed": true
   },
   "outputs": [],
   "source": []
  }
 ],
 "metadata": {
  "kernelspec": {
   "display_name": "Python 3",
   "language": "python",
   "name": "python3"
  },
  "language_info": {
   "codemirror_mode": {
    "name": "ipython",
    "version": 3
   },
   "file_extension": ".py",
   "mimetype": "text/x-python",
   "name": "python",
   "nbconvert_exporter": "python",
   "pygments_lexer": "ipython3",
   "version": "3.5.1"
  }
 },
 "nbformat": 4,
 "nbformat_minor": 0
}
