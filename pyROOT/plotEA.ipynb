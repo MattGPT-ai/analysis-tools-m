{
 "cells": [
  {
   "cell_type": "code",
   "execution_count": 1,
   "metadata": {
    "collapsed": false
   },
   "outputs": [
    {
     "name": "stderr",
     "output_type": "stream",
     "text": [
      "/usr/local/lib/python2.7/site-packages/matplotlib/font_manager.py:273: UserWarning: Matplotlib is building the font cache using fc-list. This may take a moment.\n",
      "  warnings.warn('Matplotlib is building the font cache using fc-list. This may take a moment.')\n"
     ]
    }
   ],
   "source": [
    "%matplotlib inline\n",
    "import numpy as np\n",
    "import matplotlib.pyplot as plt\n",
    "from astropy.coordinates import SkyCoord\n",
    "\n",
    "from scipy.interpolate import spline\n",
    "\n",
    "import os\n",
    "import ROOT\n",
    "from ROOT import TFile, gROOT, gSystem, TGraphAsymmErrors\n",
    "import rootnotes\n",
    "import rootprint"
   ]
  },
  {
   "cell_type": "code",
   "execution_count": 8,
   "metadata": {
    "collapsed": false
   },
   "outputs": [
    {
     "name": "stdout",
     "output_type": "stream",
     "text": [
      "reloading /Users/ralph/Software/VEGAS-RalphEdits/common/include/VACommon.h  0\n",
      "reloading VAUsefulConversions.h  0\n",
      "reloading cfloat  0\n",
      "reloading float.h  0\n",
      "reloading /Users/ralph/Software/root-v5.34.34/etc/plugins/TArchiveFile/P010_TZIPFile.C  0\n",
      "reloading /Users/ralph/Software/root-v5.34.34/etc/plugins/TVirtualStreamerInfo/P010_TStreamerInfo.C  0\n",
      "\n"
     ]
    }
   ],
   "source": [
    "%%rootprint\n",
    "rootPath=os.path.expandvars(\"$VEGAS\")\n",
    "gSystem.Load(\"libTreePlayer.so\");\n",
    "gSystem.Load(\"libPhysics.so\");\n",
    "gSystem.Load(rootPath + \"/common/lib/libSP24sharedLite.so\");\n",
    "gSystem.Load(rootPath + \"/resultsExtractor/lib/libStage6shared.so\");\n",
    "gSystem.Load(rootPath + \"/showerReconstruction2/lib/libStage4.so\");\n",
    "gSystem.AddIncludePath(\"-Wno-unused -Wno-shadow -Wno-unused-parameter\");\n",
    "gROOT.ProcessLine(\".L \" + rootPath + \"/common/include/VACommon.h\");\n",
    "gROOT.ProcessLine(\".include \" + rootPath + \"/common/include/\");\n",
    "gROOT.ProcessLine(\".include \" + rootPath + \"/resultsExtractor/include/\");"
   ]
  },
  {
   "cell_type": "code",
   "execution_count": 27,
   "metadata": {
    "collapsed": false
   },
   "outputs": [],
   "source": [
    "eaF = TFile(\"EA_oa21stan_soft_ED_GRISU.root\", \"read\")\n",
    "ea = eaF.Get(\"effective_areas/EffectiveArea_Azimuth_0_Zenith_0_Noise_3.62_AbsoluteOffset_0\")\n",
    "h = ea.pfEffArea_MC\n",
    "npoints     = h.GetN()\n",
    "\n",
    "x1, y1 = [], []\n",
    "for i in range(npoints):\n",
    "    tmpX, tmpY = ROOT.Double(0), ROOT.Double(0)\n",
    "    h.GetPoint(i, tmpX, tmpY)\n",
    "    x1.append(tmpX)\n",
    "    y1.append(tmpY)\n",
    "        \n",
    "x1 = np.array(x1)\n",
    "y1 = np.array(y1)"
   ]
  },
  {
   "cell_type": "code",
   "execution_count": 16,
   "metadata": {
    "collapsed": false
   },
   "outputs": [],
   "source": [
    "eaF = TFile(\"EA_na21stan_soft_All_ED_GRISU.root\", \"read\")\n",
    "ea = eaF.Get(\"effective_areas/EffectiveArea_Azimuth_0_Zenith_0_Noise_4.3_AbsoluteOffset_0\")\n",
    "\n",
    "h = ea.pfEffArea_MC\n",
    "npoints     = h.GetN()\n",
    "\n",
    "x2, y2 = [], []\n",
    "for i in range(npoints):\n",
    "    tmpX, tmpY = ROOT.Double(0), ROOT.Double(0)\n",
    "    h.GetPoint(i, tmpX, tmpY)\n",
    "    x2.append(tmpX)\n",
    "    y2.append(tmpY)\n",
    "        \n",
    "x2 = np.array(x2)\n",
    "y2 = np.array(y2)"
   ]
  },
  {
   "cell_type": "code",
   "execution_count": 17,
   "metadata": {
    "collapsed": false
   },
   "outputs": [],
   "source": [
    "eaF = TFile(\"EA_ua21stan_soft_All_ED_GRISU.root\", \"read\")\n",
    "ea = eaF.Get(\"effective_areas/EffectiveArea_Azimuth_0_Zenith_0_Noise_4.24_AbsoluteOffset_0\")\n",
    "\n",
    "h = ea.pfEffArea_MC\n",
    "npoints     = h.GetN()\n",
    "\n",
    "x3, y3 = [], []\n",
    "for i in range(npoints):\n",
    "    tmpX, tmpY = ROOT.Double(0), ROOT.Double(0)\n",
    "    h.GetPoint(i, tmpX, tmpY)\n",
    "    x3.append(tmpX)\n",
    "    y3.append(tmpY)\n",
    "    \n",
    "x3 = np.array(x3)\n",
    "y3 = np.array(y3)"
   ]
  },
  {
   "cell_type": "code",
   "execution_count": 18,
   "metadata": {
    "collapsed": false
   },
   "outputs": [],
   "source": [
    "x1_smooth = np.linspace(x1.min(), x1.max(), 200)\n",
    "order = 3\n",
    "y1_smooth = spline(x1, y1, x1_smooth, order=order)\n",
    "y2_smooth = spline(x2, y2, x1_smooth, order=order)\n",
    "y3_smooth = spline(x3, y3, x1_smooth, order=order)"
   ]
  },
  {
   "cell_type": "code",
   "execution_count": 26,
   "metadata": {
    "collapsed": false
   },
   "outputs": [
    {
     "data": {
      "image/png": "[encoded data removed]",
      "text/plain": [
       "<matplotlib.figure.Figure at 0x10e5b6050>"
      ]
     },
     "metadata": {},
     "output_type": "display_data"
    }
   ],
   "source": [
    "plt.plot(x1_smooth, y1_smooth, ls = \"-\", marker = \"\", color = \"blue\")\n",
    "plt.plot(x1_smooth, y2_smooth, ls = \"-\", marker = \"\", color = \"green\")\n",
    "plt.plot(x1_smooth, y3_smooth, ls = \"-\", marker = \"\", color = \"red\")\n",
    "plt.semilogy(nonposy=\"clip\")\n",
    "plt.ylim(ymin=100, ymax = 2e5)\n",
    "plt.ylabel(r\"Effective Area [m$^2$]\")\n",
    "plt.xlabel(\"Energy [TeV]\")\n",
    "\n",
    "x = np.linspace(-2, 2, 5)\n",
    "labels = pow(10, x)\n",
    "t = plt.xticks(x, labels)\n",
    "\n"
   ]
  },
  {
   "cell_type": "code",
   "execution_count": 25,
   "metadata": {
    "collapsed": false
   },
   "outputs": [
    {
     "data": {
      "image/png": "[encoded data removed]",
      "text/plain": [
       "<matplotlib.figure.Figure at 0x10f32dc90>"
      ]
     },
     "metadata": {},
     "output_type": "display_data"
    }
   ],
   "source": [
    "plt.plot(x1, y1, ls = \"-\", marker = \"\", color = \"blue\")\n",
    "plt.plot(x2, y2, ls = \"-\", marker = \"\", color = \"green\")\n",
    "plt.plot(x3, y3, ls = \"-\", marker = \"\", color = \"red\")\n",
    "plt.semilogy(nonposy=\"clip\")\n",
    "plt.ylim(ymin=100, ymax = 2e5)\n",
    "plt.ylabel(r\"Effective Area [m$^2$]\")\n",
    "plt.xlabel(\"Energy [TeV]\")\n",
    "\n",
    "x = np.linspace(-2, 2, 5)\n",
    "labels = pow(10, x)\n",
    "t = plt.xticks(x, labels)"
   ]
  },
  {
   "cell_type": "code",
   "execution_count": null,
   "metadata": {
    "collapsed": true
   },
   "outputs": [],
   "source": []
  }
 ],
 "metadata": {
  "kernelspec": {
   "display_name": "Python 2",
   "language": "python",
   "name": "python2"
  },
  "language_info": {
   "codemirror_mode": {
    "name": "ipython",
    "version": 2
   },
   "file_extension": ".py",
   "mimetype": "text/x-python",
   "name": "python",
   "nbconvert_exporter": "python",
   "pygments_lexer": "ipython2",
   "version": "2.7.10"
  }
 },
 "nbformat": 4,
 "nbformat_minor": 0
}
