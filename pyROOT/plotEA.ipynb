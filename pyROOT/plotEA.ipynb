{
 "cells": [
  {
   "cell_type": "code",
   "execution_count": null,
   "metadata": {
    "collapsed": false
   },
   "outputs": [],
   "source": [
    "import os\n",
    "\n",
    "import numpy as np\n",
    "import matplotlib.pyplot as plt\n",
    "%matplotlib inline\n",
    "\n",
    "from astropy.coordinates import SkyCoord\n",
    "from scipy.interpolate import spline\n",
    "\n",
    "import ROOT\n",
    "from ROOT import TFile, gROOT, gSystem, TGraphAsymmErrors\n",
    "import rootnotes\n",
    "import rootprint\n"
   ]
  },
  {
   "cell_type": "code",
   "execution_count": null,
   "metadata": {
    "collapsed": false
   },
   "outputs": [],
   "source": [
    "%%rootprint\n",
    "rootPath=os.path.expandvars(\"$VEGAS\")\n",
    "gSystem.Load(\"libTreePlayer.so\");\n",
    "gSystem.Load(\"libPhysics.so\");\n",
    "gSystem.Load(rootPath + \"/common/lib/libSP24sharedLite.so\");\n",
    "gSystem.Load(rootPath + \"/resultsExtractor/lib/libStage6shared.so\");\n",
    "gSystem.Load(rootPath + \"/showerReconstruction2/lib/libStage4.so\");\n",
    "gSystem.AddIncludePath(\"-Wno-unused -Wno-shadow -Wno-unused-parameter\");\n",
    "gROOT.ProcessLine(\".L \" + rootPath + \"/common/include/VACommon.h\");\n",
    "gROOT.ProcessLine(\".include \" + rootPath + \"/common/include/\");\n",
    "gROOT.ProcessLine(\".include \" + rootPath + \"/resultsExtractor/include/\");"
   ]
  },
  {
   "cell_type": "code",
   "execution_count": null,
   "metadata": {
    "collapsed": true
   },
   "outputs": [],
   "source": [
    "azimuth = 135\n",
    "noise = 7.27"
   ]
  },
  {
   "cell_type": "code",
   "execution_count": null,
   "metadata": {
    "collapsed": false
   },
   "outputs": [],
   "source": [
    "filename = \"/DataDrive/tables/ea_disp5t_Oct2012_ua_ATM22_GrISUDet_vegas254_7sam_050wobb_LZA_std_d1p38_MSW1p1_MSL1p3_MH7_ThetaSq0p01_Deny2.root\"\n",
    "eaF = TFile(filename, \"read\")\n",
    "ea = eaF.Get(\"effective_areas/EffectiveArea_Azimuth_135_Zenith_65_Noise_7.27\")\n",
    "h = ea.pfEffArea_MC\n",
    "npoints = h.GetN()\n",
    "\n",
    "x1, y1 = [], []\n",
    "for i in range(npoints):\n",
    "    tmpX, tmpY = ROOT.Double(0), ROOT.Double(0)\n",
    "    h.GetPoint(i, tmpX, tmpY)\n",
    "    x1.append(tmpX)\n",
    "    y1.append(tmpY)\n",
    "        \n",
    "x1 = np.array(x1)\n",
    "y1 = np.array(y1)"
   ]
  },
  {
   "cell_type": "code",
   "execution_count": null,
   "metadata": {
    "collapsed": false
   },
   "outputs": [],
   "source": [
    "filename = \"/DataDrive/tables/ea_Oct2012_ua_ATM22_vegasv250rc5_7sam_Alloff_s700t2_std_MSW1p1_MSL1p3_MH7_ThetaSq0p01_LZA.root\"\n",
    "eaF = TFile(filename, \"read\")\n",
    "ea = eaF.Get(\"effective_areas/EffectiveArea_Azimuth_0_Zenith_0_Noise_7.27_AbsoluteOffset_0.5\")\n",
    "\n",
    "h = ea.pfEffArea_MC\n",
    "npoints     = h.GetN()\n",
    "\n",
    "x2, y2 = [], []\n",
    "for i in range(npoints):\n",
    "    tmpX, tmpY = ROOT.Double(0), ROOT.Double(0)\n",
    "    h.GetPoint(i, tmpX, tmpY)\n",
    "    x2.append(tmpX)\n",
    "    y2.append(tmpY)\n",
    "    \n",
    "x2 = np.array(x2)\n",
    "y2 = np.array(y2)"
   ]
  },
  {
   "cell_type": "code",
   "execution_count": null,
   "metadata": {
    "collapsed": false
   },
   "outputs": [],
   "source": [
    "x1_smooth = np.linspace(x1.min(), x1.max(), 200)\n",
    "order = 3\n",
    "y1_smooth = spline(x1, y1, x1_smooth, order=order)\n",
    "y2_smooth = spline(x2, y2, x1_smooth, order=order)\n"
   ]
  },
  {
   "cell_type": "code",
   "execution_count": null,
   "metadata": {
    "collapsed": false
   },
   "outputs": [],
   "source": [
    "plt.plot(x1_smooth, y2_smooth, ls=\"-\", marker=\"\", color=\"green\", label=\"0\")\n",
    "plt.plot(x1_smooth, y1_smooth, ls=\"-\", marker=\"\", color=\"blue\", label=\"65\")\n",
    "plt.semilogy(nonposy=\"clip\")\n",
    "plt.title(\"Effective Area vs Energy\")\n",
    "plt.xlabel(\"Energy [TeV]\")\n",
    "plt.ylabel(r\"Effective Area [m$^2$]\")\n",
    "plt.xlim(xmin=0.05)\n",
    "plt.ylim(ymin=10, ymax=6e5)\n",
    "plt.legend(loc='center left', bbox_to_anchor=(1., 0.5))\n",
    "\n",
    "x = np.linspace(-2, 2, 5)\n",
    "labels = pow(10, x)\n",
    "t = plt.xticks(x, labels)\n"
   ]
  },
  {
   "cell_type": "code",
   "execution_count": null,
   "metadata": {
    "collapsed": false
   },
   "outputs": [],
   "source": [
    "plt.plot(x1_smooth, y1_smooth, ls=\"-\", marker=\"\", color=\"blue\", label=\"LZA\")\n",
    "plt.plot(x1_smooth, y2_smooth, ls=\"-\", marker=\"\", color=\"green\", label=\"SZA\")\n",
    "plt.semilogy(nonposy=\"clip\")\n",
    "plt.title(\"Effective Area vs Energy\")\n",
    "plt.xlabel(\"Energy [TeV]\")\n",
    "plt.ylabel(r\"Effective Area [m$^2$]\")\n",
    "plt.xlim(xmin=0.05)\n",
    "plt.ylim(ymin=10, ymax=6e5)\n",
    "plt.legend(loc='center left', bbox_to_anchor=(1., 0.5))\n",
    "\n",
    "x = np.linspace(-2, 2, 5)\n",
    "labels = pow(10, x)\n",
    "t = plt.xticks(x, labels)\n"
   ]
  },
  {
   "cell_type": "code",
   "execution_count": null,
   "metadata": {
    "collapsed": false
   },
   "outputs": [],
   "source": [
    "%%rootprint\n",
    "eaF.ls()"
   ]
  },
  {
   "cell_type": "code",
   "execution_count": null,
   "metadata": {
    "collapsed": true
   },
   "outputs": [],
   "source": []
  }
 ],
 "metadata": {
  "kernelspec": {
   "display_name": "Python 2",
   "language": "python",
   "name": "python2"
  },
  "language_info": {
   "codemirror_mode": {
    "name": "ipython",
    "version": 2
   },
   "file_extension": ".py",
   "mimetype": "text/x-python",
   "name": "python",
   "nbconvert_exporter": "python",
   "pygments_lexer": "ipython2",
   "version": "2.7.11"
  }
 },
 "nbformat": 4,
 "nbformat_minor": 0
}
