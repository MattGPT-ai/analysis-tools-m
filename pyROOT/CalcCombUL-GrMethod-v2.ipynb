{
 "cells": [
  {
   "cell_type": "code",
   "execution_count": 1,
   "metadata": {
    "collapsed": false
   },
   "outputs": [
    {
     "name": "stderr",
     "output_type": "stream",
     "text": [
      "/usr/lib/python2.7/site-packages/IPython/zmq/__init__.py:65: RuntimeWarning: libzmq 4 detected.\n",
      "        It is unlikely that IPython's zmq code will work properly.\n",
      "        Please install libzmq stable, which is 2.1.x or 2.2.x\n",
      "  RuntimeWarning)\n"
     ]
    }
   ],
   "source": [
    "%matplotlib inline\n",
    "import matplotlib.pyplot as plt\n",
    "import matplotlib.cm as cm\n",
    "import numpy as np\n",
    "import aplpy\n",
    "import pylab\n",
    "from astropy.io import fits, ascii\n",
    "from astropy.coordinates import ICRS, angles, SkyCoord\n",
    "import astropy.units as u\n",
    "from astropy.wcs import wcs\n",
    "import ROOT\n",
    "from ROOT import TRolke, TFile, gROOT, gSystem, TGraph, TFeldmanCousins\n",
    "import rootnotes\n",
    "import rootprint\n",
    "import scipy.ndimage as ndimage\n",
    "import gammapy.spectrum\n",
    "import os\n",
    "from gammapy import stats\n",
    "# import fit \n",
    "\n",
    "pylab.rcParams['figure.figsize'] = (10.0, 8.0)\n",
    "plt.rc('font', family='serif', size=14)"
   ]
  },
  {
   "cell_type": "code",
   "execution_count": 2,
   "metadata": {
    "collapsed": false
   },
   "outputs": [
    {
     "name": "stdout",
     "output_type": "stream",
     "text": [
      "\n"
     ]
    }
   ],
   "source": [
    "%%rootprint\n",
    "rootDir=os.path.expandvars(\"$VEGAS\")\n",
    "\n",
    "ROOT.gROOT.Reset()\n",
    "gSystem.Load(\"libTreePlayer.so\")\n",
    "gSystem.Load(\"libPhysics.so\")\n",
    "gSystem.Load(rootDir + \"/common/lib/libSP24sharedLite.so\")\n",
    "gSystem.Load(rootDir + \"/resultsExtractor/lib/libStage6shared.so\")\n",
    "\n",
    "gROOT.ProcessLine(\".L \" + rootDir + \"/resultsExtractor/include/VAEffectiveAreaCommon.h\")\n",
    "gROOT.ProcessLine(\".L \" + rootDir + \"/common/include/VACommon.h\")\n",
    "gROOT.ProcessLine(\".include \" + rootDir + \"/common/include/\")\n",
    "gROOT.ProcessLine(\".include \" + rootDir + \"/resultsExtractor/src/\")\n",
    "gROOT.ProcessLine(\".include \" + rootDir + \"/resultsExtractor/include/\")\n",
    "gROOT.ProcessLine(\".include \" + rootDir + \"/cfitsio/include/\")"
   ]
  },
  {
   "cell_type": "code",
   "execution_count": 3,
   "metadata": {
    "collapsed": false
   },
   "outputs": [],
   "source": [
    "cuts  = 'Hard'\n",
    "theta = 'Point'\n",
    "if cuts == 'Hard':\n",
    "    clean = 'ED'\n",
    "else:\n",
    "    clean = 'Thresh'\n",
    "fitsF = \"rootdir/St6/All\" + cuts + theta + clean + \"M31.fits\"\n",
    "\n",
    "save=False\n",
    "plot=False\n",
    "\n",
    "livetime = 54.69*60.*60. #seconds\n",
    "\n",
    "#UL\n",
    "index    = -2.5\n",
    "diffUL   = 3e-9 # TeV-1 m-2 s-1 @ 1TeV (3e-9 = 1% Crab)\n",
    "\n",
    "#PSF\n",
    "sigma=0.065\n",
    "\n",
    "rolkeUL=0.95\n",
    "\n",
    "if theta == 'Point':\n",
    "    nTestReg = 8   #Number of test regions\n",
    "    sepDist  = 0.1 #Test region radius\n",
    "    ULpos = ascii.read(\"PointLocations.txt\")\n",
    "else:\n",
    "    nTestReg = 2\n",
    "    sepDist  = 0.2\n",
    "    ULpos = ascii.read(\"ExtLocations.txt\")\n",
    "\n",
    "#Plotting options\n",
    "pngRes=200 #dpi\n",
    "\n",
    "#cx1 = cubehelix.cmap(reverse=False, start=1.0, rot=-1)\n",
    "cx1 = 'Blues'\n",
    "cx1 = 'default'"
   ]
  },
  {
   "cell_type": "code",
   "execution_count": 4,
   "metadata": {
    "collapsed": false
   },
   "outputs": [],
   "source": [
    "def standard_setup(sp, exc=True):    \n",
    "    ###\n",
    "    # Plot formatting\n",
    "    ###\n",
    "    sp.ticks.show()\n",
    "    sp.ticks.set_color('black')\n",
    "    sp.tick_labels.set_xformat('dd')\n",
    "    sp.tick_labels.set_yformat('dd')\n",
    "    sp.ticks.set_xspacing(2)  # degrees\n",
    "    sp.ticks.set_yspacing(2)  # degrees\n",
    "    sp.set_frame_color('black')\n",
    "    sp.set_tick_labels_font(size='10')\n",
    "    sp.set_axis_labels_font(size='12') \n",
    "    \n",
    "    ###\n",
    "    # IRIS Contours\n",
    "    ###\n",
    "    contours = [1500,  2500,  3500 ]\n",
    "    sp.show_contour('M31_IRIS_cropped_ds9.fits',\n",
    "                  levels=contours, smooth=1,\n",
    "                  linewidths=1., colors=\"k\", zorder=2) #cmap=mpl.cm.gray\n",
    "    ###\n",
    "    # Exclusion Regions\n",
    "    ###\n",
    "    excColor=\"black\"\n",
    "    excLW=1.\n",
    "    #sp.show_circles(10.6847, 41.2687, 0.3, color=excColor, linewidth=excLW, zorder=4) # M31 center\n",
    "    #sp.show_circles(11, 41.5, 0.3, color=excColor, linewidth=excLW, zorder=4)\n",
    "    #sp.show_circles(11.2, 41.75, 0.3, color=excColor, linewidth=excLW, zorder=4)\n",
    "    #sp.show_circles(10.4, 41, 0.3, color=excColor, linewidth=excLW, zorder=4)\n",
    "    #sp.show_circles(10.25, 40.7, 0.25, color=excColor, linewidth=excLW, zorder=4)\n",
    "    sp.show_circles(12.4535, 41.079, 0.3, color=excColor, linewidth=excLW, zorder=4) # nu Andromedae\n",
    "    \n",
    "    if exc:\n",
    "        sp.add_label(12.4535, 41.45, r'$\\nu$' + '-Andromedae', \n",
    "                     size=12, weight='demi', color='black') \n",
    "    \n",
    "    ###\n",
    "    # Colorbar\n",
    "    ###\n",
    "    sp.add_colorbar()\n",
    "    sp.colorbar.set_location('right')\n",
    "    sp.colorbar.set_width(0.2)  # arbitrary units, default is 0.2\n",
    "    sp.colorbar.set_pad(0.05)  # arbitrary units, default is 0.05\n",
    "    sp.colorbar.set_font(size=10)#, weight='bold', variant='normal')\n",
    "    \n",
    "def sumInRegion(data, header, raIn, decIn, radius):\n",
    "    '''\n",
    "    This is the total number of counts from the fits file (passed as data and header)\n",
    "    within the region defined by raIn, decIn and its radius.\n",
    "    It returns the total counts, that is all'''\n",
    "    \n",
    "    wcs_transformation = wcs.WCS(header)\n",
    "    #init = wcs_transformation.wcs_world2pix(10.6847, 41.2687, 0) # center of fit pt, this case Crab Nebula\n",
    "\n",
    "    target  = SkyCoord(raIn, decIn, unit='deg', frame='icrs')\n",
    "\n",
    "    y, x = np.mgrid[:data.shape[0], :data.shape[1]]\n",
    "\n",
    "    ra, dec = wcs_transformation.wcs_pix2world(x, y, 0)\n",
    "    Point = SkyCoord(ra, dec, unit='deg', frame='icrs')\n",
    "\n",
    "    sep = target.separation(Point)\n",
    "    \n",
    "    data2 = data[(sep.deg<radius)]\n",
    "    \n",
    "    total = np.sum(data2)\n",
    "\n",
    "    return total\n",
    "\n",
    "def sumInRegionPoint(data, xIn, yIn, radius):\n",
    "    '''\n",
    "    This is the total number of counts\n",
    "    within the region defined by xIn, yIn and its radius.\n",
    "    It returns the total counts, that is all'''\n",
    "    \n",
    "    \n",
    "    y, x = np.mgrid[:data.shape[0], :data.shape[1]]\n",
    "\n",
    "    sep = np.sqrt((x-xIn)**2 + (y-yIn)**2)\n",
    "    \n",
    "    data2 = data[(sep<radius)]\n",
    "    \n",
    "    total = np.sum(data2)\n",
    "\n",
    "    return total\n",
    "\n",
    "def pointInEllipse(x,y,xp,yp,d,D,angle):\n",
    "    #tests if a point[xp,yp] is within\n",
    "    #boundaries defined by the ellipse\n",
    "    #of center[x,y], diameter d D, and tilted at angle\n",
    "    angle = np.deg2rad(angle)\n",
    "    \n",
    "    cosa=np.cos(angle)\n",
    "    sina=np.sin(angle)\n",
    "    dd=d/2*d/2\n",
    "    DD=D/2*D/2\n",
    "\n",
    "    a =np.power(cosa*(xp-x)+sina*(yp-y),2)\n",
    "    b =np.power(sina*(xp-x)-cosa*(yp-y),2)\n",
    "    ellipse=(((a/dd)+(b/DD))<1)\n",
    "\n",
    "    return ellipse"
   ]
  },
  {
   "cell_type": "markdown",
   "metadata": {},
   "source": [
    "# Plot RBM maps\n",
    "to start, just plot the RBM maps, shows what is going on here"
   ]
  },
  {
   "cell_type": "code",
   "execution_count": 5,
   "metadata": {
    "collapsed": false
   },
   "outputs": [],
   "source": [
    "if plot:\n",
    "    fig = plt.figure(figsize=(12, 12))\n",
    "    fig1 = aplpy.FITSFigure(fitsF, figure=fig, subplot=(2,3,1), hdu=5)\n",
    "    fig1.show_colorscale() \n",
    "    standard_setup(fig1)\n",
    "    fig1.set_title(\"Acceptance\")\n",
    "\n",
    "    fig1 = aplpy.FITSFigure(fitsF, figure=fig, subplot=(2,3,2), hdu=7)\n",
    "    fig1.show_colorscale() \n",
    "    standard_setup(fig1)\n",
    "    fig1.set_title(\"Acceptance\")\n",
    "    \n",
    "    fig1 = aplpy.FITSFigure(fitsF, figure=fig, subplot=(2,3,3), hdu=9)\n",
    "    fig1.show_colorscale() \n",
    "    standard_setup(fig1)\n",
    "    fig1.set_title(\"Acceptance\")\n",
    "    \n",
    "    fig1 = aplpy.FITSFigure(fitsF, figure=fig, subplot=(2,3,4), hdu=11)\n",
    "    fig1.show_colorscale() \n",
    "    standard_setup(fig1)\n",
    "    fig1.set_title(\"Acceptance\")\n",
    "    \n",
    "    fig1 = aplpy.FITSFigure(fitsF, figure=fig, subplot=(2,3,5), hdu=13)\n",
    "    fig1.show_colorscale() \n",
    "    standard_setup(fig1)\n",
    "    fig1.set_title(\"Acceptance\")\n",
    "    \n",
    "    fig1 = aplpy.FITSFigure(fitsF, figure=fig, subplot=(2,3,6), hdu=15)\n",
    "    fig1.show_colorscale() \n",
    "    standard_setup(fig1)\n",
    "    fig1.set_title(\"Acceptance\")"
   ]
  },
  {
   "cell_type": "markdown",
   "metadata": {},
   "source": [
    "#Calculate On Counts and Acceptance\n",
    "This is done by reading in the on counts and integral acceptance maps and using them to determin the total counts and acceptance within each of the test regions.  Since we are dealing with circular regions we can simply use the standard caclulation for separation from astropy"
   ]
  },
  {
   "cell_type": "code",
   "execution_count": 6,
   "metadata": {
    "collapsed": false
   },
   "outputs": [
    {
     "name": "stderr",
     "output_type": "stream",
     "text": [
      "WARNING: FITSFixedWarning: RADECSYS= 'FK5 ' / WCS for this file \n",
      "RADECSYS is non-standard, use RADESYSa. [astropy.wcs.wcs]\n",
      "WARNING:astropy:FITSFixedWarning: RADECSYS= 'FK5 ' / WCS for this file \n",
      "RADECSYS is non-standard, use RADESYSa.\n"
     ]
    },
    {
     "name": "stdout",
     "output_type": "stream",
     "text": [
      "[224.0, 248.0, 225.0, 290.0, 251.0, 296.0, 284.0, 276.0]\n",
      "[1917.5547, 1763.3992, 1754.7969, 1963.962, 1940.264, 1959.4745, 2066.9543, 2070.8359]\n",
      "Total 2094.0 15437.2 70940.0\n",
      "[2552.3404235839844, 388.26141357421875, 2654.7427368164062, 3190.6738586425781, 5918.4325561523438, 732.79041290283203]\n"
     ]
    }
   ],
   "source": [
    "onCounts  = 0 \n",
    "onAcc     = 0\n",
    "nbinsOn   = 0\n",
    "onC       = []\n",
    "onA       = []\n",
    "totCounts = 0\n",
    "grAcc     = []\n",
    "\n",
    "ptAcc = np.zeros([6, nTestReg])\n",
    "\n",
    "for group in range(6):\n",
    "    #counts setup\n",
    "    extname = 'RawOnMap'+str(group)\n",
    "    onData, onHeader      = fits.getdata(fitsF, header=True, extname=extname)\n",
    "    wcs_transformation_on = wcs.WCS(onHeader)\n",
    "    yOn, xOn              = np.mgrid[:onData.shape[0], :onData.shape[1]]\n",
    "    raOn, decOn           = wcs_transformation_on.all_pix2world(xOn, yOn, 0)\n",
    "    onPos                 = SkyCoord(raOn, decOn, unit='deg', frame='icrs')\n",
    "\n",
    "    totCounts += np.nansum(onData)\n",
    "    #acceptance setup\n",
    "    accData     = fits.getdata(fitsF, header=False, extname='AcceptanceMap'+str(group))\n",
    "\n",
    "    #bin area reading (getting this from the root file as easier)\n",
    "    fName = \"rootdir/St6/All\" + cuts + theta + clean + \"s6.root\"\n",
    "    f = TFile(fName, \"read\")\n",
    "    RBM = f.Get(\"RingBackgroundModelAnalysis/SkyMapOn\")\n",
    "\n",
    "    for i in range(accData.shape[0]):\n",
    "        for j in range(accData.shape[1]):\n",
    "            accData[i][j] = accData[i][j] * RBM.GetBinArea(i,j) \n",
    "    \n",
    "    gAcc = 0\n",
    "    for i in range(nTestReg):\n",
    "        Pt     = SkyCoord(ULpos['col1'][i], ULpos['col2'][i], unit='deg', frame='icrs')\n",
    "        onSep  = Pt.separation(onPos)\n",
    "        cnts = np.nansum(onData[onSep.deg<sepDist])\n",
    "\n",
    "        accSep = Pt.separation(onPos)\n",
    "        acc    = np.nansum(accData[onSep.deg<sepDist])*np.nansum(onData)\n",
    "        gAcc   += acc\n",
    "        ptAcc[group, i] = acc\n",
    "        if group == 0:\n",
    "            onC.append(cnts)\n",
    "            onA.append(acc)\n",
    "        else:\n",
    "            onC[i] += cnts\n",
    "            onA[i] += acc\n",
    "    grAcc.append(gAcc)\n",
    "        #print i+1, ULpos['col1'][i], ULpos['col2'][i], counts, acc\n",
    "\n",
    "print onC\n",
    "print onA\n",
    "onCounts = np.sum(onC)\n",
    "onAcc    = np.sum(onA)\n",
    "print \"Total\", onCounts, onAcc, totCounts\n",
    "print grAcc"
   ]
  },
  {
   "cell_type": "markdown",
   "metadata": {},
   "source": [
    "# Just because I can, I am going to see what the integrated counts are within an ellipse to see if the stats are there to say anything"
   ]
  },
  {
   "cell_type": "code",
   "execution_count": 7,
   "metadata": {
    "collapsed": false
   },
   "outputs": [
    {
     "name": "stdout",
     "output_type": "stream",
     "text": [
      "70940.0\n",
      "520423.244141\n",
      "[2552.3404235839844, 388.26141357421875, 2654.7427368164062, 3190.6738586425781, 5918.4325561523438, 732.79041290283203]\n"
     ]
    }
   ],
   "source": [
    "onCountsE  = 0 \n",
    "onAccE     = 0\n",
    "nbinsOnE   = 0\n",
    "onCE       = 0\n",
    "onAE       = 0\n",
    "totCountsE = 0\n",
    "grAccE     = 0\n",
    "\n",
    "inElcent1E = SkyCoord(11.5, 42.00, unit='deg', frame='icrs')\n",
    "inElcent2E = SkyCoord(10.0, 40.55, unit='deg', frame='icrs')\n",
    "\n",
    "inElDistE  = 1.8\n",
    "\n",
    "for group in range(6):\n",
    "    #counts setup\n",
    "    extname = 'RawOnMap' + str(group)\n",
    "    onData, onHeader      = fits.getdata(fitsF, header=True, extname=extname)\n",
    "    wcs_transformation_on = wcs.WCS(onHeader)\n",
    "    yOn, xOn              = np.mgrid[:onData.shape[0], :onData.shape[1]]\n",
    "    raOn, decOn           = wcs_transformation_on.all_pix2world(xOn, yOn, 0)\n",
    "    onPos                 = SkyCoord(raOn, decOn, unit='deg', frame='icrs')\n",
    "\n",
    "    totCountsE += np.nansum(onData)\n",
    "    #acceptance setup\n",
    "    accData     = fits.getdata(fitsF, header=False, extname='AcceptanceMap'+str(group))\n",
    "\n",
    "    #bin area reading (getting this from the root file as easier)\n",
    "    fName = \"rootdir/St6/All\" + cuts + theta + clean + \"s6.root\"\n",
    "    f = TFile(fName, \"read\")\n",
    "    RBM = f.Get(\"RingBackgroundModelAnalysis/SkyMapOn\")\n",
    "\n",
    "    for i in range(accData.shape[0]):\n",
    "        for j in range(accData.shape[1]):\n",
    "            accData[i][j] = accData[i][j] * RBM.GetBinArea(i,j) \n",
    "    \n",
    "    gAccE  = 0\n",
    "    onSep  = ((inElcent1E.separation(onPos).deg + inElcent2E.separation(onPos).deg) > inElDistE)\n",
    "\n",
    "    onCE   += np.nansum(onData[onSep < inElDistE])\n",
    "\n",
    "    accSep = Pt.separation(onPos)\n",
    "    onAE   += np.nansum(accData[onSep < inElDistE])*np.nansum(onData)\n",
    "    gAccE  += acc\n",
    "\n",
    "print onCE\n",
    "print onAE\n",
    "print grAcc"
   ]
  },
  {
   "cell_type": "markdown",
   "metadata": {},
   "source": [
    "#Calculate Background Counts and Acceptance\n",
    "The background counts are harder, we are trying to use an ellipse in camera coordinates (that is a flat coord scheme) whereas the data is saved in a spherical coord scheme, to overcome this we cheat a bit by defining the eclipses and then saving them as fits files with a header copied from the data, this means that the projections etc are correct.  We can now check this ellipse is okay by drawing it  (as a contour) over the skymap and checking that the correct regions are included/excluded.  The background will be integrated between the two ellipses (less the bit cut out for nuAndromadae)"
   ]
  },
  {
   "cell_type": "code",
   "execution_count": 8,
   "metadata": {
    "collapsed": false
   },
   "outputs": [],
   "source": [
    "inElcent1 = SkyCoord(11.5, 42.00, unit='deg', frame='icrs')\n",
    "inElcent2 = SkyCoord(10.0, 40.55, unit='deg', frame='icrs')\n",
    "\n",
    "outElcent1 = inElcent1\n",
    "outElcent2 = inElcent2\n",
    "\n",
    "inElDist  = 2.2\n",
    "outElDist = 3.9\n",
    "\n",
    "inEl  = ((inElcent1.separation(onPos).deg + inElcent2.separation(onPos).deg) > inElDist)\n",
    "outEl = ((outElcent1.separation(onPos).deg + outElcent2.separation(onPos).deg) < outElDist)\n",
    "El    = np.logical_and(inEl, outEl)\n",
    "\n",
    "nuAndrom = SkyCoord(12.4535, 41.0790, unit='deg', frame='icrs')\n",
    "sepnuAn  = (nuAndrom.separation(onPos).deg > 0.4)\n",
    "El    = np.logical_and(El, sepnuAn)\n",
    "\n",
    "! rm BGReg.fits\n",
    "hdu = fits.PrimaryHDU(El*1., header=onHeader)\n",
    "hdu.writeto('BGReg.fits')"
   ]
  },
  {
   "cell_type": "code",
   "execution_count": 9,
   "metadata": {
    "collapsed": false
   },
   "outputs": [],
   "source": [
    "if plot:\n",
    "    fig = plt.figure(figsize=(8, 8))\n",
    "    fig1 = aplpy.FITSFigure(fitsF, figure=fig, hdu=1)\n",
    "    fig1.show_colorscale(vmin=-5,vmax=5,cmap=cx1)\n",
    "    standard_setup(fig1)\n",
    "    fig1.set_title(\"Significance\")\n",
    "    fig1.show_contour(\"BGReg.fits\", colors='k')\n",
    "    for i in range(nTestReg):\n",
    "        fig1.show_circles(ULpos['col1'][i], ULpos['col2'][i], sepDist, \n",
    "                          color='purple', linewidth=2, zorder=5) \n",
    "        fig1.add_label(ULpos['col1'][i], ULpos['col2'][i], ULpos['col3'][i],\n",
    "                       size=16, weight='bold', color='purple')\n",
    "\n",
    " "
   ]
  },
  {
   "cell_type": "code",
   "execution_count": 10,
   "metadata": {
    "collapsed": false
   },
   "outputs": [],
   "source": [
    "if plot:\n",
    "    fig = plt.figure(figsize=(10, 10))\n",
    "    fig1 = aplpy.FITSFigure(\"M31_IRIS_smoothed.fits\", figure=fig)\n",
    "    fig1.show_colorscale(cmap='Blues',vmin=0, vmax=7e3) \n",
    "    fig1.recenter(10.6847, 41.2687, width=4, height=4)\n",
    "    fig1.ticks.show()\n",
    "    fig1.ticks.set_color('black')\n",
    "    fig1.tick_labels.set_xformat('dd.dd')\n",
    "    fig1.tick_labels.set_yformat('dd.dd')\n",
    "    fig1.ticks.set_xspacing(1)  # degrees\n",
    "    fig1.set_frame_color('black')\n",
    "    fig1.set_tick_labels_font(size='14')\n",
    "    fig1.set_axis_labels_font(size='16') \n",
    "    fig1.show_grid()\n",
    "    fig1.set_grid_color('k')\n",
    "\n",
    "    fig1.add_label(12.4535, 41.09, r'$\\nu$' + '-Andromedae', size=10, weight='demi', color='black') \n",
    "\n",
    "    #fig1.show_contour(\"BGReg.fits\", colors='k')\n",
    "    fig1.show_contour(\"BGReg.fits\", lw=0.5, filled=True, hatches=[None,'/'],\n",
    "                      colors='none')\n",
    "    fig1.show_contour(\"BGReg.fits\", linewidths=1., filled=False,\n",
    "                      colors='k', levels=1)\n",
    "\n",
    "    plt.savefig(\"Plots/M31BgReg.pdf\")"
   ]
  },
  {
   "cell_type": "markdown",
   "metadata": {},
   "source": [
    "## Sum Background counts and acceptance\n",
    "Note: - I have corrected for the varying bin size my multiplying the acc by the bin area"
   ]
  },
  {
   "cell_type": "code",
   "execution_count": 11,
   "metadata": {
    "collapsed": false
   },
   "outputs": [
    {
     "name": "stdout",
     "output_type": "stream",
     "text": [
      "Total: 2094.0 39557.0 -34.6223717619 0.0538115218991\n",
      "Point Alpha: [ 0.00668388  0.00612988  0.00609413  0.00684062  0.00676786  0.00684339\n",
      "  0.00721792  0.00723384]\n"
     ]
    }
   ],
   "source": [
    "bgC = []\n",
    "bgA    = []\n",
    "ptAlpha = np.empty([6, nTestReg])\n",
    "for group in range(6):\n",
    "    #counts setup\n",
    "    extname = 'RawOnMap'+str(group)\n",
    "    onData, onHeader      = fits.getdata(fitsF, header=True, extname=extname)\n",
    "    wcs_transformation_on = wcs.WCS(onHeader)\n",
    "    yOn, xOn              = np.mgrid[:onData.shape[0], :onData.shape[1]]\n",
    "    raOn, decOn           = wcs_transformation_on.all_pix2world(xOn, yOn, 0)\n",
    "    onPos                 = SkyCoord(raOn, decOn, unit='deg', frame='icrs')\n",
    "\n",
    "    #acceptance setup\n",
    "    accData     = fits.getdata(fitsF, header=False, extname='AcceptanceMap'+str(group))\n",
    "    \n",
    "    #bin area reading (getting this from the root file as easier)\n",
    "    fName = \"rootdir/St6/All\" + cuts + theta + clean + \"s6.root\"\n",
    "    f = TFile(fName, \"read\")\n",
    "    RBM = f.Get(\"RingBackgroundModelAnalysis/SkyMapOn\")\n",
    "\n",
    "    for i in range(accData.shape[0]):\n",
    "        for j in range(accData.shape[1]):\n",
    "            accData[i][j] = accData[i][j] * RBM.GetBinArea(i,j) \n",
    "           \n",
    "    bgC.append(np.nansum(onData[El]))\n",
    "    bgA.append(np.nansum(accData[El]))#*np.nansum(onData))\n",
    "\n",
    "    ptAlpha[group,] = ptAcc[group,] / np.nansum(accData[El])/ totCounts\n",
    "    #ptAlpha = ptAcc[group, :] / np.nansum(accData[El])/ totCounts\n",
    "    \n",
    "grAlpha = np.array(grAcc) / np.array(bgA)/ totCounts\n",
    "ptAlpha = np.sum(ptAlpha, axis=0)\n",
    "alpha   = np.sum(grAlpha) \n",
    "bgCounts = np.sum(bgC)\n",
    "excess   = onCounts - bgCounts * alpha\n",
    "print \"Total:\", onCounts, bgCounts, excess, alpha\n",
    "print \"Point Alpha:\", ptAlpha"
   ]
  },
  {
   "cell_type": "markdown",
   "metadata": {},
   "source": [
    "#Again, just for fun, checking counts within elipse"
   ]
  },
  {
   "cell_type": "code",
   "execution_count": 19,
   "metadata": {
    "collapsed": true
   },
   "outputs": [],
   "source": [
    "stats.significance_on_off(onCE, bgCounts, )"
   ]
  },
  {
   "cell_type": "code",
   "execution_count": 12,
   "metadata": {
    "collapsed": false
   },
   "outputs": [],
   "source": [
    "if plot:\n",
    "    bins = np.linspace(-4.5, 4.5, 100)\n",
    "    sigData, sigHeader = fits.getdata(fitsF, header=True, extname=\"SignificanceMap\")\n",
    "\n",
    "    fig = plt.figure(figsize=(3, 3))\n",
    "    fig, ax = plt.subplots(1)\n",
    "    hist = plt.hist(sigData[(~np.isnan(sigData)) & El], bins=bins, histtype=\"step\")\n",
    "    plt.semilogy()\n",
    "\n",
    "    hist, bins2 = np.histogram(sigData[(~np.isnan(sigData)) & El], bins = bins)\n",
    "    (xf, yf), params, err, chi = fit.fit(fit.gaus, (bins2[0:-1] + bins2[1:])/2, hist)\n",
    "    plt.plot(xf, yf, 'r-', label='Fit')\n",
    "\n",
    "    textstr1 = '$\\mu = %.2f $'  % (params[1])\n",
    "    textstr2 = '$ %.3f$\\n$\\sigma = %.2f$' % (err[1], params[2])\n",
    "    textstr3 = '$ %.3f$' % (err[2])\n",
    "    textstr  = textstr1 + u\"\\u00B1\" + textstr2 + u\"\\u00B1\" + textstr3\n",
    "    #textstr  = textstr1  + textstr2  + textstr3\n",
    "\n",
    "    props = dict(boxstyle='square', alpha=0.5, fc=\"white\")\n",
    "    ax.text(0.95, 0.95, textstr, transform=ax.transAxes, fontsize=14,\n",
    "            verticalalignment='top', horizontalalignment='right',\n",
    "            bbox=props)\n",
    "    plt.ylim(ymin=1e0)"
   ]
  },
  {
   "cell_type": "markdown",
   "metadata": {},
   "source": [
    "#Calculate the UL on Counts\n",
    "This is done using TRolke, since it is not in python we have to import it from Root, fortunately that is easy enough"
   ]
  },
  {
   "cell_type": "code",
   "execution_count": 13,
   "metadata": {
    "collapsed": true
   },
   "outputs": [],
   "source": [
    "def RUL(on, off, alpha):\n",
    "    rolke = TRolke(rolkeUL)\n",
    "    rolke.SetBounding(True)\n",
    "    rolke.SetPoissonBkgKnownEff(int(on), int(off), 1./(alpha), 1.)\n",
    "    return rolke.GetUpperLimit()\n",
    "\n",
    "def FCUL(on, off, alpha):\n",
    "    fc = TFeldmanCousins(rolkeUL)\n",
    "    return fc.CalculateUpperLimit((on), (off) * alpha)"
   ]
  },
  {
   "cell_type": "code",
   "execution_count": 14,
   "metadata": {
    "collapsed": false
   },
   "outputs": [
    {
     "name": "stdout",
     "output_type": "stream",
     "text": [
      "On      = 2094, Off = 39557, alpha = 0.0538\n",
      "Excess  = -34.62\n",
      "Signif  = -0.733\n",
      "ULCount = 65.106\n",
      "\n"
     ]
    }
   ],
   "source": [
    "if False:\n",
    "    for i in range(nTestReg):\n",
    "        ULCounts = RUL((onC[i]), (bgCounts), ptAlpha[i])\n",
    "        excess   = onC[i] - bgCounts * ptAlpha[i]\n",
    "        print \"Point\", i\n",
    "        print 'On      = {0:.0f}, Off = {1:.0f}, alpha = {2:.4f}'.format(onC[i], bgCounts, ptAlpha[i])\n",
    "        print 'Excess  = {0:.2f}'.format(excess)\n",
    "        print 'Signif  = {0:.3f}'.format(gammapy.stats.significance_on_off(onC[i], bgCounts, ptAlpha[i]))\n",
    "        print 'ULCount = {0:0.3f}'.format(ULCounts)\n",
    "        print ''\n",
    "\n",
    "excess   = onCounts - bgCounts * alpha    \n",
    "ULCounts = RUL((onCounts), (bgCounts), (alpha))\n",
    "\n",
    "print 'On      = {0:.0f}, Off = {1:.0f}, alpha = {2:.4f}'.format(onCounts, bgCounts, alpha)\n",
    "print 'Excess  = {0:.2f}'.format(excess)\n",
    "print 'Signif  = {0:.3f}'.format(gammapy.stats.significance_on_off(onCounts, bgCounts, alpha))\n",
    "print 'ULCount = {0:0.3f}'.format(ULCounts)\n",
    "print ''"
   ]
  },
  {
   "cell_type": "markdown",
   "metadata": {},
   "source": [
    "# Effective Area\n",
    "Needto sum all of the Effective Areas from each of the test positions and then work out the expected flux given a test spectrum\n",
    "\n",
    "#Issue:- This is using a point source EA, we dont have a point source.\n",
    "What we need to correct each EA by the difference in the flux distribtuion in its test region.  To do this we use the following relation:\n",
    "\n",
    "$\\frac{Frac\\; Region\\; Flux\\; in\\; thetaSq}{Frac\\; Point\\; Source\\; Flux\\; in\\; thetaSq}$\n",
    "\n",
    "For the bottom bit I take the point source and convolve with PSF, work out the fraction of counts that remain within the thetaSq\n",
    "\n",
    "For the top bit, I take the model, convolve with the PSF and work out the fraction of counts before to after\n",
    "\n",
    "\n",
    "Logic: think, not all counts fall within thetaSq, thus the EA is slightly under estimate, since Flux * EA = counts.  Thus we need to undo this for the point source and redo this for the extended source.  The smoothing factor is put in such that 68\\% of the flux falls within a 0.1deg region (this is the standard quoted number) for a point source.  I would like to check this with hard cuts etc for sims, but that should be a secondary effect"
   ]
  },
  {
   "cell_type": "code",
   "execution_count": 15,
   "metadata": {
    "collapsed": false
   },
   "outputs": [],
   "source": [
    "pointData = np.copy(onData)\n",
    "pointData.fill(0)\n",
    "pointData[pointData.shape[0]/2., pointData.shape[1]/2.] = 1000\n",
    "pointData1 = ndimage.gaussian_filter(pointData, sigma=(-sigma/onHeader['CDELT1'], sigma/onHeader['CDELT2']), \n",
    "                                    order=0)\n",
    "\n",
    "wcs_transformation = wcs.WCS(onHeader)\n",
    "initPos = wcs_transformation.wcs_pix2world(pointData.shape[0]/2., pointData.shape[1]/2., 0) \n",
    "\n",
    "pointSourceCor = sumInRegion(pointData1, onHeader, initPos[0], initPos[1], sepDist)/np.sum(pointData1)"
   ]
  },
  {
   "cell_type": "code",
   "execution_count": 16,
   "metadata": {
    "collapsed": false
   },
   "outputs": [],
   "source": [
    "IRISdata, IRISheader = fits.getdata(\"M31_IRIS_cropped_ds9.fits\", header=True)\n",
    "IRISdata2 = ndimage.gaussian_filter(IRISdata, \n",
    "                                    sigma=(-sigma/IRISheader['CDELT1'], sigma/IRISheader['CDELT2']), \n",
    "                                    order=0)\n",
    "M31total = np.sum(IRISdata2)"
   ]
  },
  {
   "cell_type": "markdown",
   "metadata": {},
   "source": [
    "## We will do the calculation of the spectrum $\\times$ the EA within the loop, not sure if it makes any difference but better safe than sorry\n",
    "\n",
    "Remeber, EA is in $m^2$, spectrum is in TeV and live time is in seconds - so flux will be $m^{-2} s^{-1} TeV^{-1}$"
   ]
  },
  {
   "cell_type": "code",
   "execution_count": 17,
   "metadata": {
    "collapsed": false
   },
   "outputs": [
    {
     "name": "stdout",
     "output_type": "stream",
     "text": [
      "0 0.025838 0.922072\n",
      "1 0.032058 0.847825\n",
      "2 0.030436 0.881343\n",
      "3 0.0319355 0.884424\n",
      "4 0.0371164 0.874446\n",
      "5 0.0378036 0.814022\n",
      "6 0.0265728 0.957679\n",
      "7 0.0261247 0.932325\n",
      "7.75000802366e-09\n",
      "\n"
     ]
    }
   ],
   "source": [
    "%%rootprint\n",
    "nPts     = 100\n",
    "En       = np.linspace(-1, 2, num=nPts)\n",
    "Sp1      = (10**En)**index\n",
    "EA       = np.empty([nPts])\n",
    "EA1      = np.empty([nPts])\n",
    "minSafeE = 0 #this is the minimum safe energy, I will quote the spectrum here\n",
    "decorE   = 0\n",
    "EstCounts1 = 0\n",
    "for j in range(nTestReg):\n",
    "    fName = \"rootdir/St6/All\" + cuts + theta + clean + str(j+1) + \"s6.root\"\n",
    "    f = TFile(fName, \"read\")\n",
    "    UL = f.Get(\"UpperLimit/VAUpperLimit\")\n",
    "    g = UL.GetEffectiveArea()\n",
    "    \n",
    "    if UL.GetEnergy() > minSafeE:\n",
    "        minSafeE = UL.GetEnergy()\n",
    "    if UL.GetEdecorr() > decorE:\n",
    "        decorE = UL.GetEdecorr()\n",
    "    \n",
    "    # Weight EAs by expected flux from that region\n",
    "    irisReg = sumInRegion(IRISdata, IRISheader, ULpos['col1'][j], ULpos['col2'][j], sepDist) \n",
    "    regW = irisReg / M31total\n",
    "    \n",
    "    # Correct for PSF effects\n",
    "    M31RegCor = sumInRegion(IRISdata2, IRISheader, ULpos['col1'][j], ULpos['col2'][j], sepDist) / irisReg\n",
    "    print j, regW, M31RegCor    \n",
    "    for i, xval in np.ndenumerate(En):\n",
    "        EA[i]   = g.Eval(xval) / pointSourceCor * M31RegCor * regW\n",
    "        EA1[i] += g.Eval(xval) / pointSourceCor * M31RegCor * regW\n",
    "    \n",
    "    Fl1 = Sp1 * EA\n",
    "    EstCounts1 += np.trapz(Fl1, 10**En)*livetime\n",
    "    \n",
    "FluxULReg1 = ULCounts / EstCounts1\n",
    "print FluxULReg1"
   ]
  },
  {
   "cell_type": "markdown",
   "metadata": {},
   "source": [
    "#Flux UL from M31"
   ]
  },
  {
   "cell_type": "markdown",
   "metadata": {},
   "source": [
    "#Total UL"
   ]
  },
  {
   "cell_type": "code",
   "execution_count": 18,
   "metadata": {
    "collapsed": false
   },
   "outputs": [
    {
     "name": "stdout",
     "output_type": "stream",
     "text": [
      "On      = 2094, Off = 39557, alpha = 0.0538\n",
      "Excess  = -34.62\n",
      "Signif  = -0.733\n",
      "ULCount = 65.106\n",
      "\n",
      "Differential UL @ 1TeV                        = 7.750e-09\n",
      "Differential UL @ min safe E    (416.9GeV)    = 6.907e-08\n",
      "Differential UL @ decorrelation (602.9GeV)    = 2.746e-08\n",
      "Differential UL units = TeV-1 m-2 s-1\n",
      "\n",
      "Integral UL between min safe energy and 30TeV = 1.916e-08\n",
      "Integral UL between decorrel energy and 30TeV = 1.101e-08\n",
      "Integral UL units = m-2 s-1\n",
      "\n",
      "Integral UL between min safe energy and 30TeV = 2.177 %Crab\n",
      "Integral UL between decorrel energy and 30TeV = 2.283 %Crab\n"
     ]
    }
   ],
   "source": [
    "FluxULM31 = FluxULReg1\n",
    "FluxULM31_eMin = FluxULM31 * minSafeE **index\n",
    "FluxULM31_eDec = FluxULM31 * decorE **index\n",
    "\n",
    "intULM31_eMin = gammapy.spectrum.powerlaw.power_law_integral_flux(FluxULM31, index, 1, minSafeE, 30)\n",
    "intULM31_eDec = gammapy.spectrum.powerlaw.power_law_integral_flux(FluxULM31, index, 1, decorE, 30)\n",
    "\n",
    "intULM31_eMin_pcCrab = intULM31_eMin /(gammapy.spectrum.crab_integral_flux(minSafeE, 30, 'hess_pl')[0] *1e2)\n",
    "intULM31_eDec_pcCrab = intULM31_eDec /(gammapy.spectrum.crab_integral_flux(decorE, 30, 'hess_pl')[0] *1e2)\n",
    "print 'On      = {0:.0f}, Off = {1:.0f}, alpha = {2:.4f}'.format(onCounts, bgCounts, alpha)\n",
    "print 'Excess  = {0:.2f}'.format(excess)\n",
    "print 'Signif  = {0:.3f}'.format(gammapy.stats.significance_on_off(onCounts, bgCounts, alpha))\n",
    "print 'ULCount = {0:0.3f}'.format(ULCounts)\n",
    "print ''\n",
    "print \"Differential UL @ 1TeV                        = {0:.3e}\".format(FluxULM31)\n",
    "print \"Differential UL @ min safe E    ({0:.1f}GeV)    = {1:.3e}\".format(minSafeE*1e3, FluxULM31_eMin)\n",
    "print \"Differential UL @ decorrelation ({0:.1f}GeV)    = {1:.3e}\".format(decorE*1e3, FluxULM31_eDec)\n",
    "print \"Differential UL units = TeV-1 m-2 s-1\"\n",
    "print \"\"\n",
    "print \"Integral UL between min safe energy and 30TeV = {0:.3e}\".format(intULM31_eMin)\n",
    "print \"Integral UL between decorrel energy and 30TeV = {0:.3e}\".format(intULM31_eDec)\n",
    "print \"Integral UL units = m-2 s-1\"\n",
    "print \"\"\n",
    "print \"Integral UL between min safe energy and 30TeV = {0:.3f} %Crab\".format(intULM31_eMin_pcCrab)\n",
    "print \"Integral UL between decorrel energy and 30TeV = {0:.3f} %Crab\".format(intULM31_eDec_pcCrab)"
   ]
  },
  {
   "cell_type": "code",
   "execution_count": 265,
   "metadata": {
    "collapsed": false
   },
   "outputs": [
    {
     "name": "stdout",
     "output_type": "stream",
     "text": [
      "45.1851851852 364.179104478 14.1040462428\n",
      "48.3544303797 97.9487179487 15.219123506\n",
      "27.0833333333 216.666666667 8.38709677419\n",
      "22.8333333333 45.6666666667 7.17277486911\n"
     ]
    }
   ],
   "source": [
    "print 244. / 5.4, 244. / 0.67, 244. / 17.3\n",
    "print 382. / 7.9, 382. / 3.90, 382. / 25.1\n",
    "print 65.  / 2.4, 65.  / 0.30, 65.  / 7.75\n",
    "print 137. / 6.0, 137. / 3.00, 137. / 19.1"
   ]
  },
  {
   "cell_type": "code",
   "execution_count": null,
   "metadata": {
    "collapsed": true
   },
   "outputs": [],
   "source": []
  },
  {
   "cell_type": "code",
   "execution_count": null,
   "metadata": {
    "collapsed": true
   },
   "outputs": [],
   "source": []
  }
 ],
 "metadata": {
  "kernelspec": {
   "display_name": "Python 2",
   "language": "python",
   "name": "python2"
  },
  "language_info": {
   "codemirror_mode": {
    "name": "ipython",
    "version": 2
   },
   "file_extension": ".py",
   "mimetype": "text/x-python",
   "name": "python",
   "nbconvert_exporter": "python",
   "pygments_lexer": "ipython2",
   "version": "2.7.10"
  }
 },
 "nbformat": 4,
 "nbformat_minor": 0
}
