{
 "cells": [
  {
   "cell_type": "code",
   "execution_count": 1,
   "metadata": {
    "collapsed": false,
    "deletable": true,
    "editable": true
   },
   "outputs": [
    {
     "name": "stdout",
     "output_type": "stream",
     "text": [
      "default colormap is now ds9b\n"
     ]
    }
   ],
   "source": [
    "import os\n",
    "import sys\n",
    "\n",
    "import numpy as np\n",
    "import matplotlib.pyplot as plt\n",
    "%matplotlib inline\n",
    "\n",
    "from scipy.interpolate import spline\n",
    "\n",
    "import ROOT\n",
    "from ROOT import gROOT, gSystem, TFile, TGraphAsymmErrors, TH1, TF1, TFitResultPtr\n",
    "import rootnotes\n",
    "import rootprint\n",
    "\n",
    "import plottingFunctions as pF\n",
    "from astropy import units as u\n"
   ]
  },
  {
   "cell_type": "code",
   "execution_count": 2,
   "metadata": {
    "collapsed": false,
    "scrolled": true
   },
   "outputs": [
    {
     "name": "stdout",
     "output_type": "stream",
     "text": [
      "You are giving the normalization at 1.000\n",
      "Yet the decorrelation energy is at  0.218\n",
      "You might consider updating your normalization energy and rerunning.\n",
      "You are giving the normalization at 1.000\n",
      "Yet the decorrelation energy is at  0.191\n",
      "You might consider updating your normalization energy and rerunning.\n"
     ]
    },
    {
     "data": {
      "image/png": "[encoded data removed]",
      "text/plain": [
       "<matplotlib.figure.Figure at 0x7f6c5c2a5fd0>"
      ]
     },
     "metadata": {},
     "output_type": "display_data"
    }
   ],
   "source": [
    "home = os.path.expanduser(\"~\")\n",
    "filename = home + \"/VERITAS/GC/results/SgrA_disp5t_v255_okay-obs-4tel_medium_both_s6.root\"\n",
    "spectrum = pF.spectrumPlotter()\n",
    "spectrum.ReadVEGASs6Root(filename)\n",
    "spectrum.plotSpectrum(label=\"full runlist\") #xmin=0.1\n",
    "spectrum.ReadVEGASs6Root(home+\"/VERITAS/GC/results/stage6_Andy_SgrA_spectrum_SgrA_s6.root\")\n",
    "spectrum.plotSpectrum(label=\"Andy runlist\", c='blue')\n",
    "\n"
   ]
  },
  {
   "cell_type": "code",
   "execution_count": 3,
   "metadata": {
    "collapsed": false
   },
   "outputs": [
    {
     "name": "stdout",
     "output_type": "stream",
     "text": [
      "TeV\n",
      "cm2 TeV / s\n"
     ]
    }
   ],
   "source": [
    "print spectrum.energyUnits.to_string()\n",
    "energyUnits = u.TeV\n",
    "sedUnits = (energyUnits * u.s**-1 * u.cm * u.cm)\n",
    "print sedUnits.to_string()"
   ]
  },
  {
   "cell_type": "code",
   "execution_count": 4,
   "metadata": {
    "collapsed": false,
    "deletable": true,
    "editable": true
   },
   "outputs": [
    {
     "name": "stdout",
     "output_type": "stream",
     "text": [
      "Unexpected error: <type 'exceptions.NameError'>\n",
      "False\n",
      "reloading /home/mbuchove/VERITAS/base-ROOT5/VEGAS-v255/common/include/VACommon.h  0\n",
      "reloading VAUsefulConversions.h  0\n",
      "reloading cfloat  0\n",
      "reloading float.h  0\n",
      "reloading /home/mbuchove/VERITAS/base-ROOT5/ROOT-install/etc/plugins/TArchiveFile/P010_TZIPFile.C  0\n",
      "reloading /home/mbuchove/VERITAS/base-ROOT5/ROOT-install/etc/plugins/TVirtualStreamerInfo/P010_TStreamerInfo.C  0\n",
      "reloading /home/mbuchove/VERITAS/base-ROOT5/ROOT-install/etc/plugins/ROOT@@Math@@Minimizer/P010_Minuit2Minimizer.C  0\n",
      "reloading /home/mbuchove/VERITAS/base-ROOT5/ROOT-install/etc/plugins/ROOT@@Math@@Minimizer/P020_TMinuitMinimizer.C  0\n",
      "reloading /home/mbuchove/VERITAS/base-ROOT5/ROOT-install/etc/plugins/ROOT@@Math@@Minimizer/P030_GSLMinimizer.C  0\n",
      "reloading /home/mbuchove/VERITAS/base-ROOT5/ROOT-install/etc/plugins/ROOT@@Math@@Minimizer/P040_GSLNLSMinimizer.C  0\n",
      "reloading /home/mbuchove/VERITAS/base-ROOT5/ROOT-install/etc/plugins/ROOT@@Math@@Minimizer/P050_GSLSimAnMinimizer.C  0\n",
      "reloading /home/mbuchove/VERITAS/base-ROOT5/ROOT-install/etc/plugins/ROOT@@Math@@Minimizer/P060_TLinearMinimizer.C  0\n",
      "reloading /home/mbuchove/VERITAS/base-ROOT5/ROOT-install/etc/plugins/ROOT@@Math@@Minimizer/P070_TFumiliMinimizer.C  0\n",
      "reloading /home/mbuchove/VERITAS/base-ROOT5/ROOT-install/etc/plugins/ROOT@@Math@@Minimizer/P080_GeneticMinimizer.C  0\n",
      "\n"
     ]
    }
   ],
   "source": [
    "%%rootprint\n",
    "vegasPath = os.path.expandvars(\"$VEGAS\")\n",
    "#vegasPath = \"/home/mbuchove/Downloads\"\n",
    "\n",
    "# test with ROOT6\n",
    "#gROOT.Reset()\n",
    "gSystem.Load(\"libTreePlayer.so\")\n",
    "gSystem.Load(\"libPhysics.so\")\n",
    "gSystem.Load(vegasPath + \"/common/lib/libSP24sharedLite.so\")\n",
    "gSystem.Load(vegasPath + \"/resultsExtractor/lib/libStage6shared.so\")\n",
    "gSystem.AddIncludePath(\"-Wno-unused -Wno-shadow -Wno-unused-parameter\")\n",
    "gROOT.ProcessLine(\".L \" + vegasPath + \"/common/include/VACommon.h\")\n",
    "gROOT.ProcessLine(\".include \" + vegasPath + \"/common/include/\")\n",
    "gROOT.ProcessLine(\".include \" + vegasPath + \"/resultsExtractor/include/\")\n",
    "gROOT.ProcessLine(\".include \" + vegasPath + \"/cfitsio/include/\")\n",
    "    \n",
    "\n",
    "#vacomm = VASpectrumAnl()\n",
    "    \n",
    "try:\n",
    "    vegas_class = VACommon()\n",
    "except:\n",
    "    print \"Unexpected error:\", sys.exc_info()[0]\n",
    "    _use_vegas = False\n",
    "else:\n",
    "    _use_vegas = True\n",
    "    \n",
    "    \n",
    "print _use_vegas\n"
   ]
  },
  {
   "cell_type": "code",
   "execution_count": 5,
   "metadata": {
    "collapsed": false,
    "deletable": true,
    "editable": true
   },
   "outputs": [
    {
     "ename": "SystemError",
     "evalue": "problem in C++; program state has been reset",
     "output_type": "error",
     "traceback": [
      "\u001b[0;31m---------------------------------------------------------------------------\u001b[0m",
      "\u001b[0;31mSystemError\u001b[0m                               Traceback (most recent call last)",
      "\u001b[0;32m<ipython-input-5-7345c23cdecb>\u001b[0m in \u001b[0;36m<module>\u001b[0;34m()\u001b[0m\n\u001b[1;32m      5\u001b[0m     \u001b[0;32mprint\u001b[0m \u001b[0;34m\"Failure!\"\u001b[0m\u001b[0;34m\u001b[0m\u001b[0m\n\u001b[1;32m      6\u001b[0m \u001b[0mspecAn\u001b[0m \u001b[0;34m=\u001b[0m \u001b[0ms6F\u001b[0m\u001b[0;34m.\u001b[0m\u001b[0mGet\u001b[0m\u001b[0;34m(\u001b[0m\u001b[0;34m\"Spectrum/VASpectrumAnl\"\u001b[0m\u001b[0;34m)\u001b[0m\u001b[0;34m\u001b[0m\u001b[0m\n\u001b[0;32m----> 7\u001b[0;31m \u001b[0mhMM\u001b[0m \u001b[0;34m=\u001b[0m \u001b[0ms6F\u001b[0m\u001b[0;34m.\u001b[0m\u001b[0mGet\u001b[0m\u001b[0;34m(\u001b[0m\u001b[0;34m\"Spectrum/hMigrationMatrix\"\u001b[0m\u001b[0;34m)\u001b[0m\u001b[0;34m\u001b[0m\u001b[0m\n\u001b[0m\u001b[1;32m      8\u001b[0m \u001b[0mhFEH\u001b[0m \u001b[0;34m=\u001b[0m \u001b[0ms6F\u001b[0m\u001b[0;34m.\u001b[0m\u001b[0mGet\u001b[0m\u001b[0;34m(\u001b[0m\u001b[0;34m\"Spectrum/hFullExcessHist\"\u001b[0m\u001b[0;34m)\u001b[0m\u001b[0;34m\u001b[0m\u001b[0m\n\u001b[1;32m      9\u001b[0m \u001b[0mRBM\u001b[0m \u001b[0;34m=\u001b[0m \u001b[0ms6F\u001b[0m\u001b[0;34m.\u001b[0m\u001b[0mGet\u001b[0m\u001b[0;34m(\u001b[0m\u001b[0;34m\"RingBackgroundModelAnalysis\"\u001b[0m\u001b[0;34m)\u001b[0m\u001b[0;34m\u001b[0m\u001b[0m\n",
      "\u001b[0;31mSystemError\u001b[0m: problem in C++; program state has been reset"
     ]
    }
   ],
   "source": [
    "home = os.path.expanduser(\"~\")\n",
    "filename = home + \"/VERITAS/GC/results/SgrA_disp5t_v255_okay-obs-4tel_medium_both_s6.root\"\n",
    "s6F = TFile(filename, \"read\")\n",
    "if not s6F.IsOpen():\n",
    "    print \"Failure!\"\n",
    "specAn = s6F.Get(\"Spectrum/VASpectrumAnl\")\n",
    "hMM = s6F.Get(\"Spectrum/hMigrationMatrix\")\n",
    "hFEH = s6F.Get(\"Spectrum/hFullExcessHist\")\n",
    "RBM = s6F.Get(\"RingBackgroundModelAnalysis\")\n",
    "\n",
    "specHist = specAn.GetSpectrumHist()\n",
    "rebinned_specHist = specAn.GetRebinnedSpectrumHist()\n",
    "specGraph = specAn.GetSpectrumGraph()\n",
    "\n"
   ]
  },
  {
   "cell_type": "code",
   "execution_count": null,
   "metadata": {
    "collapsed": true
   },
   "outputs": [],
   "source": [
    "xaxis = specGraph.GetXaxis()\n",
    "alpha = specAn.GetAlphaHist()\n",
    "sig = specAn.GetSigmaHist()"
   ]
  },
  {
   "cell_type": "code",
   "execution_count": null,
   "metadata": {
    "collapsed": false,
    "deletable": true,
    "editable": true
   },
   "outputs": [],
   "source": [
    "type(specAn)\n",
    "TFile.Open(\"gyih\")\n",
    "#sa = __main__.VASpectrumAnl()\n",
    "arr = np.array((0,))\n",
    "print arr[0]"
   ]
  },
  {
   "cell_type": "code",
   "execution_count": null,
   "metadata": {
    "collapsed": false,
    "deletable": true,
    "editable": true
   },
   "outputs": [],
   "source": [
    "def get_hist_points(h):\n",
    "    \"\"\"return E[TeV], flux[1/TeV*m^2*s], and flux_err as lists\"\"\"\n",
    "    x, y, yerr = [], [], []\n",
    "    for pt in range(1, h.GetNbinsX()+1):\n",
    "        tmpX, tmpY = ROOT.Double(0), ROOT.Double(0)\n",
    "        #h.GetPoint(pt, tmpX, tmpY)\n",
    "        x.append(h.GetBinCenter(pt))\n",
    "        y.append(h.GetBinContent(pt))\n",
    "        yerr.append(h.GetBinError(pt))\n",
    "        \n",
    "    #print np.array(x), np.array(y), np.array(yerr)\n",
    "    return np.power(10, np.array(x)), np.array(y), np.array(yerr)\n",
    "# get_hist_points\n",
    "\n"
   ]
  },
  {
   "cell_type": "code",
   "execution_count": null,
   "metadata": {
    "collapsed": false,
    "deletable": true,
    "editable": true
   },
   "outputs": [],
   "source": [
    "xlab = specHist.GetXaxis().GetTitle()\n",
    "ylab = specHist.GetYaxis().GetTitle()\n",
    "print xlab\n",
    "\n",
    "E, flux, flux_err = get_hist_points(rebinned_specHist)\n",
    "print E\n",
    "print flux\n",
    "print flux_err\n",
    "\n",
    "print type(specGraph)"
   ]
  },
  {
   "cell_type": "code",
   "execution_count": null,
   "metadata": {
    "collapsed": false,
    "deletable": true,
    "editable": true
   },
   "outputs": [],
   "source": [
    "#%%rootprint\n",
    "tf1 = specGraph.GetFunction(\"fFitFunction\")\n",
    "fitnorm = tf1.GetParameter(0)\n",
    "fitindex = tf1.GetParameter(1)\n",
    "normenergy = tf1.GetParameter(2)\n",
    "\n",
    "r = specGraph.Fit(tf1, \"S\") #TFitResultPtr\n",
    "#for i in range(3):\n",
    "#    print tf1.GetParameter(i)\n",
    "    \n",
    "cov = r.GetCovarianceMatrix() #TMatrixTSym<double>\n",
    "cov.Print()\n",
    "\n",
    "var_norm = cov(0, 0)\n",
    "var_index = cov(1, 1)\n",
    "cov_normindex = cov(0, 1) # == (1, 0)\n",
    "\n",
    "print np.sqrt(var_norm)\n",
    "print np.sqrt(var_index)\n",
    "print cov_normindex\n",
    "\n",
    "#covarr = cov.GetMatrixArray()\n"
   ]
  },
  {
   "cell_type": "code",
   "execution_count": null,
   "metadata": {
    "collapsed": false,
    "deletable": true,
    "editable": true
   },
   "outputs": [],
   "source": [
    "npoints     = specGraph.GetN()\n",
    "\n",
    "x2, y2 = [], []\n",
    "y_err = []\n",
    "for i in range(npoints):\n",
    "    tmpX, tmpY = ROOT.Double(0), ROOT.Double(0)\n",
    "    specGraph.GetPoint(i, tmpX, tmpY)\n",
    "    x2.append(tmpX)\n",
    "    y2.append(tmpY)\n",
    "    y_err.append((specGraph.GetErrorYlow(i), specGraph.GetErrorYhigh(i)))\n",
    "    \n",
    "x2 = np.array(x2)\n",
    "y2 = np.array(y2)\n",
    "y_err = np.array(y_err)\n",
    "\n",
    "print x2\n",
    "print y2\n",
    "print y_err"
   ]
  },
  {
   "cell_type": "code",
   "execution_count": null,
   "metadata": {
    "collapsed": false,
    "deletable": true,
    "editable": true
   },
   "outputs": [],
   "source": [
    "%%rootprint\n",
    "s6F.ls()\n",
    "cov.Print()\n"
   ]
  },
  {
   "cell_type": "code",
   "execution_count": null,
   "metadata": {
    "collapsed": false
   },
   "outputs": [],
   "source": [
    "num = 9\n",
    "type(num)\n",
    "\n",
    "tels = 0 \n",
    "for i in range(4):\n",
    "    if num >> i & 1:\n",
    "        tels += 1\n",
    "\n",
    "print tels"
   ]
  }
 ],
 "metadata": {
  "kernelspec": {
   "display_name": "Python 2",
   "language": "python",
   "name": "python2"
  },
  "language_info": {
   "codemirror_mode": {
    "name": "ipython",
    "version": 2
   },
   "file_extension": ".py",
   "mimetype": "text/x-python",
   "name": "python",
   "nbconvert_exporter": "python",
   "pygments_lexer": "ipython2",
   "version": "2.7.12"
  }
 },
 "nbformat": 4,
 "nbformat_minor": 0
}
