{
 "cells": [
  {
   "cell_type": "code",
   "execution_count": null,
   "metadata": {
    "collapsed": false,
    "deletable": true,
    "editable": true
   },
   "outputs": [],
   "source": [
    "import os\n",
    "import sys\n",
    "\n",
    "import numpy as np\n",
    "import matplotlib.pyplot as plt\n",
    "from matplotlib import rc as pltrc\n",
    "%matplotlib inline\n",
    "\n",
    "from scipy.interpolate import spline\n",
    "\n",
    "\n",
    "import ROOT\n",
    "from ROOT import gROOT, gSystem, TFile, TGraphAsymmErrors, TH1, TF1, TFitResultPtr\n",
    "import rootnotes\n",
    "import rootprint\n",
    "\n",
    "import plottingFunctions as pF\n",
    "from astropy import units as u\n",
    "from astropy.io import fits, ascii\n",
    "\n"
   ]
  },
  {
   "cell_type": "code",
   "execution_count": null,
   "metadata": {
    "collapsed": false,
    "deletable": true,
    "editable": true
   },
   "outputs": [],
   "source": [
    "import pandas\n",
    "import root_numpy\n",
    "\n",
    "# set dirs \n",
    "home = os.path.expanduser(\"~\")\n",
    "crabdir = home + \"/VERITAS/Crab/\"\n",
    "gcdir = home + \"/VERITAS/GC/results/\"\n",
    "plotdir = home + \"/Dropbox/GalacticCenter/plots/comparison/\"\n",
    "specdir = home + \"/Dropbox/GalacticCenter/spectralPoints/pyformat/\"\n",
    "logdir = home + \"/Dropbox/GalacticCenter/log/stage6/\"\n",
    "\n",
    "\n"
   ]
  },
  {
   "cell_type": "code",
   "execution_count": null,
   "metadata": {
    "collapsed": false,
    "deletable": true,
    "editable": true
   },
   "outputs": [],
   "source": [
    "def autoplot(filename, **kwargs):\n",
    "    \"\"\"chooses read function and label based on filename\"\"\"\n",
    "    path = os.path\n",
    "    if not path.isfile(filename):\n",
    "        raise IOError(\"file does not exist!\")\n",
    "    base, ext = path.splitext(path.basename)\n",
    "    \n",
    "    sP = pF.spectrumPlotter(**kwargs)\n",
    "    if ext == '.root':\n",
    "        sP.readVEGASs6Root(filename)\n",
    "    elif ext == '.csv':\n",
    "        sP.readCSV()\n",
    "    elif ext == '.txt':\n",
    "        sP.readVEGASLog()\n",
    "    else:\n",
    "        print \"Extenstion \", ext, \"not known!\"\n",
    "        \n",
    "    sP.plotSpectrum(**kwargs)\n",
    "    \n",
    "    return sP \n",
    "    \n",
    "    "
   ]
  },
  {
   "cell_type": "code",
   "execution_count": null,
   "metadata": {
    "collapsed": false,
    "deletable": true,
    "editable": true,
    "scrolled": true
   },
   "outputs": [],
   "source": [
    "font = {'family' : 'DejaVu Sans',\n",
    "        'weight' : 'bold',\n",
    "        'size'   : 17}\n",
    "\n",
    "pltrc('font', **font)\n",
    "\n",
    "#file1 = \"SgrA_disp5t_medium_okay_stg5-v255_EA-v255_s6.root\"\n",
    "file1 = \"SgrA_disp5t_medium_okay_stg5-v255_EA-v254_s6.root\"\n",
    "#file1 = \"SgrA_v255_disp5t_Andy_spectrum_newEA_s6.root\"\n",
    "#file1 = \"stage6_Andy_SgrA_spectrum_SgrA_s6.root\"\n",
    "#file2 = \"HESS_SgrA_spectral-points_formatted.csv\"\n",
    "file2 = \"HESS_SgrA_spectral-points_2009_pulled.csv\"\n",
    "\n",
    "#file3 = \n",
    "\n",
    "base, ext = os.path.splitext(file1)\n",
    "sP1 = pF.spectrumPlotter(c='red')\n",
    "sP1.readVEGASs6Root(gcdir + file1)\n",
    "sP1.plotSpectrum(label=\"VERITAS v254\", c='red')\n",
    "\n",
    "base, ext = os.path.splitext(file2)\n",
    "sP2 = pF.spectrumPlotter(c='blue')\n",
    "sP2.readCSV(specdir + file2)\n",
    "sP2.plotSpectrum(pltFit=False, fontsize=20)\n",
    "sP2.fitPlot(\"HESS 2009 fit\", energyRange=sP1.energyRange, pltPts=False, fontsize=20)\n",
    "sP2._plotCommon(fontsize=20)\n",
    "\n",
    "fig = plt.gcf()\n",
    "fig.set_size_inches(16, 9)\n",
    "plt.legend(loc=3)\n",
    "plt.title(\"Sgr A*\")\n",
    "\n",
    "#plt.savefig(plotdir + \"SgrA_HESS-fit-2009_vs_VERITAS_old-table.png\")\n"
   ]
  },
  {
   "cell_type": "markdown",
   "metadata": {
    "deletable": true,
    "editable": true
   },
   "source": [
    "<h2> V5 vs V6"
   ]
  },
  {
   "cell_type": "code",
   "execution_count": null,
   "metadata": {
    "collapsed": false,
    "deletable": true,
    "editable": true,
    "scrolled": true
   },
   "outputs": [],
   "source": [
    "font = {'family' : 'DejaVu Sans',\n",
    "        'weight' : 'bold',\n",
    "        'size'   : 17}\n",
    "pltrc('font', **font)\n",
    "EAv = 'v254'\n",
    "\n",
    "file1 = \"SgrA_disp5t_medium_okay_na_stg5-v255_EA-\"+EAv+\"_s6.root\"\n",
    "file2 = \"SgrA_disp5t_medium_okay_ua_stg5-v255_EA-\"+EAv+\"_s6.root\"\n",
    "\n",
    "\n",
    "base, ext = os.path.splitext(file1)\n",
    "sP1 = pF.spectrumPlotter(c='red')\n",
    "sP1.readVEGASs6Root(gcdir + file1)\n",
    "sP1.plotSpectrum(label=\"V5\")\n",
    "\n",
    "base, ext = os.path.splitext(file2)\n",
    "sP2 = pF.spectrumPlotter(c='blue')\n",
    "sP2.readVEGASs6Root(gcdir + file2)\n",
    "sP2.plotSpectrum(label=\"V6\")\n",
    "\n",
    "fig = plt.gcf()\n",
    "fig.set_size_inches(16, 9)\n",
    "plt.legend(loc=3)\n",
    "plt.title(\"Sgr A*\")\n",
    "\n",
    "#plt.savefig(plotdir + \"SgrA_V5-V6_EA\"+EAv+\"v255_E0-4.png\")\n"
   ]
  },
  {
   "cell_type": "code",
   "execution_count": null,
   "metadata": {
    "collapsed": false,
    "deletable": true,
    "editable": true,
    "scrolled": true
   },
   "outputs": [],
   "source": [
    "\n",
    "file1 = \"SgrB2_disp5t_medium_okay_stg5-v255_EA-v254_s6.root\"\n",
    "file2 = \"HESS_diffuse_spectral-points_formatted.csv\"\n",
    "\n",
    "#file3 = \n",
    "\n",
    "base, ext = os.path.splitext(file1)\n",
    "sP1 = pF.spectrumPlotter(c='red')\n",
    "sP1.readVEGASs6Root(gcdir + file1)\n",
    "sP1.plotSpectrum(label=\"VERITAS\")\n",
    "\n",
    "base, ext = os.path.splitext(file2)\n",
    "sP2 = pF.spectrumPlotter(c='blue')\n",
    "sP2.readCSV(specdir + file2)\n",
    "sP2.plotSpectrum(label=\"HESS\", pltFit=False)\n",
    "\n",
    "fig = plt.gcf()\n",
    "fig.set_size_inches(16, 9)\n",
    "plt.legend(loc=3)\n",
    "plt.title(\"Sgr A*\")\n",
    "\n",
    "#plt.savefig(plotdir + \"SgrB2_vs-HESS_EAv254.png\")\n"
   ]
  },
  {
   "cell_type": "code",
   "execution_count": null,
   "metadata": {
    "collapsed": false,
    "deletable": true,
    "editable": true
   },
   "outputs": [],
   "source": [
    "\n",
    "file1 = \"SgrA_disp5t_medium_okay_stg5-v255_EA-v254_Enorm4_s6.root\"\n",
    "file2 = \"SgrA_disp5t_medium_okay_stg5-v255_EA-v254_s6.root\"\n",
    "\n",
    "base, ext = os.path.splitext(file1)\n",
    "sP1 = pF.spectrumPlotter(c='red')\n",
    "sP1.readVEGASs6Root(gcdir + file1)\n",
    "sP1.plotSpectrum(label=\"norm4\")\n",
    "\n",
    "base, ext = os.path.splitext(file2)\n",
    "sP2 = pF.spectrumPlotter(c='blue')\n",
    "sP2.readVEGASs6Root(gcdir + file2)\n",
    "sP2.plotSpectrum(label=\"norm1\")\n",
    "\n",
    "fig = plt.gcf()\n",
    "fig.set_size_inches(16, 9)\n",
    "plt.legend(loc=3)\n",
    "plt.title(\"Sgr A*\")\n",
    "\n",
    "#plt.savefig(plotdir + \"SgrB2_vs-HESS_EAv254.png\")\n"
   ]
  },
  {
   "cell_type": "code",
   "execution_count": null,
   "metadata": {
    "collapsed": false,
    "deletable": true,
    "editable": true,
    "scrolled": true
   },
   "outputs": [],
   "source": [
    "# Andy vs full runlist \n",
    "filename = gcdir + \"/SgrA_disp5t_v255_okay-obs-4tel_medium_both_s6.root\"\n",
    "spectrum = pF.spectrumPlotter(c='orange')\n",
    "spectrum.readVEGASs6Root(filename)\n",
    "spectrum.plotSpectrum(label=\"full runlist\") #xmin=0.1\n",
    "\n",
    "spectrum = pF.spectrumPlotter(c='purple')\n",
    "spectrum.readVEGASs6Root(home+\"/VERITAS/GC/results/stage6_Andy_SgrA_spectrum_SgrA_s6.root\")\n",
    "spectrum.plotSpectrum(label=\"Andy runlist\")\n",
    "\n",
    "plt.title(\"Sgr A*\")\n",
    "plt.savefig(home+\"/Downloads/specPlot.png\")\n",
    "\n",
    "del spectrum "
   ]
  },
  {
   "cell_type": "code",
   "execution_count": null,
   "metadata": {
    "collapsed": false,
    "deletable": true,
    "editable": true
   },
   "outputs": [],
   "source": [
    "file1 = \"SgrA_disp5t_medium_okay_stg5-v255_EA-v255_s6.root\"\n",
    "files = '''SgrA_disp5t_medium_okay_stg5-v254_EA-v255_s6.root\n",
    "SgrA_disp5t_medium_okay_stg5-v255_EA-v254_s6.root\n",
    "SgrA_disp5t_medium_okay_stg5-v255_EA-v255_Andy-bin-fine4_s6.root'''\n",
    "#SgrA_v255_disp5t_Andy_spectrum_newEA_s6.root\n",
    "\n",
    "for f in files.splitlines():\n",
    "\n",
    "    base, ext = os.path.splitext(file1)\n",
    "    spec1 = pF.spectrumPlotter(c='red')\n",
    "    spec1.readVEGASs6Root(gcdir + file1)\n",
    "    spec1.plotSpectrum(label=base)\n",
    "    \n",
    "    base, ext = os.path.splitext(f)\n",
    "    pathname = gcdir + f\n",
    "    spec2 = pF.spectrumPlotter(c='blue')\n",
    "    spec2.readVEGASs6Root(pathname)\n",
    "    spec2.plotSpectrum(label=base)\n",
    "    \n",
    "    plt.title(base)\n",
    "    plt.savefig(plotdir + base + \".png\")\n",
    "    plt.cla()\n",
    "\n",
    "    #print raw_input(\"Press any key to continue..\")\n",
    "    #sys.stdin.read(1)\n",
    "    \n",
    "    \n",
    "    \n",
    "    "
   ]
  },
  {
   "cell_type": "markdown",
   "metadata": {
    "deletable": true,
    "editable": true
   },
   "source": [
    "<h3> Log vs ROOT input "
   ]
  },
  {
   "cell_type": "code",
   "execution_count": null,
   "metadata": {
    "collapsed": false,
    "deletable": true,
    "editable": true
   },
   "outputs": [],
   "source": [
    "spRoot = pF.spectrumPlotter(c='red')\n",
    "spRoot.readVEGASs6Root(gcdir+\"/SgrA_disp5t_v255_okay-obs-4tel_medium_both_s6.root\")\n",
    "spRoot.plotSpectrum(label=\"ROOT\")\n",
    "\n",
    "\n",
    "spLog = pF.spectrumPlotter(c='blue')\n",
    "spLog.readVEGASLog(logdir+\"/SgrA_disp5t_v255_okay-obs-4tel_medium_both_stage6.txt\")\n",
    "#spLog.readVEGASLog(home+\"/Dropbox/GalacticCenter/log/stage6/stage6_Andy_SgrA_spectrum.txt\")\n",
    "spLog.plotSpectrum(label=\"log\")\n",
    "\n",
    "# larger butterfly due to covariance being present in ROOT file but not log \n",
    "#help(plt.errorbar)"
   ]
  },
  {
   "cell_type": "markdown",
   "metadata": {
    "deletable": true,
    "editable": true
   },
   "source": [
    "<h2> Crab comparison for disp 5t "
   ]
  },
  {
   "cell_type": "code",
   "execution_count": null,
   "metadata": {
    "collapsed": false,
    "deletable": true,
    "editable": true
   },
   "outputs": [],
   "source": [
    "crabdir = home + \"/VERITAS/Crab\"\n",
    "#pltrc('font', **font)\n",
    "\n",
    "for array in ('V5',):\n",
    "    sp1 = pF.spectrumPlotter(c='red')\n",
    "    plt.title(\"Crab \"+array)\n",
    "    fn = crabdir + \"/Crab_LZA_disp5t_\"+array+\"_spectrum_fit1-10TeV_s6.root\"\n",
    "    sp1.readVEGASs6Root(fn)\n",
    "    sp1.plotSpectrum(label='LZA')\n",
    "    fn = crabdir + \"/Crab_SZA_std_\"+array+\"_spectrum_fit1-10TeV_s6.root\"\n",
    "    \n",
    "    sp2 = pF.spectrumPlotter(c='blue')\n",
    "    sp2.readVEGASs6Root(fn)\n",
    "    sp2.plotSpectrum(label='SZA')\n",
    "    \n",
    "    #fn = crabdir + \"/Crab_LZA_disp5t_\"+array+\"_spectrum_newEA_s6.root\"\n",
    "    #sp.readVEGASs6Root(fn)\n",
    "    #sp.plotSpectrum(label='newEA', c='orange')\n",
    "    \n",
    "fig = plt.gcf()\n",
    "fig.set_size_inches(16, 9)\n",
    "plt.legend(loc=3)\n",
    "\n",
    "plt.savefig(plotdir + \"Crab_SZA-LZA_V5.png\")\n"
   ]
  },
  {
   "cell_type": "markdown",
   "metadata": {
    "deletable": true,
    "editable": true
   },
   "source": [
    "<h2> ROOT s6SpectralAnl tests </h2>"
   ]
  },
  {
   "cell_type": "code",
   "execution_count": null,
   "metadata": {
    "collapsed": false,
    "deletable": true,
    "editable": true
   },
   "outputs": [],
   "source": [
    "def get_hist_points(h):\n",
    "    \"\"\"return E[TeV], flux[1/TeV*m^2*s], and flux_err as lists\"\"\"\n",
    "    x, y, yerr = [], [], []\n",
    "    for pt in range(1, h.GetNbinsX()+1):\n",
    "        tmpX, tmpY = ROOT.Double(0), ROOT.Double(0)\n",
    "        #h.GetPoint(pt, tmpX, tmpY)\n",
    "        x.append(h.GetBinCenter(pt))\n",
    "        y.append(h.GetBinContent(pt))\n",
    "        yerr.append(h.GetBinError(pt))\n",
    "        \n",
    "    #print np.array(x), np.array(y), np.array(yerr)\n",
    "    return np.power(10, np.array(x)), np.array(y), np.array(yerr)\n",
    "# get_hist_points\n",
    "\n"
   ]
  },
  {
   "cell_type": "code",
   "execution_count": null,
   "metadata": {
    "collapsed": false,
    "deletable": true,
    "editable": true
   },
   "outputs": [],
   "source": [
    "%%rootprint\n",
    "vegasPath = os.path.expandvars(\"$VEGAS\")\n",
    "#vegasPath = \"/home/mbuchove/Downloads\"\n",
    "\n",
    "# test with ROOT6\n",
    "#gROOT.Reset()\n",
    "gSystem.Load(\"libTreePlayer.so\")\n",
    "gSystem.Load(\"libPhysics.so\")\n",
    "gSystem.Load(vegasPath + \"/common/lib/libSP24sharedLite.so\")\n",
    "gSystem.Load(vegasPath + \"/resultsExtractor/lib/libStage6shared.so\")\n",
    "gSystem.AddIncludePath(\"-Wno-unused -Wno-shadow -Wno-unused-parameter\")\n",
    "gROOT.ProcessLine(\".L \" + vegasPath + \"/common/include/VACommon.h\")\n",
    "gROOT.ProcessLine(\".include \" + vegasPath + \"/common/include/\")\n",
    "gROOT.ProcessLine(\".include \" + vegasPath + \"/resultsExtractor/include/\")\n",
    "gROOT.ProcessLine(\".include \" + vegasPath + \"/cfitsio/include/\")\n",
    "    \n",
    "\n",
    "#vacomm = VASpectrumAnl()\n",
    "    \n",
    "try:\n",
    "    vegas_class = VACommon()\n",
    "except:\n",
    "    print \"Unexpected error:\", sys.exc_info()[0]\n",
    "    _use_vegas = False\n",
    "else:\n",
    "    _use_vegas = True\n",
    "    \n",
    "    \n",
    "print _use_vegas\n"
   ]
  },
  {
   "cell_type": "code",
   "execution_count": null,
   "metadata": {
    "collapsed": false,
    "deletable": true,
    "editable": true
   },
   "outputs": [],
   "source": [
    "%%rootprint\n",
    "import root_numpy\n",
    "\n",
    "#root_numpy.hist2array\n",
    "filename = home + \"/VERITAS/GC/results/SgrA_disp5t_v255_okay-obs-4tel_medium_both_s6.root\"\n",
    "\n",
    "s6F = TFile(filename, \"read\")\n",
    "if not s6F.IsOpen():\n",
    "    print \"Could not open file! \", rootfilename\n",
    "specAn = s6F.Get(\"Spectrum/VASpectrumAnl\")\n",
    "specGraph = specAn.GetSpectrumGraph()\n",
    "xaxis = specGraph.GetXaxis()\n",
    "#specHist = specAn.GetSpectrumHist()\n",
    "specHist = specAn.GetRebinnedSpectrumHist()\n",
    "\n",
    "alpha = specAn.GetAlphaHist()\n",
    "sig = specAn.GetSigmaHist()\n",
    "alpha = specAn.GetRebinnedAlphaHist()\n",
    "#specAn.Rebin(2)\n",
    "\n",
    "xaxis = specGraph.GetXaxis()\n",
    "\n",
    "alphaArray = root_numpy.hist2array(alpha)\n",
    "print alphaArray\n",
    "sig = root_numpy.hist2array(sig)\n",
    "print sig\n",
    "\n",
    "print specGraph.GetN()\n",
    "print len(alphaArray)\n",
    "print specHist.GetNbinsX()\n",
    "\n",
    "print type(specAn)\n",
    "#specAn.MakeSpectrumGraph()\n",
    "\n",
    "#s6F.Close()\n"
   ]
  },
  {
   "cell_type": "code",
   "execution_count": null,
   "metadata": {
    "collapsed": false,
    "deletable": true,
    "editable": true
   },
   "outputs": [],
   "source": [
    "xlab = specHist.GetXaxis().GetTitle()\n",
    "ylab = specHist.GetYaxis().GetTitle()\n",
    "print xlab\n",
    "\n",
    "E, flux, flux_err = get_hist_points(specHist)\n",
    "#rebinned \n",
    "\n",
    "print E\n",
    "print flux\n",
    "print flux_err\n",
    "\n",
    "print type(specGraph)"
   ]
  },
  {
   "cell_type": "code",
   "execution_count": null,
   "metadata": {
    "collapsed": false,
    "deletable": true,
    "editable": true
   },
   "outputs": [],
   "source": [
    "# specGraph \n",
    "npoints     = specGraph.GetN()\n",
    "\n",
    "x2, y2 = [], []\n",
    "y_err = []\n",
    "for i in range(npoints):\n",
    "    tmpX, tmpY = ROOT.Double(0), ROOT.Double(0)\n",
    "    specGraph.GetPoint(i, tmpX, tmpY)\n",
    "    x2.append(tmpX)\n",
    "    y2.append(tmpY)\n",
    "    y_err.append((specGraph.GetErrorYlow(i), specGraph.GetErrorYhigh(i)))\n",
    "    \n",
    "x2 = np.array(x2)\n",
    "y2 = np.array(y2)\n",
    "y_err = np.array(y_err)\n",
    "\n",
    "print x2\n",
    "print y2\n",
    "print y_err"
   ]
  },
  {
   "cell_type": "code",
   "execution_count": null,
   "metadata": {
    "collapsed": false,
    "deletable": true,
    "editable": true
   },
   "outputs": [],
   "source": [
    "#%%rootprint\n",
    "tf1 = specGraph.GetFunction(\"fFitFunction\")\n",
    "fitnorm = tf1.GetParameter(0)\n",
    "fitindex = tf1.GetParameter(1)\n",
    "normenergy = tf1.GetParameter(2)\n",
    "\n",
    "r = specGraph.Fit(tf1, \"S\") #TFitResultPtr\n",
    "#for i in range(3):\n",
    "#    print tf1.GetParameter(i)\n",
    "    \n",
    "cov = r.GetCovarianceMatrix() #TMatrixTSym<double>\n",
    "cov.Print()\n",
    "\n",
    "var_norm = cov(0, 0)\n",
    "var_index = cov(1, 1)\n",
    "cov_normindex = cov(0, 1) # == (1, 0)\n",
    "\n",
    "print np.sqrt(var_norm)\n",
    "print np.sqrt(var_index)\n",
    "print cov_normindex\n",
    "\n",
    "#covarr = cov.GetMatrixArray()\n"
   ]
  },
  {
   "cell_type": "code",
   "execution_count": null,
   "metadata": {
    "collapsed": false,
    "deletable": true,
    "editable": true
   },
   "outputs": [],
   "source": [
    "%%rootprint\n",
    "\n",
    "cov.Print()\n",
    "\n",
    "s6F.ls()\n",
    "s6F.Close()\n"
   ]
  },
  {
   "cell_type": "markdown",
   "metadata": {
    "deletable": true,
    "editable": true
   },
   "source": [
    "<h3> adjust binning "
   ]
  },
  {
   "cell_type": "code",
   "execution_count": null,
   "metadata": {
    "collapsed": false,
    "deletable": true,
    "editable": true
   },
   "outputs": [],
   "source": [
    "rebin = 4\n",
    "binning=\"\"\"\n",
    "0.45\n",
    "0.55\n",
    "0.65\n",
    "0.75\n",
    "0.85\n",
    "0.95\n",
    "1.1\n",
    "1.3\n",
    "1.5\n",
    "\"\"\"\n",
    "\n",
    "lastnum = None \n",
    "for num in binning.splitlines():\n",
    "    try:\n",
    "        num = float(num)\n",
    "\n",
    "        if lastnum != None:\n",
    "            delta = ( num - lastnum ) / 4 \n",
    "            print lastnum\n",
    "            for i in range(1, rebin):\n",
    "                print lastnum + i*delta\n",
    "        \n",
    "    except ValueError:\n",
    "        continue \n",
    "    \n",
    "    lastnum = num\n",
    "    \n",
    "print num\n"
   ]
  },
  {
   "cell_type": "markdown",
   "metadata": {
    "deletable": true,
    "editable": true
   },
   "source": [
    "<h4> Misc tests.. </h4>"
   ]
  },
  {
   "cell_type": "code",
   "execution_count": null,
   "metadata": {
    "collapsed": false,
    "deletable": true,
    "editable": true
   },
   "outputs": [],
   "source": [
    "# pandas \n",
    "df = pandas.read_csv(specdir+\"HESS_SgrA_spectral-points_formatted.csv\", delimiter='\\t')\n",
    "names = [n.split()[0] for n in df.columns]\n",
    "#units = [u.Unit(n.split()[1]) for n in df.columns]\n",
    "df.columns = names\n",
    "print type(df['Energy'])\n",
    "print np.asarray(df['Energy'])\n"
   ]
  },
  {
   "cell_type": "code",
   "execution_count": null,
   "metadata": {
    "collapsed": false,
    "deletable": true,
    "editable": true
   },
   "outputs": [],
   "source": [
    "from memory_profiler import memory_profile\n",
    "#import memory_profiler\n",
    "\n",
    "#@memory_profile\n",
    "def firstn(n):\n",
    "    num = 0\n",
    "    while num < n:\n",
    "        yield num\n",
    "        num += 1\n",
    "        \n",
    "#memory_profiler.memory_profile(sum(firstn(100)))\n",
    "        \n",
    "\n",
    "firstn(1000000)\n",
    "\n",
    "print float(\"inf\") >= float(\"inf\")\n",
    "z = ([0]*5, [1]*5, [2]*5, [3]*5)\n",
    "print z\n",
    "z = np.asarray(z)\n",
    "print z\n",
    "print (z[2],z[3])\n",
    "print np.asarray((z[2],z[3])) ### this one!"
   ]
  },
  {
   "cell_type": "code",
   "execution_count": null,
   "metadata": {
    "collapsed": false,
    "deletable": true,
    "editable": true
   },
   "outputs": [],
   "source": [
    "a = [5,2]\n",
    "try:\n",
    "    x = 5 \n",
    "    print len(5)\n",
    "except Exception as ex:\n",
    "    template = \"An exception of type {0} occurred. Arguments:\\n{1!r}\"\n",
    "    message = template.format(type(ex).__name__, ex.args)\n",
    "    print message\n",
    "\n",
    "xy = 5\n",
    "print eval('xy + 5')\n",
    "print xy\n"
   ]
  }
 ],
 "metadata": {
  "kernelspec": {
   "display_name": "Python 2",
   "language": "python",
   "name": "python2"
  },
  "language_info": {
   "codemirror_mode": {
    "name": "ipython",
    "version": 2
   },
   "file_extension": ".py",
   "mimetype": "text/x-python",
   "name": "python",
   "nbconvert_exporter": "python",
   "pygments_lexer": "ipython2",
   "version": "2.7.12"
  }
 },
 "nbformat": 4,
 "nbformat_minor": 0
}
