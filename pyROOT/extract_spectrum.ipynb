{
 "cells": [
  {
   "cell_type": "code",
   "execution_count": 1,
   "metadata": {
    "collapsed": false,
    "deletable": true,
    "editable": true
   },
   "outputs": [],
   "source": [
    "import os\n",
    "\n",
    "import numpy as np\n",
    "import matplotlib.pyplot as plt\n",
    "%matplotlib inline\n",
    "\n",
    "from scipy.interpolate import spline\n",
    "\n",
    "import ROOT\n",
    "from ROOT import gROOT, gSystem, TFile, TGraphAsymmErrors, TH1, TF1, TFitResultPtr\n",
    "import rootnotes\n",
    "import rootprint\n"
   ]
  },
  {
   "cell_type": "code",
   "execution_count": 2,
   "metadata": {
    "collapsed": false,
    "deletable": true,
    "editable": true
   },
   "outputs": [
    {
     "name": "stdout",
     "output_type": "stream",
     "text": [
      "\n"
     ]
    }
   ],
   "source": [
    "%%rootprint\n",
    "vegasPath=os.path.expandvars(\"$VEGAS\")\n",
    "gROOT.Reset()\n",
    "gSystem.Load(\"libTreePlayer.so\")\n",
    "gSystem.Load(\"libPhysics.so\")\n",
    "gSystem.Load(vegasPath + \"/common/lib/libSP24sharedLite.so\")\n",
    "gSystem.Load(vegasPath + \"/resultsExtractor/lib/libStage6shared.so\")\n",
    "gSystem.AddIncludePath(\"-Wno-unused -Wno-shadow -Wno-unused-parameter\")\n",
    "gROOT.ProcessLine(\".L \" + vegasPath + \"/common/include/VACommon.h\")\n",
    "gROOT.ProcessLine(\".include \" + vegasPath + \"/common/include/\")\n",
    "gROOT.ProcessLine(\".include \" + vegasPath + \"/resultsExtractor/include/\")\n",
    "gROOT.ProcessLine(\".include \" + vegasPath + \"/cfitsio/include/\")"
   ]
  },
  {
   "cell_type": "code",
   "execution_count": 3,
   "metadata": {
    "collapsed": false
   },
   "outputs": [],
   "source": [
    "def get_hist_points(h):\n",
    "    \"\"\"return E[TeV], flux[1/TeV*m^2*s], and flux_err as lists\"\"\"\n",
    "    x, y, yerr = [], [], []\n",
    "    for pt in range(1, h.GetNbinsX()+1):\n",
    "        tmpX, tmpY = ROOT.Double(0), ROOT.Double(0)\n",
    "        #h.GetPoint(pt, tmpX, tmpY)\n",
    "        x.append(h.GetBinCenter(pt))\n",
    "        y.append(h.GetBinContent(pt))\n",
    "        yerr.append(h.GetBinError(pt))\n",
    "        \n",
    "    #print np.array(x), np.array(y), np.array(yerr)\n",
    "    return np.power(10, np.array(x)), np.array(y), np.array(yerr)\n",
    "# get_hist_points\n",
    "\n"
   ]
  },
  {
   "cell_type": "code",
   "execution_count": 4,
   "metadata": {
    "collapsed": false,
    "deletable": true,
    "editable": true
   },
   "outputs": [],
   "source": [
    "home = os.path.expanduser(\"~\")\n",
    "filename = home + \"/VERITAS/GC/results/SgrA_disp5t_v255_okay-obs-4tel_medium_both_s6.root\"\n",
    "s6F = TFile(filename, \"read\")\n",
    "if not s6F.IsOpen():\n",
    "    print \"Failure!\"\n",
    "specAn = s6F.Get(\"Spectrum/VASpectrumAnl\")\n",
    "hMM = s6F.Get(\"Spectrum/hMigrationMatrix\")\n",
    "hFEH = s6F.Get(\"Spectrum/hFullExcessHist\")\n",
    "RBM = s6F.Get(\"RingBackgroundModelAnalysis\")\n",
    "\n",
    "specHist = specAn.GetSpectrumHist()\n",
    "rebinned_specHist = specAn.GetRebinnedSpectrumHist()\n",
    "specGraph = specAn.GetSpectrumGraph()\n"
   ]
  },
  {
   "cell_type": "code",
   "execution_count": 5,
   "metadata": {
    "collapsed": false
   },
   "outputs": [
    {
     "name": "stdout",
     "output_type": "stream",
     "text": [
      "E  [ Log10(TeV) ]\n",
      "[  2.81838293   4.46683592   7.07945784  11.22018454  17.7827941 ]\n",
      "[  3.64033803e-09   1.05522735e-09   3.23616467e-10   1.14158245e-10\n",
      "   2.72773488e-11]\n",
      "[  3.34238831e-10   1.08817913e-10   4.51352671e-11   2.11965827e-11\n",
      "   8.43257755e-12]\n",
      "<class 'ROOT.TGraphAsymmErrors'>\n"
     ]
    }
   ],
   "source": [
    "xlab = specHist.GetXaxis().GetTitle()\n",
    "ylab = specHist.GetYaxis().GetTitle()\n",
    "print xlab\n",
    "\n",
    "E, flux, flux_err = get_hist_points(rebinned_specHist)\n",
    "print E\n",
    "print flux\n",
    "print flux_err\n",
    "\n",
    "print type(specGraph)"
   ]
  },
  {
   "cell_type": "code",
   "execution_count": 6,
   "metadata": {
    "collapsed": false
   },
   "outputs": [
    {
     "name": "stdout",
     "output_type": "stream",
     "text": [
      "9.44156106362e-09\n",
      "0.113234169281\n",
      "-1.01431019844e-09\n"
     ]
    }
   ],
   "source": [
    "#%%rootprint\n",
    "tf1 = specGraph.GetFunction(\"fFitFunction\")\n",
    "fitnorm = tf1.GetParameter(0)\n",
    "fitindex = tf1.GetParameter(1)\n",
    "normenergy = tf1.GetParameter(2)\n",
    "\n",
    "r = specGraph.Fit(tf1, \"S\") #TFitResultPtr\n",
    "#for i in range(3):\n",
    "#    print tf1.GetParameter(i)\n",
    "    \n",
    "cov = r.GetCovarianceMatrix() #TMatrixTSym<double>\n",
    "cov.Print()\n",
    "\n",
    "var_norm = cov(0, 0)\n",
    "var_index = cov(1, 1)\n",
    "cov_normindex = cov(0, 1) # == (1, 0)\n",
    "\n",
    "print np.sqrt(var_norm)\n",
    "print np.sqrt(var_index)\n",
    "print cov_normindex\n",
    "\n",
    "#covarr = cov.GetMatrixArray()\n"
   ]
  },
  {
   "cell_type": "code",
   "execution_count": 53,
   "metadata": {
    "collapsed": false,
    "deletable": true,
    "editable": true
   },
   "outputs": [
    {
     "name": "stdout",
     "output_type": "stream",
     "text": [
      "[  0.           0.           2.80374901   4.44364272   7.04269909\n",
      "  11.16192585  17.69046029]\n",
      "[  0.00000000e+00   0.00000000e+00   3.64033803e-09   1.05522735e-09\n",
      "   3.23616467e-10   1.14158245e-10   2.72773488e-11]\n",
      "[[  0.00000000e+00   0.00000000e+00]\n",
      " [  0.00000000e+00   0.00000000e+00]\n",
      " [  3.34238831e-10   3.34238831e-10]\n",
      " [  1.08817913e-10   1.08817913e-10]\n",
      " [  4.51352671e-11   4.51352671e-11]\n",
      " [  2.11965827e-11   2.11965827e-11]\n",
      " [  8.43257755e-12   8.43257755e-12]]\n"
     ]
    }
   ],
   "source": [
    "npoints     = specGraph.GetN()\n",
    "\n",
    "x2, y2 = [], []\n",
    "y_err = []\n",
    "for i in range(npoints):\n",
    "    tmpX, tmpY = ROOT.Double(0), ROOT.Double(0)\n",
    "    specGraph.GetPoint(i, tmpX, tmpY)\n",
    "    x2.append(tmpX)\n",
    "    y2.append(tmpY)\n",
    "    y_err.append((specGraph.GetErrorYlow(i), specGraph.GetErrorYhigh(i)))\n",
    "    \n",
    "x2 = np.array(x2)\n",
    "y2 = np.array(y2)\n",
    "y_err = np.array(y_err)\n",
    "\n",
    "print x2\n",
    "print y2\n",
    "print y_err"
   ]
  },
  {
   "cell_type": "code",
   "execution_count": 7,
   "metadata": {
    "collapsed": false,
    "deletable": true,
    "editable": true
   },
   "outputs": [
    {
     "name": "stdout",
     "output_type": "stream",
     "text": [
      "TFile**\t\t/home/mbuchove/VERITAS/GC/results/SgrA_disp5t_v255_okay-obs-4tel_medium_both_s6.root\t\n",
      " TFile*\t\t/home/mbuchove/VERITAS/GC/results/SgrA_disp5t_v255_okay-obs-4tel_medium_both_s6.root\t\n",
      "  TDirectoryFile*\t\tSpectrum\tSpectrum\n",
      "   OBJ: TH2F\thMigrationMatrix\t : 0 at: 0x4b05b30\n",
      "   OBJ: TH1F\tStage6Spectrum_FullExcess\t : 0 at: 0x4b00960\n",
      "   KEY: VASpectrumAnl\tVASpectrumAnl;1\tSpectrum\n",
      "   KEY: TH2F\thMigrationMatrix;1\t\n",
      "   KEY: TH1F\thFullExcessHist;1\t\n",
      "  TDirectoryFile*\t\tRingBackgroundModelAnalysis\tRingBackgroundModelAnalysis\n",
      "   KEY: TDirectoryFile\tExclusionRegions;1\tExclusionRegions\n",
      "   KEY: TDirectoryFile\tAcceptanceCurves;1\tAcceptanceCurves\n",
      "   KEY: VASkyMap\tSkyMapOn;1\t\n",
      "   KEY: VASkyMap\tSkyMapOff;1\t\n",
      "   KEY: VASkyMap\tSkyMapDiff;1\t\n",
      "   KEY: VASkyMap\tSkyMapSig;1\t\n",
      "   KEY: VASkyMap\tfRingBackground;1\t\n",
      "   KEY: VASkyMap\tfAlphaMap;1\t\n",
      "   KEY: VASkyMap\tfAcceptanceMap;1\t\n",
      "   KEY: VASkyMap\tfIntAccMap;1\t\n",
      "   KEY: VASkyMap\tfIntOnMap;1\t\n",
      "   KEY: VASkyMap\tfSigMap;1\t\n",
      "   KEY: VASkyMap\tfExcessMap;1\t\n",
      "   KEY: VASkyMap\tfUncorrelatedExcessMap;1\t\n",
      "   KEY: TH1F\tOn_theta2;1\tRBM Analysis\n",
      "   KEY: TH1F\tAcceptancePlot;1\tAcceptance Plot\n",
      "   KEY: TH1F\tSigDistributionAllBins;1\tSign Distr for All Bins\n",
      "   KEY: TH1F\tSigDistributionMinusSourceExcl;1\tSign Distr Minus Source Exclusion\n",
      "   KEY: TH1F\tSigDistributionMinusStarExcl;1\tSign Distr Minus Star Exclusions\n",
      "   KEY: TH1F\tSigDistributionMinusAllExcl;1\tSign Distr Minus All Exclusions\n",
      "   KEY: VASkyMap\tf2dAcceptanceCamPlot;1\t\n",
      "   KEY: VASkyMap\tSkyMapOnForGroup0;1\t\n",
      "   KEY: VASkyMap\tSkyMapOffForGroup0;1\t\n",
      "   KEY: VASkyMap\tfAcceptanceMapForGroup0;1\t\n",
      "   KEY: VASkyMap\tf2dAcceptanceCamPlotForGroup0;1\t\n",
      "   KEY: VASkyMap\tfIntOnMapForGroup0;1\t\n",
      "   KEY: VASkyMap\tfRingBackgroundForGroup0;1\t\n",
      "   KEY: VASkyMap\tfAlphaMapForGroup0;1\t\n",
      "   KEY: VASkyMap\tfSigMapForGroup0;1\t\n",
      "   KEY: VASkyMap\tfExcessMapForGroup0;1\t\n",
      "   KEY: VASkyMap\tfUncorrelatedExcessMapForGroup0;1\t\n",
      "   KEY: VASkyMap\tfIntAccMapForGroup0;1\t\n",
      "   KEY: VASkyMap\tfWeightedRingBackgroundForGroup0;1\t\n",
      "   KEY: VASkyMap\tfACWeightedRingBackgroundForGroup0;1\t\n",
      "   KEY: TH1F\tAcceptancePlotForGroup0;1\tAcceptance Plot For Group 0\n",
      "   KEY: TH1F\tAcceptancePlotSmoothedForGroup0;1\tSmoothed Acceptance Plot For Group 0\n",
      "   KEY: VASkyMap\tSkyMapOnForGroup1;1\t\n",
      "   KEY: VASkyMap\tSkyMapOffForGroup1;1\t\n",
      "   KEY: VASkyMap\tfAcceptanceMapForGroup1;1\t\n",
      "   KEY: VASkyMap\tf2dAcceptanceCamPlotForGroup1;1\t\n",
      "   KEY: VASkyMap\tfIntOnMapForGroup1;1\t\n",
      "   KEY: VASkyMap\tfRingBackgroundForGroup1;1\t\n",
      "   KEY: VASkyMap\tfAlphaMapForGroup1;1\t\n",
      "   KEY: VASkyMap\tfSigMapForGroup1;1\t\n",
      "   KEY: VASkyMap\tfExcessMapForGroup1;1\t\n",
      "   KEY: VASkyMap\tfUncorrelatedExcessMapForGroup1;1\t\n",
      "   KEY: VASkyMap\tfIntAccMapForGroup1;1\t\n",
      "   KEY: VASkyMap\tfWeightedRingBackgroundForGroup1;1\t\n",
      "   KEY: VASkyMap\tfACWeightedRingBackgroundForGroup1;1\t\n",
      "   KEY: TH1F\tAcceptancePlotForGroup1;1\tAcceptance Plot For Group 1\n",
      "   KEY: TH1F\tAcceptancePlotSmoothedForGroup1;1\tSmoothed Acceptance Plot For Group 0Smoothed Acceptance Plot For Group 1\n",
      "   KEY: VAStarCat\tfStarCat;1\t\n",
      "  KEY: TDirectoryFile\tAnalysisSummary;1\tAnalysisSummary\n",
      "  KEY: TDirectoryFile\tWobbleAnalysis;1\tWobbleAnalysis\n",
      "  KEY: TDirectoryFile\tRingBackgroundModelAnalysis;1\tRingBackgroundModelAnalysis\n",
      "  KEY: TTree\tEventStatsTree;1\tEventwise Statistics for Lightcurves\n",
      "  KEY: TDirectoryFile\tLiveTime;1\tLiveTime\n",
      "  KEY: TDirectoryFile\tSpectrum;1\tSpectrum\n",
      "  KEY: TTree\tRunStatsTree;1\tRunwise Statistics\n",
      "\n",
      "3x3 matrix is as follows\n",
      "\n",
      "     |      0    |      1    |      2    |\n",
      "--------------------------------------------\n",
      "   0 |  8.914e-17  -1.014e-09           0 \n",
      "   1 | -1.014e-09     0.01282           0 \n",
      "   2 |          0           0           0 \n",
      "\n",
      "\n"
     ]
    }
   ],
   "source": [
    "%%rootprint\n",
    "s6F.ls()\n",
    "cov.Print()\n"
   ]
  }
 ],
 "metadata": {
  "kernelspec": {
   "display_name": "Python 2",
   "language": "python",
   "name": "python2"
  },
  "language_info": {
   "codemirror_mode": {
    "name": "ipython",
    "version": 2
   },
   "file_extension": ".py",
   "mimetype": "text/x-python",
   "name": "python",
   "nbconvert_exporter": "python",
   "pygments_lexer": "ipython2",
   "version": "2.7.12"
  }
 },
 "nbformat": 4,
 "nbformat_minor": 0
}
