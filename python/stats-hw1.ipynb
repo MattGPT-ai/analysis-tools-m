{
 "cells": [
  {
   "cell_type": "code",
   "execution_count": 2,
   "metadata": {
    "collapsed": true
   },
   "outputs": [],
   "source": [
    "import time\n",
    "import math\n",
    "import random\n",
    "from matplotlib import pyplot\n",
    "%matplotlib inline\n",
    "import numpy\n"
   ]
  },
  {
   "cell_type": "markdown",
   "metadata": {
    "collapsed": false
   },
   "source": [
    "<h2> Problem 1"
   ]
  },
  {
   "cell_type": "code",
   "execution_count": 3,
   "metadata": {
    "collapsed": false
   },
   "outputs": [],
   "source": [
    "def poisson_pdf(k, L):\n",
    "    p = L**k*math.exp(-L)/math.factorial(k)\n",
    "    return p"
   ]
  },
  {
   "cell_type": "code",
   "execution_count": 19,
   "metadata": {
    "collapsed": false
   },
   "outputs": [],
   "source": [
    "num_points = 10000000\n",
    "average = 50 # lambda \n",
    "T = 10\n",
    "dict_num_lists = dict()\n",
    "\n",
    "i = 0 \n",
    "while i < num_points: \n",
    "    t = T*numpy.random.rand()\n",
    "    n = numpy.random.poisson(average*t/T)\n",
    "    if n in dict_num_lists:\n",
    "        dict_num_lists[n].append(t)\n",
    "    else:\n",
    "        dict_num_lists[n] = [t]\n",
    "    i = i + 1\n",
    "    "
   ]
  },
  {
   "cell_type": "code",
   "execution_count": 20,
   "metadata": {
    "collapsed": true
   },
   "outputs": [],
   "source": [
    "L = float(average)\n",
    "def P_t_n(t,n):\n",
    "    return (L/(T*numpy.math.factorial(int(n))))*numpy.power((L*t/T),n)*numpy.exp(-L*t/T)/(1-numpy.exp(-L)*numpy.sum([numpy.power(L,k)/numpy.math.factorial(int(k)) for k in range(0,int(n)+1)]))\n"
   ]
  },
  {
   "cell_type": "code",
   "execution_count": 23,
   "metadata": {
    "collapsed": false
   },
   "outputs": [],
   "source": [
    "num_time_bins = 100\n",
    "time_bins = [None]*(num_time_bins+1)\n",
    "for i in range(0, num_time_bins+1):\n",
    "    time_bins[i] = T*i/num_time_bins\n",
    "    "
   ]
  },
  {
   "cell_type": "code",
   "execution_count": 24,
   "metadata": {
    "collapsed": false
   },
   "outputs": [
    {
     "data": {
      "text/plain": [
       "<matplotlib.text.Text at 0x114ffdac8>"
      ]
     },
     "execution_count": 24,
     "metadata": {},
     "output_type": "execute_result"
    },
    {
     "data": {
      "image/png": "[encoded data removed]",
      "text/plain": [
       "<matplotlib.figure.Figure at 0x1150374a8>"
      ]
     },
     "metadata": {},
     "output_type": "display_data"
    }
   ],
   "source": [
    "Nobs = 25\n",
    "hist_times = pyplot.hist(dict_num_lists[Nobs], time_bins, normed=True)\n",
    "t1 = numpy.arange(0.0, T, T/100.)\n",
    "pred_times = pyplot.plot(t1,P_t_n(t1,Nobs),'ro-')\n",
    "pyplot.title('Posterior function of time given %d people waiting' % Nobs)\n",
    "pyplot.xlabel('t')\n",
    "pyplot.ylabel('P(t|%d)' % Nobs)"
   ]
  },
  {
   "cell_type": "code",
   "execution_count": 25,
   "metadata": {
    "collapsed": false
   },
   "outputs": [],
   "source": [
    "Nmax = int(average*1.5)\n",
    "plot_array = numpy.ndarray((Nmax))\n",
    "\n",
    "for n in range(0, int(Nmax)):\n",
    "    time_list = dict_num_lists.get(n, [])\n",
    "    num_of_times = len(time_list)\n",
    "    total_time = sum(time_list)\n",
    "    expected_time = total_time / num_of_times\n",
    "    plot_array[n] = expected_time\n"
   ]
  },
  {
   "cell_type": "code",
   "execution_count": 30,
   "metadata": {
    "collapsed": false
   },
   "outputs": [],
   "source": [
    "n_vec = [j for j in range(0,int(Nmax)+1)]\n",
    "t_w = [T*(1-(n+1)/L*(1-numpy.exp(-L)*numpy.sum([numpy.power(L,k)/numpy.math.factorial(int(k)) for k in range(0,n+2)]))/(1-numpy.exp(-L)*numpy.sum([numpy.power(L,k)/numpy.math.factorial(int(k)) for k in range(0,n+1)]))) for n in n_vec]"
   ]
  },
  {
   "cell_type": "code",
   "execution_count": 36,
   "metadata": {
    "collapsed": false
   },
   "outputs": [
    {
     "data": {
      "image/png": "[encoded data removed]",
      "text/plain": [
       "<matplotlib.figure.Figure at 0x117c167b8>"
      ]
     },
     "metadata": {},
     "output_type": "display_data"
    }
   ],
   "source": [
    "plot_array2 = T - plot_array\n",
    "pyplot.plot(plot_array2, 'bo')\n",
    "pyplot.xlabel(\"N observed\")\n",
    "pyplot.ylabel(\"Expected wait time\")\n",
    "pyplot.plot(n_vec,t_w,'ro--')\n",
    "pyplot.show()"
   ]
  },
  {
   "cell_type": "markdown",
   "metadata": {},
   "source": [
    "<h2> Problem 2"
   ]
  },
  {
   "cell_type": "code",
   "execution_count": 11,
   "metadata": {
    "collapsed": false
   },
   "outputs": [],
   "source": [
    "num_points = 10000000\n",
    "max_num = 15\n",
    "num_num_lists = dict()\n",
    "\n",
    "i = 0 \n",
    "while i < num_points: \n",
    "    lam = numpy.random.rand() * max_num\n",
    "    N = numpy.random.poisson(lam)\n",
    "    M = numpy.random.poisson(lam)\n",
    "    if N in num_num_lists:\n",
    "        num_num_lists[N].append(M)\n",
    "    else:\n",
    "        num_num_lists[N] = [M]\n",
    "    i = i + 1\n",
    "    "
   ]
  },
  {
   "cell_type": "code",
   "execution_count": 39,
   "metadata": {
    "collapsed": true
   },
   "outputs": [],
   "source": [
    "def poisson2(m1,m2,N):\n",
    "    M_vec = [j+m1 for j in range(0,int(m2)+1)]\n",
    "    return [numpy.math.factorial(int(m+N))/(numpy.math.factorial(m)*numpy.math.factorial(int(N))*numpy.power(2,N+m+1)) for m in M_vec]\n"
   ]
  },
  {
   "cell_type": "code",
   "execution_count": 42,
   "metadata": {
    "collapsed": false
   },
   "outputs": [
    {
     "data": {
      "text/plain": [
       "[<matplotlib.lines.Line2D at 0x116734198>]"
      ]
     },
     "execution_count": 42,
     "metadata": {},
     "output_type": "execute_result"
    },
    {
     "data": {
      "image/png": "[encoded data removed]",
      "text/plain": [
       "<matplotlib.figure.Figure at 0x116734908>"
      ]
     },
     "metadata": {},
     "output_type": "display_data"
    }
   ],
   "source": [
    "num_bins = range(0, max_num+1)\n",
    "N_seen = 3\n",
    "hist_nums = pyplot.hist(num_num_lists[N_seen], num_bins, normed=True)\n",
    "pyplot.plot([j for j in range(0,max_num+1)], poisson2(0.,max_num,N_seen),'go-')"
   ]
  },
  {
   "cell_type": "markdown",
   "metadata": {},
   "source": [
    "<h3> Perfect agreement for all plots!"
   ]
  }
 ],
 "metadata": {
  "kernelspec": {
   "display_name": "Python 3",
   "language": "python",
   "name": "python3"
  },
  "language_info": {
   "codemirror_mode": {
    "name": "ipython",
    "version": 3
   },
   "file_extension": ".py",
   "mimetype": "text/x-python",
   "name": "python",
   "nbconvert_exporter": "python",
   "pygments_lexer": "ipython3",
   "version": "3.5.1"
  }
 },
 "nbformat": 4,
 "nbformat_minor": 0
}
