{
 "cells": [
  {
   "cell_type": "code",
   "execution_count": null,
   "metadata": {
    "collapsed": false,
    "scrolled": true
   },
   "outputs": [],
   "source": [
    "from astropy.io import fits\n",
    "from astropy import wcs\n",
    "from astropy.wcs import WCS\n",
    "import wcsaxes\n",
    "import numpy as np\n",
    "import aplpy\n",
    "import pandas\n",
    "import matplotlib.pyplot as plt\n",
    "from astropy.modeling import models, fitting\n",
    "import scipy.optimize\n",
    "%matplotlib inline \n",
    "\n"
   ]
  },
  {
   "cell_type": "code",
   "execution_count": null,
   "metadata": {
    "collapsed": false,
    "scrolled": true
   },
   "outputs": [],
   "source": [
    "HDUlist = fits.open(\"./release_galactic_skymap.fits\")\n",
    "HDUlist.info()\n",
    "\n"
   ]
  },
  {
   "cell_type": "code",
   "execution_count": null,
   "metadata": {
    "collapsed": false,
    "scrolled": false
   },
   "outputs": [],
   "source": [
    "skymap_data, skymap_header = fits.getdata(\"./release_galactic_skymap.fits\", header = True)\n",
    "\n",
    "print(skymap_data.shape)\n",
    "#subarr = skymap_data[115:125,115:125]\n",
    "#print(subarr)"
   ]
  },
  {
   "cell_type": "code",
   "execution_count": null,
   "metadata": {
    "collapsed": false,
    "scrolled": true
   },
   "outputs": [],
   "source": [
    "#wcs.WCS?\n",
    "wcs_SgrA = WCS(\"./release_galactic_skymap.fits\")\n",
    "#wcs_GC = wcs.WCS()\n",
    "#w=WCS(skymap_header)\n",
    "#w=WCS(HDUlist[0].header)\n",
    "fig = plt.figure(figsize=(8,8))\n",
    "ax = fig.add_subplot(1, 1, 1, projection = wcs_SgrA)\n",
    "#wx, wy = w.wcs_pix2world(0,0)\n",
    "\n",
    "plt.imshow(data, origin='lower')\n",
    "ax.grid(color='white', alpha=1, ls='solid')\n",
    "ax.set_xlabel(\"Galactic Longitude\")\n",
    "ax.set_ylabel(\"Galactic Latitude\")\n",
    "\n",
    "\n",
    "\n"
   ]
  },
  {
   "cell_type": "code",
   "execution_count": null,
   "metadata": {
    "collapsed": false
   },
   "outputs": [],
   "source": [
    "data = fits.getdata(\"./release_galactic_skymap.fits\")\n",
    "dataN = np.nan_to_num(data)\n",
    "#print(dataN[115:125,115:125])\n",
    "\n",
    "plt.figure()\n",
    "plt.imshow(dataN)\n",
    "plt.colorbar()"
   ]
  },
  {
   "cell_type": "code",
   "execution_count": null,
   "metadata": {
    "collapsed": false
   },
   "outputs": [],
   "source": [
    "def TwoD_Gaussian(coord, amp, x0, y0, sigma_x, sigma_y, base):\n",
    "    x, y = coord\n",
    "    g = amp*numpy.exp(-((x-x0)**2/(2*sigma_x**2)+(y-y0)**2/(2*sigma_y**2))) + base\n",
    "    return g.ravel()\n",
    "\n",
    "#np.power(x-x0,2)\n",
    "#%timeit()"
   ]
  },
  {
   "cell_type": "code",
   "execution_count": null,
   "metadata": {
    "collapsed": false
   },
   "outputs": [],
   "source": [
    "# Create x and y indices\n",
    "x = np.linspace(0, 239, 240)\n",
    "y = np.linspace(0, 239, 240)\n",
    "x, y = np.meshgrid(x, y)\n",
    "coords = x, y\n"
   ]
  },
  {
   "cell_type": "code",
   "execution_count": null,
   "metadata": {
    "collapsed": false
   },
   "outputs": [],
   "source": [
    "guess_SgrA_world = (1000,0,0,0.2,0.2,100)\n",
    "guess_SgrA_pix = (100,120,120,5,5,1)\n",
    "guess_G09_world = (250,0.08,0.87,.5,.5,50)\n",
    "#guess_G09_pix = (250,)\n",
    "#guess_J1745_world = (300)\n",
    "#guess_J1745_pix = (300)\n",
    "\n",
    "# Fitting for uncorrelated map, by pixel \n",
    "p_opt, p_cov = optimize.curve_fit(TwoD_Gaussian, coords, excess_data_N.ravel(), p0=guess_SgrA_pix,maxfev=2500)\n",
    "#p_opt, p_cov = optimize.curve_fit(TwoD_Gaussian, coords_world, excess_data_N.ravel(), p0=guess_world_G09,maxfev=2500)\n",
    "print(p_opt)\n",
    "#print(p_cov)\n",
    "\n",
    "#init_guess = (1000,120,120,1,1,100)\n",
    "#p_opt_G09, p_cov_G09 = optimize.curve_fit(TwoD_Gaussian, coords, residual_skymap.ravel(), p0=init_guess_G09)\n",
    "#p_opt, p_cov = scipy.optimize.curve_fit(TwoD_Gaussian, (x,y), dataN.ravel(), p0=init_guess)"
   ]
  },
  {
   "cell_type": "code",
   "execution_count": null,
   "metadata": {
    "collapsed": false
   },
   "outputs": [],
   "source": [
    "print(p_opt)\n",
    "print(p_cov)\n",
    "print(y[0:3,8:12])\n"
   ]
  },
  {
   "cell_type": "code",
   "execution_count": null,
   "metadata": {
    "collapsed": false
   },
   "outputs": [],
   "source": [
    "pointSource_excess = TwoD_Gaussian(coords, p_opt[0], p_opt[1], p_opt[2], p_opt[3], p_opt[4], p_opt[5])\n",
    "#print(pointSource_excess.reshape(240,240)[115:125,115:125])\n",
    "residual_skymap = dataN - pointSource_excess.reshape(240,240)\n",
    "\n",
    "fig_residual = plt.figure()\n",
    "print(type(fig_residual))\n",
    "plt.axis([50,190,80,150])\n",
    "plt.imshow(residual_skymap)\n",
    "plt.colorbar()\n",
    "\n",
    "\n",
    "#print(residual_skymap[115:125,115:125])\n",
    "fig_PS = pyplot.figure()\n",
    "pyplot.imshow(pointSource_excess.reshape(240,240))"
   ]
  },
  {
   "cell_type": "code",
   "execution_count": null,
   "metadata": {
    "collapsed": false
   },
   "outputs": [],
   "source": [
    "with open('/Users/mbuchove/Dropbox/GalacticCenter/spectralPoints/SgrA_4tels_noPoor_dNdE_TeV.txt') as infile:\n",
    "    filetext = infile.read()\n",
    "    linelist = filetext.split(sep='\\n')\n",
    "\n",
    "    for index, line in enumerate(linelist):\n",
    "        paramlist = line.split()\n",
    "        if len(paramlist) < 2:\n",
    "            del linelist[index]\n",
    "        \n",
    "    for line in linelist:\n",
    "        print(line)\n",
    "    \n",
    "    \n",
    "    infile.close()\n",
    "    \n",
    "    \n",
    "lines = list(open(\"/Users/mbuchove/Dropbox/GalacticCenter/spectralPoints/SgrA_4tels_noPoor_dNdE_TeV.txt\", \"r\"))\n",
    "linesSanitized = map(lambda each:each.strip(\"\\n\"), lines)\n",
    "print(linesSanitized)\n",
    "\n",
    "Celsius = [39.2, 36.5, 37.3, 37.8]\n",
    "Fahrenheit = map(lambda x: (float(9)/5)*x + 32, Celsius)\n",
    "print(*Fahrenheit)\n"
   ]
  }
 ],
 "metadata": {
  "kernelspec": {
   "display_name": "Python 3",
   "language": "python",
   "name": "python3"
  },
  "language_info": {
   "codemirror_mode": {
    "name": "ipython",
    "version": 3
   },
   "file_extension": ".py",
   "mimetype": "text/x-python",
   "name": "python",
   "nbconvert_exporter": "python",
   "pygments_lexer": "ipython3",
   "version": "3.5.1"
  }
 },
 "nbformat": 4,
 "nbformat_minor": 0
}
