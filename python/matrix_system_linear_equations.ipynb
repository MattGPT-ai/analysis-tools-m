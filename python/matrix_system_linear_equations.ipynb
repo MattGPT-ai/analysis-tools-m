{
 "cells": [
  {
   "cell_type": "code",
   "execution_count": 53,
   "metadata": {
    "collapsed": false
   },
   "outputs": [
    {
     "name": "stdout",
     "output_type": "stream",
     "text": [
      "Matrix A:\n",
      "[[ 1 -1 -1  0  0  0]\n",
      " [ 0  1  0 -1 -1  0]\n",
      " [ 0  0  1  1  0 -1]\n",
      " [ 0  6  0  0  4  0]\n",
      " [ 0  0 12  0  0  8]\n",
      " [ 0  0  0  0  4 -8]]\n",
      "Matrix B:\n",
      "[[ 0]\n",
      " [ 0]\n",
      " [ 0]\n",
      " [20]\n",
      " [20]\n",
      " [ 0]]\n",
      "\n",
      "current 0: 3.0 amps\n",
      "current 1: 2.0 amps\n",
      "current 2: 1.0 amps\n",
      "current 3: 0.0 amps\n",
      "current 4: 2.0 amps\n",
      "current 5: 1.0 amps\n"
     ]
    }
   ],
   "source": [
    "import numpy\n",
    "\n",
    "matrix_A = numpy.matrix('1,-1,-1,0,0,0;0,1,0,-1,-1,0;0,0,1,1,0,-1;0,6,0,0,4,0;0,0,12,0,0,8;0,0,0,0,4,-8')\n",
    "matrix_B = numpy.matrix('0;0;0;20;20;0')\n",
    "\n",
    "print(\"Matrix A:\")\n",
    "print(str(matrix_A))\n",
    "print(\"Matrix B:\")\n",
    "print(matrix_B)\n",
    "\n",
    "matrix_A_inverse = numpy.linalg.inv(matrix_A)\n",
    "\n",
    "dot_product = numpy.dot(matrix_A_inverse,matrix_B)\n",
    "#print(type(dot_product))\n",
    "\n",
    "print('')\n",
    "for i in range (0, len(dot_product)):\n",
    "    current_string = \"current \" + str(i) + \": \" + str(dot_product.item(i)) + \" amps\"\n",
    "    print(current_string)\n"
   ]
  },
  {
   "cell_type": "code",
   "execution_count": 86,
   "metadata": {
    "collapsed": false
   },
   "outputs": [
    {
     "name": "stdout",
     "output_type": "stream",
     "text": [
      "1.61803398875\n",
      "\n",
      "[[ 0.7236076]\n",
      " [ 0.2763924]]\n",
      "0.72360679775\n",
      "0.27639320225\n"
     ]
    }
   ],
   "source": [
    "sigma_1 = (1 + numpy.sqrt(5)) / 2\n",
    "sigma_2 = (1 - numpy.sqrt(5)) / 2 \n",
    "\n",
    "print(sigma_1)\n",
    "print\n",
    "\n",
    "coefficient_string = '%4.5f,%4.5f;%4.5f,%4.5f' % ( sigma_1, sigma_2, sigma_1**2, sigma_2**2 )\n",
    "coefficient_matrix = numpy.matrix(coefficient_string)\n",
    "matrix_right = numpy.matrix('1;2')\n",
    "\n",
    "matrix_left_inverse = numpy.linalg.inv(matrix_left)\n",
    "solutions = numpy.dot(matrix_left_inverse,matrix_right)\n",
    "print(solutions)\n",
    "\n",
    "print(sigma_1/numpy.sqrt(5))\n",
    "print(-sigma_2/numpy.sqrt(5))"
   ]
  },
  {
   "cell_type": "code",
   "execution_count": 21,
   "metadata": {
    "collapsed": false
   },
   "outputs": [
    {
     "data": {
      "text/plain": [
       "array([[  0.,   1.,   4.],\n",
       "       [  0.,   4.,  10.],\n",
       "       [  0.,   7.,  16.]])"
      ]
     },
     "execution_count": 21,
     "metadata": {},
     "output_type": "execute_result"
    }
   ],
   "source": [
    "\n",
    "x2 = numpy.arange(3.0)\n",
    "x1 = numpy.arange(9.0).reshape((3,3))\n",
    "\n",
    "numpy.multiply(x1,x2)\n"
   ]
  },
  {
   "cell_type": "code",
   "execution_count": 98,
   "metadata": {
    "collapsed": false
   },
   "outputs": [
    {
     "name": "stdout",
     "output_type": "stream",
     "text": [
      "<type 'numpy.float64'>\n",
      "hi\n"
     ]
    }
   ],
   "source": [
    "if type(x1) != type(sigma_1):\n",
    "    print(type(sigma_1))\n",
    "    \n",
    "float_test = 1 + 5**0.5\n",
    "try:\n",
    "    print(type(len(float_test)))\n",
    "except:\n",
    "    print('hi')\n",
    "    \n"
   ]
  }
 ],
 "metadata": {
  "kernelspec": {
   "display_name": "Python 2",
   "language": "python",
   "name": "python2"
  },
  "language_info": {
   "codemirror_mode": {
    "name": "ipython",
    "version": 2
   },
   "file_extension": ".py",
   "mimetype": "text/x-python",
   "name": "python",
   "nbconvert_exporter": "python",
   "pygments_lexer": "ipython2",
   "version": "2.7.11"
  }
 },
 "nbformat": 4,
 "nbformat_minor": 0
}
