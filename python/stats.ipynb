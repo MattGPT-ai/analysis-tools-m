{
 "cells": [
  {
   "cell_type": "code",
   "execution_count": 1,
   "metadata": {
    "collapsed": true
   },
   "outputs": [],
   "source": [
    "import time\n",
    "import math\n",
    "import random\n",
    "from matplotlib import pyplot\n",
    "%matplotlib inline\n",
    "import numpy\n"
   ]
  },
  {
   "cell_type": "markdown",
   "metadata": {},
   "source": [
    "<h2> Normal Distribution"
   ]
  },
  {
   "cell_type": "code",
   "execution_count": 2,
   "metadata": {
    "collapsed": false
   },
   "outputs": [],
   "source": [
    "num_trials = 1000000\n",
    "random.seed(time.time())\n",
    "array = numpy.ndarray(shape=(num_trials))\n"
   ]
  },
  {
   "cell_type": "code",
   "execution_count": 3,
   "metadata": {
    "collapsed": false
   },
   "outputs": [],
   "source": [
    "for i in range(0,num_trials):\n",
    "    x1 = random.random()\n",
    "    x2 = random.random()\n",
    "    f1 = math.sqrt(-2*math.log(x1))*math.cos(2*math.pi*x2)\n",
    "    f2 = math.sqrt(-2*math.log(x1))*math.sin(2*math.pi*x2)\n",
    "    array[i] = f1\n",
    "    "
   ]
  },
  {
   "cell_type": "code",
   "execution_count": 4,
   "metadata": {
    "collapsed": false
   },
   "outputs": [
    {
     "name": "stdout",
     "output_type": "stream",
     "text": [
      "[-5.5, -4.5, -3.5, -2.5, -1.5, -0.5, 0.5, 1.5, 2.5, 3.5, 4.5, 5.5]\n"
     ]
    }
   ],
   "source": [
    "bins = list(range(-5,7))\n",
    "for i in range(0,len(bins)):\n",
    "    bins[i] = bins[i] - 0.5\n",
    "\n",
    "print(bins)"
   ]
  },
  {
   "cell_type": "code",
   "execution_count": 5,
   "metadata": {
    "collapsed": false
   },
   "outputs": [
    {
     "data": {
      "image/png": "[encoded data removed]",
      "text/plain": [
       "<matplotlib.figure.Figure at 0x105997668>"
      ]
     },
     "metadata": {},
     "output_type": "display_data"
    }
   ],
   "source": [
    "hist_norm = pyplot.hist(array, bins)\n",
    "fig = pyplot.gcf\n"
   ]
  },
  {
   "cell_type": "markdown",
   "metadata": {},
   "source": [
    "<h2> Binomial distribution"
   ]
  },
  {
   "cell_type": "code",
   "execution_count": 6,
   "metadata": {
    "collapsed": false
   },
   "outputs": [],
   "source": [
    "number_of_families = 1000000\n",
    "random.seed(time.time())\n",
    "trial_array = numpy.ndarray((number_of_families))\n",
    "n_children_max = 0 \n",
    "total = 0 "
   ]
  },
  {
   "cell_type": "code",
   "execution_count": 7,
   "metadata": {
    "collapsed": false
   },
   "outputs": [],
   "source": [
    "for i in range(0,number_of_families):\n",
    "    n_sons = 0\n",
    "    n_children = 0 \n",
    "    while n_sons < 2:\n",
    "        coin_flip = random.random()\n",
    "        if coin_flip < 0.5:\n",
    "            n_sons = n_sons + 1\n",
    "        n_children = n_children + 1\n",
    "    trial_array[i] = n_children\n",
    "    total = total + n_children\n",
    "    if n_children > n_children_max:\n",
    "        n_children_max = n_children\n",
    "    "
   ]
  },
  {
   "cell_type": "code",
   "execution_count": 8,
   "metadata": {
    "collapsed": false
   },
   "outputs": [
    {
     "name": "stdout",
     "output_type": "stream",
     "text": [
      "3.999476\n"
     ]
    },
    {
     "data": {
      "image/png": "[encoded data removed]",
      "text/plain": [
       "<matplotlib.figure.Figure at 0x106473780>"
      ]
     },
     "metadata": {},
     "output_type": "display_data"
    }
   ],
   "source": [
    "bins_ch = list(range(0,n_children_max+1))\n",
    "hist_children = pyplot.hist(trial_array, bins_ch)\n",
    "fig_ch = pyplot.gcf()\n",
    "\n",
    "average = total / number_of_families\n",
    "print(average)"
   ]
  },
  {
   "cell_type": "code",
   "execution_count": 9,
   "metadata": {
    "collapsed": true
   },
   "outputs": [],
   "source": [
    "def binomial_dist(p,n,k):\n",
    "    P = math.factorial(n)/(math.factorial(k)*math.factorial(n-k))*(p)**k*(1-p)**(n-k)\n",
    "    return P\n"
   ]
  },
  {
   "cell_type": "code",
   "execution_count": 10,
   "metadata": {
    "collapsed": false
   },
   "outputs": [
    {
     "name": "stdout",
     "output_type": "stream",
     "text": [
      "k: 0\tP: 0.31640625\n",
      "k: 1\tP: 0.421875\n",
      "k: 2\tP: 0.2109375\n",
      "k: 3\tP: 0.046875\n",
      "k: 4\tP: 0.00390625\n",
      "1.0\n"
     ]
    }
   ],
   "source": [
    "p = 0.25\n",
    "n = 4 \n",
    "\n",
    "total = 0 \n",
    "for k in range(0,n+1):\n",
    "    P = binomial_dist(p, n, k)\n",
    "    string = \"k: \" + str(k) + \"\\tP: \" + str(P)\n",
    "    print(string)\n",
    "    total = total + P\n",
    "    \n",
    "print(total)"
   ]
  },
  {
   "cell_type": "markdown",
   "metadata": {},
   "source": [
    "<h2> Fun with Poisson"
   ]
  },
  {
   "cell_type": "code",
   "execution_count": 11,
   "metadata": {
    "collapsed": false
   },
   "outputs": [],
   "source": [
    "def poisson_pdf(k, L):\n",
    "    p = L**k*math.exp(-L)/math.factorial(k)\n",
    "    return p"
   ]
  },
  {
   "cell_type": "code",
   "execution_count": 12,
   "metadata": {
    "collapsed": false
   },
   "outputs": [],
   "source": [
    "num_points = 10000000\n",
    "average = 50 # lambda \n",
    "T = 10\n",
    "dict_num_lists = dict()\n",
    "\n",
    "i = 0 \n",
    "while i < num_points: \n",
    "    t = numpy.random.rand()\n",
    "    n = numpy.random.poisson(t*average)\n",
    "    if n in dict_num_lists:\n",
    "        dict_num_lists[n].append(t)\n",
    "    else:\n",
    "        dict_num_lists[n] = [t]\n",
    "    i = i + 1\n",
    "    "
   ]
  },
  {
   "cell_type": "code",
   "execution_count": 16,
   "metadata": {
    "collapsed": false
   },
   "outputs": [],
   "source": [
    "def find_prob_of_time(n):\n",
    "    time_list = dict_num_lists[n]\n",
    "    for time in time_list:\n",
    "        print(time)\n",
    "    "
   ]
  },
  {
   "cell_type": "code",
   "execution_count": 18,
   "metadata": {
    "collapsed": false
   },
   "outputs": [],
   "source": [
    "num_time_bins = 100\n",
    "time_bins = [None]*(num_time_bins+1)\n",
    "for i in range(0, num_time_bins+1):\n",
    "    time_bins[i] = i/num_time_bins\n",
    "    "
   ]
  },
  {
   "cell_type": "code",
   "execution_count": 43,
   "metadata": {
    "collapsed": false
   },
   "outputs": [
    {
     "data": {
      "image/png": "[encoded data removed]",
      "text/plain": [
       "<matplotlib.figure.Figure at 0x1189ab8d0>"
      ]
     },
     "metadata": {},
     "output_type": "display_data"
    }
   ],
   "source": [
    "Nobs = 25\n",
    "hist_times = pyplot.hist(dict_num_lists[Nobs], time_bins, normed=True)"
   ]
  },
  {
   "cell_type": "code",
   "execution_count": 57,
   "metadata": {
    "collapsed": false
   },
   "outputs": [
    {
     "name": "stdout",
     "output_type": "stream",
     "text": [
      "[ 0.0199868   0.03998588  0.05989905  0.07994219  0.09998663  0.11994175\n",
      "  0.140068    0.16003884  0.18029164  0.20015231  0.21987434  0.24031589\n",
      "  0.25975437  0.27979583  0.29976424  0.32006299  0.33972221  0.36001923\n",
      "  0.38007283  0.39978621  0.42010299  0.44014082  0.45979308  0.47986176\n",
      "  0.50054544  0.52013932  0.54033205  0.56016512  0.57948306  0.5997365\n",
      "  0.61952883  0.63904301  0.6582862   0.67716633  0.69591298  0.71449946\n",
      "  0.73241964  0.74870515  0.76626143  0.78201317  0.79644882  0.81048572\n",
      "  0.82374891  0.83545508  0.84705091  0.85760299  0.86738573  0.87591805\n",
      "  0.88403859  0.89146415  0.89814179  0.90443955  0.91019777  0.91560533\n",
      "  0.91983776  0.92422639  0.92849908  0.93140516  0.9352155   0.93792875]\n"
     ]
    }
   ],
   "source": [
    "Nmax = int(average*1.2)\n",
    "plot_array = numpy.ndarray((Nmax))\n",
    "\n",
    "for n in range(0, int(Nmax)):\n",
    "    time_list = dict_num_lists.get(n, [])\n",
    "    num_of_times = len(time_list)\n",
    "    total_time = sum(time_list)\n",
    "    expected_time = total_time / num_of_times\n",
    "    plot_array[n] = expected_time\n",
    "\n",
    "print(plot_array)"
   ]
  },
  {
   "cell_type": "code",
   "execution_count": 58,
   "metadata": {
    "collapsed": false
   },
   "outputs": [
    {
     "data": {
      "text/plain": [
       "[<matplotlib.lines.Line2D at 0x11b1be550>]"
      ]
     },
     "execution_count": 58,
     "metadata": {},
     "output_type": "execute_result"
    },
    {
     "data": {
      "image/png": "[encoded data removed]",
      "text/plain": [
       "<matplotlib.figure.Figure at 0x11b202fd0>"
      ]
     },
     "metadata": {},
     "output_type": "display_data"
    }
   ],
   "source": [
    "pyplot.plot(plot_array)"
   ]
  },
  {
   "cell_type": "code",
   "execution_count": 59,
   "metadata": {
    "collapsed": false
   },
   "outputs": [
    {
     "data": {
      "text/plain": [
       "[<matplotlib.lines.Line2D at 0x1184cea20>]"
      ]
     },
     "execution_count": 59,
     "metadata": {},
     "output_type": "execute_result"
    },
    {
     "data": {
      "image/png": "[encoded data removed]",
      "text/plain": [
       "<matplotlib.figure.Figure at 0x11a409358>"
      ]
     },
     "metadata": {},
     "output_type": "display_data"
    }
   ],
   "source": [
    "plot_array2 = 1. - plot_array\n",
    "pyplot.plot(plot_array2)"
   ]
  },
  {
   "cell_type": "markdown",
   "metadata": {},
   "source": [
    "<h2> Problem 2"
   ]
  },
  {
   "cell_type": "code",
   "execution_count": 92,
   "metadata": {
    "collapsed": false
   },
   "outputs": [],
   "source": [
    "num_points = 10000000\n",
    "max_num = 15\n",
    "num_num_lists = dict()\n",
    "\n",
    "i = 0 \n",
    "while i < num_points: \n",
    "    lam = numpy.random.rand() * max_num\n",
    "    N = numpy.random.poisson(lam)\n",
    "    M = numpy.random.poisson(lam)\n",
    "    if N in num_num_lists:\n",
    "        num_num_lists[N].append(M)\n",
    "    else:\n",
    "        num_num_lists[N] = [M]\n",
    "    i = i + 1\n",
    "    "
   ]
  },
  {
   "cell_type": "code",
   "execution_count": 93,
   "metadata": {
    "collapsed": false
   },
   "outputs": [
    {
     "data": {
      "image/png": "[encoded data removed]",
      "text/plain": [
       "<matplotlib.figure.Figure at 0x1189b9e80>"
      ]
     },
     "metadata": {},
     "output_type": "display_data"
    }
   ],
   "source": [
    "num_bins = range(0, max_num+1)\n",
    "N_seen = 3\n",
    "hist_nums = pyplot.hist(num_num_lists[N_seen], num_bins, normed=True)\n"
   ]
  },
  {
   "cell_type": "code",
   "execution_count": 75,
   "metadata": {
    "collapsed": false
   },
   "outputs": [
    {
     "name": "stdout",
     "output_type": "stream",
     "text": [
      "[7]\n"
     ]
    }
   ],
   "source": [
    "print(num_num_lists[2])"
   ]
  },
  {
   "cell_type": "code",
   "execution_count": 44,
   "metadata": {
    "collapsed": false
   },
   "outputs": [
    {
     "name": "stdout",
     "output_type": "stream",
     "text": [
      "The slowest run took 1668.84 times longer than the fastest. This could mean that an intermediate result is being cached \n",
      "1000000 loops, best of 3: 652 ns per loop\n"
     ]
    }
   ],
   "source": [
    "timeit(numpy.random.poisson(average))\n",
    "for i in range(0, num_time_bins+1):\n",
    "        total_time = total_time + time_list[i]\n"
   ]
  }
 ],
 "metadata": {
  "kernelspec": {
   "display_name": "Python 3",
   "language": "python",
   "name": "python3"
  },
  "language_info": {
   "codemirror_mode": {
    "name": "ipython",
    "version": 3
   },
   "file_extension": ".py",
   "mimetype": "text/x-python",
   "name": "python",
   "nbconvert_exporter": "python",
   "pygments_lexer": "ipython3",
   "version": "3.5.1"
  }
 },
 "nbformat": 4,
 "nbformat_minor": 0
}
